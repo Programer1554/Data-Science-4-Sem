{
  "nbformat": 4,
  "nbformat_minor": 0,
  "metadata": {
    "colab": {
      "provenance": [],
      "authorship_tag": "ABX9TyP6mU+GWm4gf16umfvTkkb0",
      "include_colab_link": true
    },
    "kernelspec": {
      "name": "python3",
      "display_name": "Python 3"
    },
    "language_info": {
      "name": "python"
    }
  },
  "cells": [
    {
      "cell_type": "markdown",
      "metadata": {
        "id": "view-in-github",
        "colab_type": "text"
      },
      "source": [
        "<a href=\"https://colab.research.google.com/github/Programer1554/Data-Science-4-Sem/blob/main/Oops_exception.ipynb\" target=\"_parent\"><img src=\"https://colab.research.google.com/assets/colab-badge.svg\" alt=\"Open In Colab\"/></a>"
      ]
    },
    {
      "cell_type": "markdown",
      "source": [
        "#What is Production Environment?\n",
        "\n",
        "Production environment is a term used mostly by developers to describe the setting where software and other products are actually put into operation for their intended uses by end users.\n",
        "\n",
        "Concepts that will be useful in writing production grade code:\n",
        "\n",
        "*   Object Oriented Programming\n",
        "*   Handling Errors and Exceptions\n",
        "\n"
      ],
      "metadata": {
        "id": "PSQBfvinOIwX"
      }
    },
    {
      "cell_type": "markdown",
      "source": [
        "#Object Oriented Programming"
      ],
      "metadata": {
        "id": "_tFizGR3PV5l"
      }
    },
    {
      "cell_type": "code",
      "source": [
        "empty_list=[]\n",
        "empty_list"
      ],
      "metadata": {
        "colab": {
          "base_uri": "https://localhost:8080/"
        },
        "id": "xDkDbqAmPa4D",
        "outputId": "0dd7ddee-afa9-451a-9521-e290c30f069e"
      },
      "execution_count": 1,
      "outputs": [
        {
          "output_type": "execute_result",
          "data": {
            "text/plain": [
              "[]"
            ]
          },
          "metadata": {},
          "execution_count": 1
        }
      ]
    },
    {
      "cell_type": "code",
      "source": [
        "another_empty_list=list()\n",
        "another_empty_list"
      ],
      "metadata": {
        "colab": {
          "base_uri": "https://localhost:8080/"
        },
        "id": "12v0VJ7aPu4g",
        "outputId": "9033681f-13c1-43fa-e231-e85abcf8ce19"
      },
      "execution_count": 2,
      "outputs": [
        {
          "output_type": "execute_result",
          "data": {
            "text/plain": [
              "[]"
            ]
          },
          "metadata": {},
          "execution_count": 2
        }
      ]
    },
    {
      "cell_type": "code",
      "source": [
        "another_empty_list.append(1)\n",
        "another_empty_list"
      ],
      "metadata": {
        "colab": {
          "base_uri": "https://localhost:8080/"
        },
        "id": "BWudTP3iHj4I",
        "outputId": "48d73fb9-1097-4ed5-cb02-4b214afdcaa0"
      },
      "execution_count": 3,
      "outputs": [
        {
          "output_type": "execute_result",
          "data": {
            "text/plain": [
              "[1]"
            ]
          },
          "metadata": {},
          "execution_count": 3
        }
      ]
    },
    {
      "cell_type": "code",
      "source": [
        "another_empty_list.append(2)\n",
        "another_empty_list.append(3)\n",
        "another_empty_list"
      ],
      "metadata": {
        "colab": {
          "base_uri": "https://localhost:8080/"
        },
        "id": "HCwxHPm1HqMF",
        "outputId": "2e931ec8-4a8c-4e23-ff52-7b33d7396d46"
      },
      "execution_count": 4,
      "outputs": [
        {
          "output_type": "execute_result",
          "data": {
            "text/plain": [
              "[1, 2, 3]"
            ]
          },
          "metadata": {},
          "execution_count": 4
        }
      ]
    },
    {
      "cell_type": "code",
      "source": [
        "another_empty_list.index(2)"
      ],
      "metadata": {
        "colab": {
          "base_uri": "https://localhost:8080/"
        },
        "id": "cBI8cpDiHxK2",
        "outputId": "4fd832d6-34d9-468b-d4e7-678a83819d79"
      },
      "execution_count": 5,
      "outputs": [
        {
          "output_type": "execute_result",
          "data": {
            "text/plain": [
              "1"
            ]
          },
          "metadata": {},
          "execution_count": 5
        }
      ]
    },
    {
      "cell_type": "markdown",
      "source": [
        "#Objects"
      ],
      "metadata": {
        "id": "jhfSDJouH2Sn"
      }
    },
    {
      "cell_type": "code",
      "source": [
        "the_sixth_sense=6\n",
        "print(type(the_sixth_sense))"
      ],
      "metadata": {
        "colab": {
          "base_uri": "https://localhost:8080/"
        },
        "id": "fZz8zMENH4JB",
        "outputId": "351e1425-c56f-4a1f-e61d-1c5cfbb70020"
      },
      "execution_count": 6,
      "outputs": [
        {
          "output_type": "stream",
          "name": "stdout",
          "text": [
            "<class 'int'>\n"
          ]
        }
      ]
    },
    {
      "cell_type": "code",
      "source": [
        "two_and_a_half_men=2.5\n",
        "print(type(two_and_a_half_men))"
      ],
      "metadata": {
        "colab": {
          "base_uri": "https://localhost:8080/"
        },
        "id": "Xym-wUcYH-Cn",
        "outputId": "0030e454-edb1-4fc8-af5e-23912d26bfaa"
      },
      "execution_count": 7,
      "outputs": [
        {
          "output_type": "stream",
          "name": "stdout",
          "text": [
            "<class 'float'>\n"
          ]
        }
      ]
    },
    {
      "cell_type": "code",
      "source": [
        "empty_list=list()\n",
        "print(type(empty_list))"
      ],
      "metadata": {
        "colab": {
          "base_uri": "https://localhost:8080/"
        },
        "id": "Gakiyt_yIFiY",
        "outputId": "9c581631-b03c-47cf-8de8-260ca9d0196e"
      },
      "execution_count": 8,
      "outputs": [
        {
          "output_type": "stream",
          "name": "stdout",
          "text": [
            "<class 'list'>\n"
          ]
        }
      ]
    },
    {
      "cell_type": "code",
      "source": [
        "tharoor={'farrago':'a confused mixture'}\n",
        "print(type(tharoor))"
      ],
      "metadata": {
        "colab": {
          "base_uri": "https://localhost:8080/"
        },
        "id": "8jIrX2JRIMIg",
        "outputId": "85ab8f7f-2a31-4c02-d934-ff9d5bc5a21f"
      },
      "execution_count": 9,
      "outputs": [
        {
          "output_type": "stream",
          "name": "stdout",
          "text": [
            "<class 'dict'>\n"
          ]
        }
      ]
    },
    {
      "cell_type": "markdown",
      "source": [
        "#Class"
      ],
      "metadata": {
        "id": "6W5o1kiqIZJD"
      }
    },
    {
      "cell_type": "code",
      "source": [
        "#Create a new objec type called FirstClass\n",
        "class FirstClass():\n",
        "  pass\n",
        "\n",
        "#Instance of FirstClass\n",
        "x=FirstClass()\n",
        "\n",
        "print(type(x))"
      ],
      "metadata": {
        "colab": {
          "base_uri": "https://localhost:8080/"
        },
        "id": "uEhrthvdIbMW",
        "outputId": "8d8acaa7-39f1-4c1d-8cda-605dfc2ba63c"
      },
      "execution_count": 10,
      "outputs": [
        {
          "output_type": "stream",
          "name": "stdout",
          "text": [
            "<class '__main__.FirstClass'>\n"
          ]
        }
      ]
    },
    {
      "cell_type": "code",
      "source": [
        "y=FirstClass()\n",
        "print(type(y))"
      ],
      "metadata": {
        "colab": {
          "base_uri": "https://localhost:8080/"
        },
        "id": "dKN9MkVbIm3q",
        "outputId": "af21225f-4c3b-4b33-a6a9-542e5ab97f9f"
      },
      "execution_count": 11,
      "outputs": [
        {
          "output_type": "stream",
          "name": "stdout",
          "text": [
            "<class '__main__.FirstClass'>\n"
          ]
        }
      ]
    },
    {
      "cell_type": "markdown",
      "source": [
        "#Attributes"
      ],
      "metadata": {
        "id": "pfbeRnpHIosq"
      }
    },
    {
      "cell_type": "code",
      "source": [
        "#Syntax\n",
        "self.attribute=something"
      ],
      "metadata": {
        "id": "e9TCFllVIsRX"
      },
      "execution_count": null,
      "outputs": []
    },
    {
      "cell_type": "code",
      "source": [
        "class Dog:\n",
        "  def __init__(self,breed,name):\n",
        "    self.breed_attribute=breed\n",
        "    self.name_attribute=name\n",
        "\n",
        "sam_object=Dog(breed='Lab', name=\"Sam\")\n",
        "frank_object=Dog(breed='Huskie', name=\"Frank\")\n",
        "sam_object.breed_attribute"
      ],
      "metadata": {
        "colab": {
          "base_uri": "https://localhost:8080/",
          "height": 36
        },
        "id": "rvuvdAGMI3ca",
        "outputId": "d00a5224-fecf-4065-b434-e005e2f90e34"
      },
      "execution_count": 12,
      "outputs": [
        {
          "output_type": "execute_result",
          "data": {
            "text/plain": [
              "'Lab'"
            ],
            "application/vnd.google.colaboratory.intrinsic+json": {
              "type": "string"
            }
          },
          "metadata": {},
          "execution_count": 12
        }
      ]
    },
    {
      "cell_type": "code",
      "source": [
        "def __init__(self,breed):\n",
        "  self.breed=breed"
      ],
      "metadata": {
        "id": "dSelXkXFJaTf"
      },
      "execution_count": 13,
      "outputs": []
    },
    {
      "cell_type": "code",
      "source": [
        "sam_object.name_attribute"
      ],
      "metadata": {
        "colab": {
          "base_uri": "https://localhost:8080/",
          "height": 36
        },
        "id": "TVHA1cXzJck6",
        "outputId": "0c8ba74b-34e9-4039-e43f-10e9b2d0a658"
      },
      "execution_count": 14,
      "outputs": [
        {
          "output_type": "execute_result",
          "data": {
            "text/plain": [
              "'Sam'"
            ],
            "application/vnd.google.colaboratory.intrinsic+json": {
              "type": "string"
            }
          },
          "metadata": {},
          "execution_count": 14
        }
      ]
    },
    {
      "cell_type": "code",
      "source": [
        "frank_object.name_attribute"
      ],
      "metadata": {
        "colab": {
          "base_uri": "https://localhost:8080/",
          "height": 36
        },
        "id": "xkeIEs0dJgGU",
        "outputId": "ba67ff38-2178-4a92-d374-0b312a4c661e"
      },
      "execution_count": 15,
      "outputs": [
        {
          "output_type": "execute_result",
          "data": {
            "text/plain": [
              "'Frank'"
            ],
            "application/vnd.google.colaboratory.intrinsic+json": {
              "type": "string"
            }
          },
          "metadata": {},
          "execution_count": 15
        }
      ]
    },
    {
      "cell_type": "markdown",
      "source": [
        "#Methods"
      ],
      "metadata": {
        "id": "kmpXY1KWJj8k"
      }
    },
    {
      "cell_type": "code",
      "source": [
        "class Circle:\n",
        "  def __init__(self, radius=1):\n",
        "    self.radius=radius\n",
        "    self.area=radius*radius*3.14\n",
        "\n",
        "  def setRadius(self,new_radius):\n",
        "    self.radius=new_radius\n",
        "    self.area=new_radius*new_radius*3.14\n",
        "\n",
        "  def getCircumference(self):\n",
        "    return self.radius*3.14*2\n",
        "\n",
        "c=Circle(2)\n",
        "c.area"
      ],
      "metadata": {
        "colab": {
          "base_uri": "https://localhost:8080/"
        },
        "id": "oo-6a48yJt6E",
        "outputId": "fda74476-af0e-4617-8c0a-7ec31a926e06"
      },
      "execution_count": 24,
      "outputs": [
        {
          "output_type": "stream",
          "name": "stdout",
          "text": [
            "Radius is:  2\n",
            "Area is:  12.56\n",
            "Circumference is:  12.56\n"
          ]
        },
        {
          "output_type": "execute_result",
          "data": {
            "text/plain": [
              "12.56"
            ]
          },
          "metadata": {},
          "execution_count": 24
        }
      ]
    },
    {
      "cell_type": "code",
      "source": [
        "c.setRadius(3)\n",
        "c.getCircumference()"
      ],
      "metadata": {
        "colab": {
          "base_uri": "https://localhost:8080/"
        },
        "id": "zTGQQSn9K-Vg",
        "outputId": "d412ec9c-5cf0-4493-a25d-ffe735912ebf"
      },
      "execution_count": 25,
      "outputs": [
        {
          "output_type": "execute_result",
          "data": {
            "text/plain": [
              "18.84"
            ]
          },
          "metadata": {},
          "execution_count": 25
        }
      ]
    },
    {
      "cell_type": "code",
      "source": [
        "print('Radius is: ',c.radius)\n",
        "print('Area is: ',c.area)\n",
        "print('Circumference is: ',c.getCircumference())"
      ],
      "metadata": {
        "colab": {
          "base_uri": "https://localhost:8080/"
        },
        "id": "Y_4dC-INLCH2",
        "outputId": "9ab07361-7179-4338-f940-b944aefa7c12"
      },
      "execution_count": 27,
      "outputs": [
        {
          "output_type": "stream",
          "name": "stdout",
          "text": [
            "Radius is:  3\n",
            "Area is:  28.26\n",
            "Circumference is:  18.84\n"
          ]
        }
      ]
    },
    {
      "cell_type": "code",
      "source": [
        "#Changing radius\n",
        "c.setRadius(4)\n",
        "print('Radius is: ',c.radius)\n",
        "print('Area is: ',c.area)\n",
        "print('Circumference is: ',c.getCircumference())"
      ],
      "metadata": {
        "colab": {
          "base_uri": "https://localhost:8080/"
        },
        "id": "dX2c6lomLHY1",
        "outputId": "fe2014ac-d5db-407f-804c-b016311f4e65"
      },
      "execution_count": 28,
      "outputs": [
        {
          "output_type": "stream",
          "name": "stdout",
          "text": [
            "Radius is:  4\n",
            "Area is:  50.24\n",
            "Circumference is:  25.12\n"
          ]
        }
      ]
    },
    {
      "cell_type": "markdown",
      "source": [
        "#Polymorphism"
      ],
      "metadata": {
        "id": "Djp09cbeLP4I"
      }
    },
    {
      "cell_type": "code",
      "source": [
        "class HouseStark:\n",
        "  def __init__(self, sigil):\n",
        "    self.sigil=sigil\n",
        "  def motto(self):\n",
        "    return \"House Stark with sigil \" + self.sigil + \" has the motto 'Winter is coming'\"\n",
        "\n",
        "class HouseLannister:\n",
        "  def __init__(self, sigil):\n",
        "    self.sigil=sigil\n",
        "  def motto(self):\n",
        "    return \"Lannister with sigil \" + self.sigil + \" has the motto 'Hear me roar'\"\n",
        "\n",
        "stark=HouseStark(\"direwolf\")\n",
        "lannister=HouseLannister(\"Golden lion\")\n",
        "\n",
        "print(stark.motto())\n",
        "print(lannister.motto())"
      ],
      "metadata": {
        "colab": {
          "base_uri": "https://localhost:8080/"
        },
        "id": "fxd3UnP0LSKt",
        "outputId": "da907d09-fcb5-44ba-fba3-ced67a1a5e79"
      },
      "execution_count": 31,
      "outputs": [
        {
          "output_type": "stream",
          "name": "stdout",
          "text": [
            "House Stark with sigil direwolf has the motto 'Winter is coming'\n",
            "Lannister with sigil Golden lion has the motto 'Hear me roar'\n"
          ]
        }
      ]
    },
    {
      "cell_type": "code",
      "source": [
        "for warrior in [stark, lannister]:\n",
        "  print(warrior.motto())"
      ],
      "metadata": {
        "colab": {
          "base_uri": "https://localhost:8080/"
        },
        "id": "KQKahqGsbfc6",
        "outputId": "9e8633de-f4f4-4ab4-afcf-83723bdd2dcd"
      },
      "execution_count": 32,
      "outputs": [
        {
          "output_type": "stream",
          "name": "stdout",
          "text": [
            "House Stark with sigil direwolf has the motto 'Winter is coming'\n",
            "Lannister with sigil Golden lion has the motto 'Hear me roar'\n"
          ]
        }
      ]
    },
    {
      "cell_type": "code",
      "source": [
        "def motto_print(warrior):\n",
        "  print(warrior.motto())\n",
        "\n",
        "motto_print(stark)\n",
        "motto_print(lannister)"
      ],
      "metadata": {
        "colab": {
          "base_uri": "https://localhost:8080/"
        },
        "id": "QwtkcYEZbptB",
        "outputId": "47ed5e7b-be0b-4f56-c4d0-98162c931761"
      },
      "execution_count": 33,
      "outputs": [
        {
          "output_type": "stream",
          "name": "stdout",
          "text": [
            "House Stark with sigil direwolf has the motto 'Winter is coming'\n",
            "Lannister with sigil Golden lion has the motto 'Hear me roar'\n"
          ]
        }
      ]
    },
    {
      "cell_type": "markdown",
      "source": [
        "#Errors and Exception Handling"
      ],
      "metadata": {
        "id": "xPKmlBrYbsxU"
      }
    },
    {
      "cell_type": "code",
      "source": [
        "print('XGBoost)"
      ],
      "metadata": {
        "colab": {
          "base_uri": "https://localhost:8080/",
          "height": 106
        },
        "id": "21K3SezJb033",
        "outputId": "c0e4af7c-c1e9-4aff-afd0-426cdf3adb28"
      },
      "execution_count": 34,
      "outputs": [
        {
          "output_type": "error",
          "ename": "SyntaxError",
          "evalue": "unterminated string literal (detected at line 1) (<ipython-input-34-4c062b08efa2>, line 1)",
          "traceback": [
            "\u001b[0;36m  File \u001b[0;32m\"<ipython-input-34-4c062b08efa2>\"\u001b[0;36m, line \u001b[0;32m1\u001b[0m\n\u001b[0;31m    print('XGBoost)\u001b[0m\n\u001b[0m          ^\u001b[0m\n\u001b[0;31mSyntaxError\u001b[0m\u001b[0;31m:\u001b[0m unterminated string literal (detected at line 1)\n"
          ]
        }
      ]
    },
    {
      "cell_type": "code",
      "source": [
        "#try and except\n",
        "#Syntax\n",
        "try:\n",
        "  #You do your operations here...\n",
        "except:\n",
        "  #If there is an exception, then execute this block\n",
        "else:\n",
        "  #If there is no exception, then execute this block"
      ],
      "metadata": {
        "id": "d7VfaE80b53H"
      },
      "execution_count": null,
      "outputs": []
    },
    {
      "cell_type": "code",
      "source": [
        "try:\n",
        "  print(\"Good to go!\")\n",
        "  print(x)\n",
        "except:\n",
        "  print(\"Something went wrong\")\n",
        "else:\n",
        "  print(\"Nothing went wrong\")"
      ],
      "metadata": {
        "colab": {
          "base_uri": "https://localhost:8080/"
        },
        "id": "X3rXupDDcR9b",
        "outputId": "07295ba6-38c4-4a69-ed43-1e4084a412d6"
      },
      "execution_count": 35,
      "outputs": [
        {
          "output_type": "stream",
          "name": "stdout",
          "text": [
            "Good to go!\n",
            "<__main__.FirstClass object at 0x7bda4a09bd50>\n",
            "Nothing went wrong\n"
          ]
        }
      ]
    },
    {
      "cell_type": "code",
      "source": [
        "#finally\n",
        "try:\n",
        "  print(\"Execute try statements\")\n",
        "except:\n",
        "  print(\"Always execute exception blocks\")\n",
        "finally:\n",
        "  print(\"Always execute finally blocks\")"
      ],
      "metadata": {
        "colab": {
          "base_uri": "https://localhost:8080/"
        },
        "id": "Ob5YkgFKcmtD",
        "outputId": "17e0ed43-fe92-4e2c-b61d-fcce5a48d41d"
      },
      "execution_count": 37,
      "outputs": [
        {
          "output_type": "stream",
          "name": "stdout",
          "text": [
            "Execute try statements\n",
            "Always execute finally blocks\n"
          ]
        }
      ]
    },
    {
      "cell_type": "code",
      "source": [
        "a=1\n",
        "b=0.2\n",
        "try:\n",
        "  print('abc')\n",
        "except:\n",
        "  print(\"sddj string is not present\")"
      ],
      "metadata": {
        "colab": {
          "base_uri": "https://localhost:8080/"
        },
        "id": "FX9AmfEvc-hN",
        "outputId": "eb74bd43-4d05-493b-c33e-6e6d662dedc0"
      },
      "execution_count": 38,
      "outputs": [
        {
          "output_type": "stream",
          "name": "stdout",
          "text": [
            "abc\n"
          ]
        }
      ]
    },
    {
      "cell_type": "code",
      "source": [
        "try:\n",
        "  a=1\n",
        "  print(adafwfef)\n",
        "  try:\n",
        "    print(type(adafwfef))\n",
        "  except:\n",
        "    print(\"Error occured\")\n",
        "except Exception as ex:\n",
        "  print(\"The error is: \", ex)\n",
        "  print(b, type(b))"
      ],
      "metadata": {
        "colab": {
          "base_uri": "https://localhost:8080/"
        },
        "id": "XPFYIzcBdM1e",
        "outputId": "0e1d78f5-cf13-4494-b998-47fca4b983b4"
      },
      "execution_count": 39,
      "outputs": [
        {
          "output_type": "stream",
          "name": "stdout",
          "text": [
            "The error is:  name 'adafwfef' is not defined\n",
            "0.2 <class 'float'>\n"
          ]
        }
      ]
    },
    {
      "cell_type": "markdown",
      "source": [
        "#Real World Use Case"
      ],
      "metadata": {
        "id": "0m4vnNRJFRYH"
      }
    },
    {
      "cell_type": "code",
      "source": [
        "#Code for Uber's simplified pricing model\n",
        "#Development Code\n",
        "def get_price_per_km(hour):\n",
        "  if (hour>8) & (hour<11):\n",
        "    price_per_km=20\n",
        "  elif (hour>11) & (hour<15):\n",
        "    price_per_km=15\n",
        "  else:\n",
        "    price_per_km=10\n",
        "  return price_per_km\n",
        "\n",
        "class SurgePricing:\n",
        "  def __init__(self):\n",
        "    pass\n",
        "  def get_price_per_km(self,hour):\n",
        "    try:\n",
        "      if (hour>8) & (hour<11):\n",
        "        price_per_km=20\n",
        "      elif (hour>11) & (hour<15):\n",
        "        price_per_km=15\n",
        "      else:\n",
        "        price_per_km=10\n",
        "    except:\n",
        "      price_per_km=10\n",
        "    return price_per_km"
      ],
      "metadata": {
        "id": "dFy3OnvMFWT-"
      },
      "execution_count": null,
      "outputs": []
    }
  ]
}