{
  "nbformat": 4,
  "nbformat_minor": 0,
  "metadata": {
    "colab": {
      "provenance": [],
      "authorship_tag": "ABX9TyMClWoFdyn9tzAQfXFKLcV3",
      "include_colab_link": true
    },
    "kernelspec": {
      "name": "python3",
      "display_name": "Python 3"
    },
    "language_info": {
      "name": "python"
    }
  },
  "cells": [
    {
      "cell_type": "markdown",
      "metadata": {
        "id": "view-in-github",
        "colab_type": "text"
      },
      "source": [
        "<a href=\"https://colab.research.google.com/github/Programer1554/Data-Science-4-Sem/blob/main/NumPy2.ipynb\" target=\"_parent\"><img src=\"https://colab.research.google.com/assets/colab-badge.svg\" alt=\"Open In Colab\"/></a>"
      ]
    },
    {
      "cell_type": "markdown",
      "source": [
        "#Array Manipulation\n",
        "\n",
        "*   np.transpose(array) - To transpose array\n",
        "*   np.reshape(array,shape) - To Change shape of an array\n",
        "* np.resize(array,shape) - To return new array with shape\n",
        "* np.flatten(array) - To flatten the array\n",
        "\n"
      ],
      "metadata": {
        "id": "Px1QXok7A5DC"
      }
    },
    {
      "cell_type": "markdown",
      "source": [
        "**np.transpose()**"
      ],
      "metadata": {
        "id": "TyIbbe4sB5yu"
      }
    },
    {
      "cell_type": "code",
      "source": [
        "#Create a 2D array\n",
        "import numpy as np\n",
        "arravali=np.array(np.random.randint(10,45,(8,2)))\n",
        "print(f\"The defined array is \\n{arravali}\")\n",
        "print(f\"\\nThe shape of the array is {arravali.shape}\")"
      ],
      "metadata": {
        "colab": {
          "base_uri": "https://localhost:8080/"
        },
        "id": "hCwTUE-e6EoI",
        "outputId": "b0903a68-3de1-40c9-9d44-e8bfc6480549"
      },
      "execution_count": null,
      "outputs": [
        {
          "output_type": "stream",
          "name": "stdout",
          "text": [
            "The defined array is \n",
            "[[13 16]\n",
            " [12 39]\n",
            " [12 15]\n",
            " [25 15]\n",
            " [41 16]\n",
            " [10 28]\n",
            " [41 36]\n",
            " [15 16]]\n",
            "\n",
            "The shape of the array is (8, 2)\n"
          ]
        }
      ]
    },
    {
      "cell_type": "code",
      "source": [
        "#Storing the transpose in another matrix object\n",
        "nilgiri=np.transpose(arravali)\n",
        "print(f\"The transpose of the array is \\n{nilgiri}\")\n",
        "print(f\"\\nThe shape of the array is {nilgiri.shape}\")"
      ],
      "metadata": {
        "colab": {
          "base_uri": "https://localhost:8080/"
        },
        "id": "ppGj1gTh6ybF",
        "outputId": "94cbbc4f-f368-42b7-f928-b93eef21b9c1"
      },
      "execution_count": null,
      "outputs": [
        {
          "output_type": "stream",
          "name": "stdout",
          "text": [
            "The transpose of the array is \n",
            "[[13 12 12 25 41 10 41 15]\n",
            " [16 39 15 15 16 28 36 16]]\n",
            "\n",
            "The shape of the array is (2, 8)\n"
          ]
        }
      ]
    },
    {
      "cell_type": "code",
      "source": [
        "#3D array\n",
        "random_3d_array= np.array(np.random.randint(10,45,(3,2,4)))\n",
        "print(f\"The defined array is \\n{random_3d_array}\")\n",
        "print(f\"\\nThe shape of the array is {random_3d_array.shape}\")\n",
        "#"
      ],
      "metadata": {
        "colab": {
          "base_uri": "https://localhost:8080/"
        },
        "id": "VEmsvd2069g1",
        "outputId": "75806822-dd8a-456e-af23-19ae4485192d"
      },
      "execution_count": null,
      "outputs": [
        {
          "output_type": "stream",
          "name": "stdout",
          "text": [
            "The defined array is \n",
            "[[[18 21 24 22]\n",
            "  [38 43 12 30]]\n",
            "\n",
            " [[40 26 37 40]\n",
            "  [17 15 37 22]]\n",
            "\n",
            " [[26 28 23 15]\n",
            "  [43 37 27 31]]]\n",
            "\n",
            "The shape of the array is (3, 2, 4)\n"
          ]
        }
      ]
    },
    {
      "cell_type": "code",
      "source": [
        "#Storing the transpose of the created 3d array\n",
        "transpose_3d_array=np.transpose(random_3d_array)\n",
        "print(f\"The transpose of the array is \\n{transpose_3d_array}\")\n",
        "print(f\"\\nThe shape of the array is {transpose_3d_array.shape}\")"
      ],
      "metadata": {
        "colab": {
          "base_uri": "https://localhost:8080/"
        },
        "id": "Nfi0FeXH7Gxq",
        "outputId": "53f20e27-bd81-4ed4-85cc-dfa7a310d70c"
      },
      "execution_count": null,
      "outputs": [
        {
          "output_type": "stream",
          "name": "stdout",
          "text": [
            "The transpose of the array is \n",
            "[[[18 40 26]\n",
            "  [38 17 43]]\n",
            "\n",
            " [[21 26 28]\n",
            "  [43 15 37]]\n",
            "\n",
            " [[24 37 23]\n",
            "  [12 37 27]]\n",
            "\n",
            " [[22 40 15]\n",
            "  [30 22 31]]]\n",
            "\n",
            "The shape of the array is (4, 2, 3)\n"
          ]
        }
      ]
    },
    {
      "cell_type": "markdown",
      "source": [
        "**np.reshape(shape)**"
      ],
      "metadata": {
        "id": "EABHhRMC7NgN"
      }
    },
    {
      "cell_type": "code",
      "source": [
        "#Create a two-dimensional array\n",
        "random_cohort=np.array(np.random.randint(10,45,(3,8)))\n",
        "print(f\"The defined array is \\n{random_cohort}\")\n",
        "print(f\"\\nThe shape of the array is {random_cohort.shape}\")"
      ],
      "metadata": {
        "colab": {
          "base_uri": "https://localhost:8080/"
        },
        "id": "Q13MEqUU7VVG",
        "outputId": "fb7fd88b-2e53-4a71-dab3-8e54117749b8"
      },
      "execution_count": null,
      "outputs": [
        {
          "output_type": "stream",
          "name": "stdout",
          "text": [
            "The defined array is \n",
            "[[25 19 31 15 23 16 11 43]\n",
            " [44 42 41 39 36 15 39 27]\n",
            " [24 40 11 35 39 43 44 37]]\n",
            "\n",
            "The shape of the array is (3, 8)\n"
          ]
        }
      ]
    },
    {
      "cell_type": "code",
      "source": [
        "#Now we can reshpae this to 1-D, 2-D or 3-D array\n",
        "new_shape=(2,6,2)\n",
        "reshaped_cohort=np.reshape(random_cohort,new_shape)\n",
        "print(f\"The reshaped array is \\n{reshaped_cohort}\")\n",
        "print(f\"\\nThe shape of the array is {reshaped_cohort.shape}\")"
      ],
      "metadata": {
        "colab": {
          "base_uri": "https://localhost:8080/"
        },
        "id": "fNQadYZB7hKI",
        "outputId": "e5a80ade-d96a-4460-f3e5-78e3cdac288c"
      },
      "execution_count": null,
      "outputs": [
        {
          "output_type": "stream",
          "name": "stdout",
          "text": [
            "The reshaped array is \n",
            "[[[25 19]\n",
            "  [31 15]\n",
            "  [23 16]\n",
            "  [11 43]\n",
            "  [44 42]\n",
            "  [41 39]]\n",
            "\n",
            " [[36 15]\n",
            "  [39 27]\n",
            "  [24 40]\n",
            "  [11 35]\n",
            "  [39 43]\n",
            "  [44 37]]]\n",
            "\n",
            "The shape of the array is (2, 6, 2)\n"
          ]
        }
      ]
    },
    {
      "cell_type": "code",
      "source": [
        "new_shape=(2,-1,6)\n",
        "reshaped_cohort=np.reshape(random_cohort,new_shape)\n",
        "print(f\"The reshaped array is \\n{reshaped_cohort}\")\n",
        "print(f\"\\nThe shape of the array is {reshaped_cohort.shape}\")"
      ],
      "metadata": {
        "colab": {
          "base_uri": "https://localhost:8080/"
        },
        "id": "scP5HrPB7whY",
        "outputId": "ca8d8581-c68a-4c49-9a44-a0dad48ea29a"
      },
      "execution_count": null,
      "outputs": [
        {
          "output_type": "stream",
          "name": "stdout",
          "text": [
            "The reshaped array is \n",
            "[[[25 19 31 15 23 16]\n",
            "  [11 43 44 42 41 39]]\n",
            "\n",
            " [[36 15 39 27 24 40]\n",
            "  [11 35 39 43 44 37]]]\n",
            "\n",
            "The shape of the array is (2, 2, 6)\n"
          ]
        }
      ]
    },
    {
      "cell_type": "code",
      "source": [
        "#Create a three dimensional array\n",
        "random_3d_array= np.array(np.random.randint(10,45,(3,6,2)))\n",
        "print(f\"The defined array is \\n{random_3d_array}\")\n",
        "print(f\"\\nThe shape of the array is {random_3d_array.shape}\")"
      ],
      "metadata": {
        "colab": {
          "base_uri": "https://localhost:8080/"
        },
        "id": "3Hm6EEfl78Ov",
        "outputId": "be835455-5fe8-42fb-bb79-25ad2b8323c7"
      },
      "execution_count": null,
      "outputs": [
        {
          "output_type": "stream",
          "name": "stdout",
          "text": [
            "The defined array is \n",
            "[[[43 18]\n",
            "  [21 37]\n",
            "  [29 21]\n",
            "  [36 18]\n",
            "  [41 22]\n",
            "  [30 22]]\n",
            "\n",
            " [[38 10]\n",
            "  [11 16]\n",
            "  [36 30]\n",
            "  [43 17]\n",
            "  [44 42]\n",
            "  [33 40]]\n",
            "\n",
            " [[32 27]\n",
            "  [22 39]\n",
            "  [12 32]\n",
            "  [12 41]\n",
            "  [24 44]\n",
            "  [39 30]]]\n",
            "\n",
            "The shape of the array is (3, 6, 2)\n"
          ]
        }
      ]
    },
    {
      "cell_type": "code",
      "source": [
        "#Reshape the created 3D array\n",
        "new_shape=(2,-1,6)\n",
        "reshaped_3d_array=np.reshape(random_3d_array,new_shape)\n",
        "print(f\"The reshaped array is \\n{reshaped_3d_array}\")\n",
        "print(f\"\\nThe shape of the array is {reshaped_3d_array.shape}\")"
      ],
      "metadata": {
        "colab": {
          "base_uri": "https://localhost:8080/"
        },
        "id": "-JgbVgkK8bvg",
        "outputId": "8917502c-6171-407e-ef94-820a1e70c5fc"
      },
      "execution_count": null,
      "outputs": [
        {
          "output_type": "stream",
          "name": "stdout",
          "text": [
            "The reshaped array is \n",
            "[[[43 18 21 37 29 21]\n",
            "  [36 18 41 22 30 22]\n",
            "  [38 10 11 16 36 30]]\n",
            "\n",
            " [[43 17 44 42 33 40]\n",
            "  [32 27 22 39 12 32]\n",
            "  [12 41 24 44 39 30]]]\n",
            "\n",
            "The shape of the array is (2, 3, 6)\n"
          ]
        }
      ]
    },
    {
      "cell_type": "markdown",
      "source": [
        "**np.resize(shape)**"
      ],
      "metadata": {
        "id": "T4_hyAWg8woA"
      }
    },
    {
      "cell_type": "code",
      "source": [
        "#Intialize a 3D array\n",
        "random_3d_array= np.array(np.random.randint(10,45,(2,4,6)))\n",
        "print(f\"The defined array is \\n{random_3d_array}\")\n",
        "print(f\"\\nThe shape of the array is {random_3d_array.shape}\")"
      ],
      "metadata": {
        "colab": {
          "base_uri": "https://localhost:8080/"
        },
        "id": "NS8NpfEQ80VO",
        "outputId": "e734bf9a-dec8-4c66-be04-e59a99fc231e"
      },
      "execution_count": null,
      "outputs": [
        {
          "output_type": "stream",
          "name": "stdout",
          "text": [
            "The defined array is \n",
            "[[[18 35 25 42 11 20]\n",
            "  [23 43 31 25 23 19]\n",
            "  [34 14 27 12 31 20]\n",
            "  [27 35 24 32 41 22]]\n",
            "\n",
            " [[40 41 41 11 40 37]\n",
            "  [16 12 18 17 13 17]\n",
            "  [30 36 21 29 34 21]\n",
            "  [18 24 42 41 17 27]]]\n",
            "\n",
            "The shape of the array is (2, 4, 6)\n"
          ]
        }
      ]
    },
    {
      "cell_type": "code",
      "source": [
        "#Resize the created 3D array\n",
        "new_shape=(2,3,6)\n",
        "resized_3d_array=np.resize(random_3d_array,new_shape)\n",
        "print(f\"The resized array is \\n{resized_3d_array}\")\n",
        "print(f\"\\nThe shape of the array is {resized_3d_array.shape}\")"
      ],
      "metadata": {
        "colab": {
          "base_uri": "https://localhost:8080/"
        },
        "id": "ihKa3R7h8-GO",
        "outputId": "420a8237-5e44-4890-dc85-b6cbd1d92b2e"
      },
      "execution_count": null,
      "outputs": [
        {
          "output_type": "stream",
          "name": "stdout",
          "text": [
            "The resized array is \n",
            "[[[18 35 25 42 11 20]\n",
            "  [23 43 31 25 23 19]\n",
            "  [34 14 27 12 31 20]]\n",
            "\n",
            " [[27 35 24 32 41 22]\n",
            "  [40 41 41 11 40 37]\n",
            "  [16 12 18 17 13 17]]]\n",
            "\n",
            "The shape of the array is (2, 3, 6)\n"
          ]
        }
      ]
    },
    {
      "cell_type": "code",
      "source": [
        "resized_3d_array.resize(new_shape)\n",
        "resized_3d_array"
      ],
      "metadata": {
        "colab": {
          "base_uri": "https://localhost:8080/"
        },
        "id": "384-bnk69MiI",
        "outputId": "3b69fc39-3b57-4fa9-80dc-16a197e6f557"
      },
      "execution_count": null,
      "outputs": [
        {
          "output_type": "execute_result",
          "data": {
            "text/plain": [
              "array([[[18, 35, 25, 42, 11, 20],\n",
              "        [23, 43, 31, 25, 23, 19],\n",
              "        [34, 14, 27, 12, 31, 20]],\n",
              "\n",
              "       [[27, 35, 24, 32, 41, 22],\n",
              "        [40, 41, 41, 11, 40, 37],\n",
              "        [16, 12, 18, 17, 13, 17]]])"
            ]
          },
          "metadata": {},
          "execution_count": 12
        }
      ]
    },
    {
      "cell_type": "markdown",
      "source": [
        "**np.flatten()**"
      ],
      "metadata": {
        "id": "_RbMmEBu9oCh"
      }
    },
    {
      "cell_type": "code",
      "source": [
        "#Intialize a 3D array\n",
        "random_3d_array= np.array(np.random.randint(10,45,(2,4,6)))\n",
        "print(f\"The defined array is \\n{random_3d_array}\")\n",
        "print(f\"\\nThe shape of the array is {random_3d_array.shape}\")"
      ],
      "metadata": {
        "colab": {
          "base_uri": "https://localhost:8080/"
        },
        "id": "CZ9jkdQ39tzH",
        "outputId": "ee266dd8-fe96-40d3-94f5-388fbecfc821"
      },
      "execution_count": null,
      "outputs": [
        {
          "output_type": "stream",
          "name": "stdout",
          "text": [
            "The defined array is \n",
            "[[[43 13 39 22 15 30]\n",
            "  [27 27 43 25 41 29]\n",
            "  [35 32 39 27 34 10]\n",
            "  [37 14 21 22 17 22]]\n",
            "\n",
            " [[29 10 17 43 19 28]\n",
            "  [40 35 37 17 15 21]\n",
            "  [41 32 40 41 27 43]\n",
            "  [26 23 13 25 34 12]]]\n",
            "\n",
            "The shape of the array is (2, 4, 6)\n"
          ]
        }
      ]
    },
    {
      "cell_type": "code",
      "source": [
        "#Flatten the 3D array\n",
        "random_3d_array.flatten()"
      ],
      "metadata": {
        "colab": {
          "base_uri": "https://localhost:8080/"
        },
        "id": "yJDoxWsI9030",
        "outputId": "13984eb9-0a95-4d2e-9419-f289d92c42df"
      },
      "execution_count": null,
      "outputs": [
        {
          "output_type": "execute_result",
          "data": {
            "text/plain": [
              "array([43, 13, 39, 22, 15, 30, 27, 27, 43, 25, 41, 29, 35, 32, 39, 27, 34,\n",
              "       10, 37, 14, 21, 22, 17, 22, 29, 10, 17, 43, 19, 28, 40, 35, 37, 17,\n",
              "       15, 21, 41, 32, 40, 41, 27, 43, 26, 23, 13, 25, 34, 12])"
            ]
          },
          "metadata": {},
          "execution_count": 14
        }
      ]
    },
    {
      "cell_type": "code",
      "source": [
        "#Flattens the array in row-major order with 'C'\n",
        "random_3d_array.flatten(order='F')"
      ],
      "metadata": {
        "colab": {
          "base_uri": "https://localhost:8080/"
        },
        "id": "6z6PKU8P9-5u",
        "outputId": "e748cf02-ff2c-4a3a-8012-ce31446c4655"
      },
      "execution_count": null,
      "outputs": [
        {
          "output_type": "execute_result",
          "data": {
            "text/plain": [
              "array([43, 29, 27, 40, 35, 41, 37, 26, 13, 10, 27, 35, 32, 32, 14, 23, 39,\n",
              "       17, 43, 37, 39, 40, 21, 13, 22, 43, 25, 17, 27, 41, 22, 25, 15, 19,\n",
              "       41, 15, 34, 27, 17, 34, 30, 28, 29, 21, 10, 43, 22, 12])"
            ]
          },
          "metadata": {},
          "execution_count": 15
        }
      ]
    },
    {
      "cell_type": "markdown",
      "source": [
        "#Next we will see how we can manipulate our numpy arrays\n",
        "* np.insert- To inset items to an array\n",
        "* np.append- To append items to an array\n",
        "* np.delete- To delete items from an array\n",
        "* np.unique- To find unique items from an array"
      ],
      "metadata": {
        "id": "qT_JNn00-LPp"
      }
    },
    {
      "cell_type": "markdown",
      "source": [
        "**np.insert(arr,obj,values,axis)**\n",
        "* arr: Input array\n",
        "* obj: The index before which insertion is to be made\n",
        "* values: The array of values to be inserted\n",
        "* axis: The axis along insert in given array. If not given, arr is flattened"
      ],
      "metadata": {
        "id": "SEEGFQ6_-kHg"
      }
    },
    {
      "cell_type": "code",
      "source": [
        "a=np.random.randint(10,20,(2,3,4))\n",
        "print(a)\n",
        "print(a.shape)"
      ],
      "metadata": {
        "colab": {
          "base_uri": "https://localhost:8080/"
        },
        "id": "gg0C8ase_Gxl",
        "outputId": "939a2262-411c-499b-cc9d-69e37ce2683c"
      },
      "execution_count": null,
      "outputs": [
        {
          "output_type": "stream",
          "name": "stdout",
          "text": [
            "[[[19 19 15 13]\n",
            "  [15 17 16 17]\n",
            "  [12 11 18 11]]\n",
            "\n",
            " [[17 13 14 19]\n",
            "  [15 19 17 19]\n",
            "  [15 13 10 12]]]\n",
            "(2, 3, 4)\n"
          ]
        }
      ]
    },
    {
      "cell_type": "code",
      "source": [
        "#Insert along axis =0\n",
        "np.insert(a,1,100,axis=0)"
      ],
      "metadata": {
        "colab": {
          "base_uri": "https://localhost:8080/"
        },
        "id": "m6JNO2oaAOQZ",
        "outputId": "93678a1b-2c89-4524-d616-80c1057e2100"
      },
      "execution_count": null,
      "outputs": [
        {
          "output_type": "execute_result",
          "data": {
            "text/plain": [
              "array([[[ 19,  19,  15,  13],\n",
              "        [ 15,  17,  16,  17],\n",
              "        [ 12,  11,  18,  11]],\n",
              "\n",
              "       [[100, 100, 100, 100],\n",
              "        [100, 100, 100, 100],\n",
              "        [100, 100, 100, 100]],\n",
              "\n",
              "       [[ 17,  13,  14,  19],\n",
              "        [ 15,  19,  17,  19],\n",
              "        [ 15,  13,  10,  12]]])"
            ]
          },
          "metadata": {},
          "execution_count": 17
        }
      ]
    },
    {
      "cell_type": "code",
      "source": [
        "#Insert along axis=1\n",
        "np.insert(a,0,50,axis=1)"
      ],
      "metadata": {
        "colab": {
          "base_uri": "https://localhost:8080/"
        },
        "id": "SYnJrzxZAhc8",
        "outputId": "0a500d59-e5fa-43b0-83f6-69c5900904e2"
      },
      "execution_count": null,
      "outputs": [
        {
          "output_type": "execute_result",
          "data": {
            "text/plain": [
              "array([[[50, 50, 50, 50],\n",
              "        [19, 19, 15, 13],\n",
              "        [15, 17, 16, 17],\n",
              "        [12, 11, 18, 11]],\n",
              "\n",
              "       [[50, 50, 50, 50],\n",
              "        [17, 13, 14, 19],\n",
              "        [15, 19, 17, 19],\n",
              "        [15, 13, 10, 12]]])"
            ]
          },
          "metadata": {},
          "execution_count": 18
        }
      ]
    },
    {
      "cell_type": "code",
      "source": [
        "#Insert along axis=2\n",
        "np.insert(a,0,200,axis=2)"
      ],
      "metadata": {
        "colab": {
          "base_uri": "https://localhost:8080/"
        },
        "id": "W8ERRdUWAlSS",
        "outputId": "c50fcbba-a6fe-499d-a2ae-67c1e12fb421"
      },
      "execution_count": null,
      "outputs": [
        {
          "output_type": "execute_result",
          "data": {
            "text/plain": [
              "array([[[200,  19,  19,  15,  13],\n",
              "        [200,  15,  17,  16,  17],\n",
              "        [200,  12,  11,  18,  11]],\n",
              "\n",
              "       [[200,  17,  13,  14,  19],\n",
              "        [200,  15,  19,  17,  19],\n",
              "        [200,  15,  13,  10,  12]]])"
            ]
          },
          "metadata": {},
          "execution_count": 19
        }
      ]
    },
    {
      "cell_type": "markdown",
      "source": [
        "**np.append(arr,values,axis)**\n",
        "* arr- Array\n",
        "* values- Values to be appended\n",
        "* axis- Axis along which to append"
      ],
      "metadata": {
        "id": "MIQcUUoRBgoT"
      }
    },
    {
      "cell_type": "code",
      "source": [
        "a= np.random.randint(2,6,(2,3,3))\n",
        "print(a)\n",
        "print(a.shape)"
      ],
      "metadata": {
        "colab": {
          "base_uri": "https://localhost:8080/"
        },
        "id": "hvERCxh9LaEF",
        "outputId": "dc23587e-73e5-44b3-aba8-e4c279792faa"
      },
      "execution_count": null,
      "outputs": [
        {
          "output_type": "stream",
          "name": "stdout",
          "text": [
            "[[[5 3 5]\n",
            "  [5 5 2]\n",
            "  [2 3 2]]\n",
            "\n",
            " [[3 2 4]\n",
            "  [5 2 2]\n",
            "  [3 5 4]]]\n",
            "(2, 3, 3)\n"
          ]
        }
      ]
    },
    {
      "cell_type": "code",
      "source": [
        "#Append a value to the array. It flattens the array and append -99 to the end\n",
        "np.append(a,-99)"
      ],
      "metadata": {
        "id": "mSdmIhWsB3Ti",
        "colab": {
          "base_uri": "https://localhost:8080/"
        },
        "outputId": "2d91e461-555b-4b2e-9cf8-b01eea29111f"
      },
      "execution_count": null,
      "outputs": [
        {
          "output_type": "execute_result",
          "data": {
            "text/plain": [
              "array([  5,   3,   5,   5,   5,   2,   2,   3,   2,   3,   2,   4,   5,\n",
              "         2,   2,   3,   5,   4, -99])"
            ]
          },
          "metadata": {},
          "execution_count": 21
        }
      ]
    },
    {
      "cell_type": "code",
      "source": [
        "#Fix the axis other than axis of appending\n",
        "b= np.random.randint(2,6,(2,1,3))\n",
        "print(b)"
      ],
      "metadata": {
        "colab": {
          "base_uri": "https://localhost:8080/"
        },
        "id": "yKofI5cdLwfb",
        "outputId": "117c84f2-c8f5-4a95-d6a7-327acb6484bf"
      },
      "execution_count": null,
      "outputs": [
        {
          "output_type": "stream",
          "name": "stdout",
          "text": [
            "[[[2 4 3]]\n",
            "\n",
            " [[3 4 2]]]\n"
          ]
        }
      ]
    },
    {
      "cell_type": "code",
      "source": [
        "print(a)\n",
        "print(a.shape)"
      ],
      "metadata": {
        "colab": {
          "base_uri": "https://localhost:8080/"
        },
        "id": "jGOs3kGiL9G3",
        "outputId": "07259957-7597-4151-aeb6-f261e27935f8"
      },
      "execution_count": null,
      "outputs": [
        {
          "output_type": "stream",
          "name": "stdout",
          "text": [
            "[[[5 3 5]\n",
            "  [5 5 2]\n",
            "  [2 3 2]]\n",
            "\n",
            " [[3 2 4]\n",
            "  [5 2 2]\n",
            "  [3 5 4]]]\n",
            "(2, 3, 3)\n"
          ]
        }
      ]
    },
    {
      "cell_type": "code",
      "source": [
        "np.append(a,b,axis=1)"
      ],
      "metadata": {
        "colab": {
          "base_uri": "https://localhost:8080/"
        },
        "id": "alwKfUyEMEos",
        "outputId": "c674f404-67bf-41e2-cea2-c038518fd07b"
      },
      "execution_count": null,
      "outputs": [
        {
          "output_type": "execute_result",
          "data": {
            "text/plain": [
              "array([[[5, 3, 5],\n",
              "        [5, 5, 2],\n",
              "        [2, 3, 2],\n",
              "        [2, 4, 3]],\n",
              "\n",
              "       [[3, 2, 4],\n",
              "        [5, 2, 2],\n",
              "        [3, 5, 4],\n",
              "        [3, 4, 2]]])"
            ]
          },
          "metadata": {},
          "execution_count": 24
        }
      ]
    },
    {
      "cell_type": "markdown",
      "source": [
        "**np.delete(arr,obj,axis)**\n",
        "\n",
        "*obj: Can be a slice, an integer or array of integers, indicating the subarray to be deleted from the input array"
      ],
      "metadata": {
        "id": "sY3XFS0GMKhj"
      }
    },
    {
      "cell_type": "code",
      "source": [
        "a= np.random.randint(2,6,(2,3,3))\n",
        "print(a)\n",
        "print(a.shape)"
      ],
      "metadata": {
        "colab": {
          "base_uri": "https://localhost:8080/"
        },
        "id": "95wPcFHhMiIj",
        "outputId": "bbc75209-8ead-43b8-b920-c5e80b0da106"
      },
      "execution_count": null,
      "outputs": [
        {
          "output_type": "stream",
          "name": "stdout",
          "text": [
            "[[[5 5 3]\n",
            "  [4 3 4]\n",
            "  [2 4 2]]\n",
            "\n",
            " [[5 2 4]\n",
            "  [3 5 4]\n",
            "  [4 5 2]]]\n",
            "(2, 3, 3)\n"
          ]
        }
      ]
    },
    {
      "cell_type": "code",
      "source": [
        "#Delete along Axis=0\n",
        "np.delete(a,(0),axis=0)"
      ],
      "metadata": {
        "colab": {
          "base_uri": "https://localhost:8080/"
        },
        "id": "5bQsSbcqMqPQ",
        "outputId": "81aaeff4-cda8-44e9-eecc-6ca46a322045"
      },
      "execution_count": null,
      "outputs": [
        {
          "output_type": "execute_result",
          "data": {
            "text/plain": [
              "array([[[5, 2, 4],\n",
              "        [3, 5, 4],\n",
              "        [4, 5, 2]]])"
            ]
          },
          "metadata": {},
          "execution_count": 26
        }
      ]
    },
    {
      "cell_type": "code",
      "source": [
        "#Delete along axis=1\n",
        "np.delete(a,(0,2),axis=1)"
      ],
      "metadata": {
        "colab": {
          "base_uri": "https://localhost:8080/"
        },
        "id": "NP4OyGIOMxzQ",
        "outputId": "abf414a3-ee92-47d3-b590-911e712f3acb"
      },
      "execution_count": null,
      "outputs": [
        {
          "output_type": "execute_result",
          "data": {
            "text/plain": [
              "array([[[4, 3, 4]],\n",
              "\n",
              "       [[3, 5, 4]]])"
            ]
          },
          "metadata": {},
          "execution_count": 27
        }
      ]
    },
    {
      "cell_type": "code",
      "source": [
        "a"
      ],
      "metadata": {
        "colab": {
          "base_uri": "https://localhost:8080/"
        },
        "id": "8o_dQzgMM6b-",
        "outputId": "a19e3323-61cf-4dcd-9fb6-208c6312d6ab"
      },
      "execution_count": null,
      "outputs": [
        {
          "output_type": "execute_result",
          "data": {
            "text/plain": [
              "array([[[5, 5, 3],\n",
              "        [4, 3, 4],\n",
              "        [2, 4, 2]],\n",
              "\n",
              "       [[5, 2, 4],\n",
              "        [3, 5, 4],\n",
              "        [4, 5, 2]]])"
            ]
          },
          "metadata": {},
          "execution_count": 28
        }
      ]
    },
    {
      "cell_type": "code",
      "source": [
        "#Delete along axis=2\n",
        "np.delete(a,(0,1),axis=2)"
      ],
      "metadata": {
        "colab": {
          "base_uri": "https://localhost:8080/"
        },
        "id": "edSL_SJlM8GY",
        "outputId": "3e93ebe6-30ea-4914-960e-382ccdcc3c0f"
      },
      "execution_count": null,
      "outputs": [
        {
          "output_type": "execute_result",
          "data": {
            "text/plain": [
              "array([[[3],\n",
              "        [4],\n",
              "        [2]],\n",
              "\n",
              "       [[4],\n",
              "        [4],\n",
              "        [2]]])"
            ]
          },
          "metadata": {},
          "execution_count": 29
        }
      ]
    },
    {
      "cell_type": "markdown",
      "source": [
        "**np.unique(arr,return_index,return_counts)**"
      ],
      "metadata": {
        "id": "mun-92RrNEW2"
      }
    },
    {
      "cell_type": "code",
      "source": [
        "import numpy as np\n",
        "#Initialized array\n",
        "a=np.random.randint(2,20,(2,3,3))\n",
        "print(a)\n",
        "print(a.shape)"
      ],
      "metadata": {
        "colab": {
          "base_uri": "https://localhost:8080/"
        },
        "id": "yRctv6TO7M3c",
        "outputId": "16bbfd3d-37dc-4bda-9629-dbef5d5c6679"
      },
      "execution_count": 1,
      "outputs": [
        {
          "output_type": "stream",
          "name": "stdout",
          "text": [
            "[[[ 4  5 11]\n",
            "  [11 11 12]\n",
            "  [ 2  2 18]]\n",
            "\n",
            " [[12 12 16]\n",
            "  [ 9 11  5]\n",
            "  [13  4  4]]]\n",
            "(2, 3, 3)\n"
          ]
        }
      ]
    },
    {
      "cell_type": "code",
      "source": [
        "np.unique(a)"
      ],
      "metadata": {
        "colab": {
          "base_uri": "https://localhost:8080/"
        },
        "id": "y6GjV2Qm8_5N",
        "outputId": "5b001ba1-1a9a-4474-a449-c92a7316761c"
      },
      "execution_count": 2,
      "outputs": [
        {
          "output_type": "execute_result",
          "data": {
            "text/plain": [
              "array([ 2,  4,  5,  9, 11, 12, 13, 16, 18])"
            ]
          },
          "metadata": {},
          "execution_count": 2
        }
      ]
    },
    {
      "cell_type": "code",
      "source": [
        "#return_counts=True\n",
        "np.unique(a,return_counts=True)"
      ],
      "metadata": {
        "colab": {
          "base_uri": "https://localhost:8080/"
        },
        "id": "3Yu1-LA79DLe",
        "outputId": "375e9f9e-fe1b-4070-fb33-6870e5d9eb8a"
      },
      "execution_count": 3,
      "outputs": [
        {
          "output_type": "execute_result",
          "data": {
            "text/plain": [
              "(array([ 2,  4,  5,  9, 11, 12, 13, 16, 18]),\n",
              " array([2, 3, 2, 1, 4, 3, 1, 1, 1]))"
            ]
          },
          "metadata": {},
          "execution_count": 3
        }
      ]
    },
    {
      "cell_type": "code",
      "source": [
        "#return_index=True\n",
        "np.unique(a,return_index=True,return_counts=True)"
      ],
      "metadata": {
        "colab": {
          "base_uri": "https://localhost:8080/"
        },
        "id": "SnVWB6tK9KMb",
        "outputId": "5065c6f4-b293-49f2-972f-54848cd72bd4"
      },
      "execution_count": 4,
      "outputs": [
        {
          "output_type": "execute_result",
          "data": {
            "text/plain": [
              "(array([ 2,  4,  5,  9, 11, 12, 13, 16, 18]),\n",
              " array([ 6,  0,  1, 12,  2,  5, 15, 11,  8]),\n",
              " array([2, 3, 2, 1, 4, 3, 1, 1, 1]))"
            ]
          },
          "metadata": {},
          "execution_count": 4
        }
      ]
    },
    {
      "cell_type": "markdown",
      "source": [
        "# Difference between copy and view\n",
        "The main difference between a copy and a view of an array is that the copy is a new array, and the view is just a view of the original array. The copy owns the data and any changes made to the copy will not affect original array, and any changes made to the original array will not affect the copy\n",
        "\n",
        "Let us look at a list"
      ],
      "metadata": {
        "id": "NBYHihz79UJo"
      }
    },
    {
      "cell_type": "code",
      "source": [
        "#Lets take an example of a list\n",
        "a=[1,2,3]\n",
        "b=a\n",
        "b[0]=10\n",
        "print(b)\n",
        "print(a)"
      ],
      "metadata": {
        "colab": {
          "base_uri": "https://localhost:8080/"
        },
        "id": "c-k6HGGd92bi",
        "outputId": "6c0d4e1f-84fe-48cb-fd54-d32eb237c6d7"
      },
      "execution_count": 5,
      "outputs": [
        {
          "output_type": "stream",
          "name": "stdout",
          "text": [
            "[10, 2, 3]\n",
            "[10, 2, 3]\n"
          ]
        }
      ]
    },
    {
      "cell_type": "code",
      "source": [
        "#Let's use the copy method\n",
        "a=[1,2,3]\n",
        "b=a.copy()\n",
        "b[0]=10\n",
        "print(b)\n",
        "print(a)"
      ],
      "metadata": {
        "colab": {
          "base_uri": "https://localhost:8080/"
        },
        "id": "343sY8Ip-D4M",
        "outputId": "748d3cdb-94e4-4814-bbf3-c7703447182c"
      },
      "execution_count": 6,
      "outputs": [
        {
          "output_type": "stream",
          "name": "stdout",
          "text": [
            "[10, 2, 3]\n",
            "[1, 2, 3]\n"
          ]
        }
      ]
    },
    {
      "cell_type": "code",
      "source": [
        "#Now let us look at an array\n",
        "a=np.array([2,34,12])\n",
        "b=a\n",
        "b[0]= -999\n",
        "print(b)\n",
        "print(a)"
      ],
      "metadata": {
        "colab": {
          "base_uri": "https://localhost:8080/"
        },
        "id": "dSuXrJzA-8Xf",
        "outputId": "b3a56e9f-8bf2-44b2-cd95-f3e0538c2383"
      },
      "execution_count": 7,
      "outputs": [
        {
          "output_type": "stream",
          "name": "stdout",
          "text": [
            "[-999   34   12]\n",
            "[-999   34   12]\n"
          ]
        }
      ]
    },
    {
      "cell_type": "code",
      "source": [
        "a=np.array([2,34,12])\n",
        "b=a.copy()\n",
        "b[0]= -999\n",
        "print(b)\n",
        "print(a)"
      ],
      "metadata": {
        "colab": {
          "base_uri": "https://localhost:8080/"
        },
        "id": "lxX69B1k_NLb",
        "outputId": "85eb419e-eefa-40aa-abc6-52980631d5fc"
      },
      "execution_count": 8,
      "outputs": [
        {
          "output_type": "stream",
          "name": "stdout",
          "text": [
            "[-999   34   12]\n",
            "[ 2 34 12]\n"
          ]
        }
      ]
    },
    {
      "cell_type": "markdown",
      "source": [
        "#Basic Operations & Functions\n",
        "\n",
        "\n",
        "*   np.add()- Adding two arrays\n",
        "*   np.subtract()- Subtracting two arrays\n",
        "*   np.multiply()- Multiplying two arrays\n",
        "*   np.divide()- Dividing two arrays\n",
        "*   np.sum()- Sum of items in an array\n",
        "*   np.min()- Minimum of items in an array\n",
        "*   np.max()- Maximum of items in an array\n",
        "*   np.mean()- Mean of items in an array\n",
        "*   np.sort()-Sorting an array\n",
        "\n",
        "\n",
        "\n"
      ],
      "metadata": {
        "id": "X3oXfvAe_eCX"
      }
    },
    {
      "cell_type": "code",
      "source": [
        "np.arange(3)+ 5"
      ],
      "metadata": {
        "colab": {
          "base_uri": "https://localhost:8080/"
        },
        "id": "nM8uJ7l4AnUy",
        "outputId": "a9451dec-1e33-49a6-8278-19fb322502a7"
      },
      "execution_count": 10,
      "outputs": [
        {
          "output_type": "execute_result",
          "data": {
            "text/plain": [
              "array([5, 6, 7])"
            ]
          },
          "metadata": {},
          "execution_count": 10
        }
      ]
    },
    {
      "cell_type": "code",
      "source": [
        "np.ones((3,3))+ np.arange(3)"
      ],
      "metadata": {
        "colab": {
          "base_uri": "https://localhost:8080/"
        },
        "id": "fWKhX4UVAvOd",
        "outputId": "b0302ce3-91d2-47ec-86db-630774820cd4"
      },
      "execution_count": 11,
      "outputs": [
        {
          "output_type": "execute_result",
          "data": {
            "text/plain": [
              "array([[1., 2., 3.],\n",
              "       [1., 2., 3.],\n",
              "       [1., 2., 3.]])"
            ]
          },
          "metadata": {},
          "execution_count": 11
        }
      ]
    },
    {
      "cell_type": "code",
      "source": [
        "np.arange(3).reshape((3,1))+ np.arange(3)"
      ],
      "metadata": {
        "colab": {
          "base_uri": "https://localhost:8080/"
        },
        "id": "9uSkpT11AzxH",
        "outputId": "005a5d5f-d6f6-4f93-c6e7-9147ea961388"
      },
      "execution_count": 12,
      "outputs": [
        {
          "output_type": "execute_result",
          "data": {
            "text/plain": [
              "array([[0, 1, 2],\n",
              "       [1, 2, 3],\n",
              "       [2, 3, 4]])"
            ]
          },
          "metadata": {},
          "execution_count": 12
        }
      ]
    },
    {
      "cell_type": "code",
      "source": [
        "np.arange(3).reshape((3,1))+ np.arange(4)"
      ],
      "metadata": {
        "colab": {
          "base_uri": "https://localhost:8080/"
        },
        "id": "xEzB0LEIA6NM",
        "outputId": "c3aa6a4d-87a4-4d9a-9bdc-d07135fbe67c"
      },
      "execution_count": 13,
      "outputs": [
        {
          "output_type": "execute_result",
          "data": {
            "text/plain": [
              "array([[0, 1, 2, 3],\n",
              "       [1, 2, 3, 4],\n",
              "       [2, 3, 4, 5]])"
            ]
          },
          "metadata": {},
          "execution_count": 13
        }
      ]
    },
    {
      "cell_type": "code",
      "source": [
        "np.arange(2)"
      ],
      "metadata": {
        "colab": {
          "base_uri": "https://localhost:8080/"
        },
        "id": "VLGcSVPsBBcE",
        "outputId": "21aba178-7d7a-419b-aea0-71f2e784c88e"
      },
      "execution_count": 14,
      "outputs": [
        {
          "output_type": "execute_result",
          "data": {
            "text/plain": [
              "array([0, 1])"
            ]
          },
          "metadata": {},
          "execution_count": 14
        }
      ]
    },
    {
      "cell_type": "code",
      "source": [
        "#Example 2\n",
        "a=np.random.randint(2,6,(2,4))\n",
        "print(a)\n",
        "b=np.random.randint(1,10,(2,4))\n",
        "print(b)"
      ],
      "metadata": {
        "colab": {
          "base_uri": "https://localhost:8080/"
        },
        "id": "0iVfRxOgBDwr",
        "outputId": "59ecf2ab-c405-485c-8abc-42eef2834d53"
      },
      "execution_count": 20,
      "outputs": [
        {
          "output_type": "stream",
          "name": "stdout",
          "text": [
            "[[4 4 3 2]\n",
            " [2 4 5 2]]\n",
            "[[3 4 1 2]\n",
            " [9 9 1 9]]\n"
          ]
        }
      ]
    },
    {
      "cell_type": "code",
      "source": [
        "np.add(a,b)"
      ],
      "metadata": {
        "colab": {
          "base_uri": "https://localhost:8080/"
        },
        "id": "OQO8BAZzBTJW",
        "outputId": "95a2a1b4-57df-4b5a-8139-4560abe34e47"
      },
      "execution_count": 23,
      "outputs": [
        {
          "output_type": "execute_result",
          "data": {
            "text/plain": [
              "array([[ 7,  8,  4,  4],\n",
              "       [11, 13,  6, 11]])"
            ]
          },
          "metadata": {},
          "execution_count": 23
        }
      ]
    },
    {
      "cell_type": "code",
      "source": [
        "#Let's multiply two arrays\n",
        "a=np.random.randint(2,6,(2,4))\n",
        "print(a)\n",
        "b=np.random.randint(0,5,(2,4))\n",
        "print(b)"
      ],
      "metadata": {
        "colab": {
          "base_uri": "https://localhost:8080/"
        },
        "id": "3AC9Olo4Bd5L",
        "outputId": "8872d77f-0a7a-42f8-f3a9-0f8356c14331"
      },
      "execution_count": 25,
      "outputs": [
        {
          "output_type": "stream",
          "name": "stdout",
          "text": [
            "[[4 3 4 3]\n",
            " [4 3 2 5]]\n",
            "[[4 2 2 3]\n",
            " [3 1 4 4]]\n"
          ]
        }
      ]
    },
    {
      "cell_type": "code",
      "source": [
        "np.multiply(a,b)"
      ],
      "metadata": {
        "colab": {
          "base_uri": "https://localhost:8080/"
        },
        "id": "qGmFQQBZBrOF",
        "outputId": "75d32608-5854-416c-8fb9-4c0b0af889df"
      },
      "execution_count": 26,
      "outputs": [
        {
          "output_type": "execute_result",
          "data": {
            "text/plain": [
              "array([[16,  6,  8,  9],\n",
              "       [12,  3,  8, 20]])"
            ]
          },
          "metadata": {},
          "execution_count": 26
        }
      ]
    },
    {
      "cell_type": "code",
      "source": [
        "#Let's divide two arrays\n",
        "a=np.random.randint(2,6,(2,4))\n",
        "print(a)\n",
        "b=np.random.randint(1,6,(2,4))\n",
        "print(b)"
      ],
      "metadata": {
        "colab": {
          "base_uri": "https://localhost:8080/"
        },
        "id": "BvvTEBKcB7Bl",
        "outputId": "3c9b73aa-9e25-4654-b37b-602fea7c8ad0"
      },
      "execution_count": 27,
      "outputs": [
        {
          "output_type": "stream",
          "name": "stdout",
          "text": [
            "[[3 4 2 2]\n",
            " [5 2 2 5]]\n",
            "[[3 5 2 2]\n",
            " [4 2 2 4]]\n"
          ]
        }
      ]
    },
    {
      "cell_type": "code",
      "source": [
        "np.divide(a,b)"
      ],
      "metadata": {
        "colab": {
          "base_uri": "https://localhost:8080/"
        },
        "id": "nnL9P9JTCCjO",
        "outputId": "87f3e5d4-7e9a-4e8e-8d3f-61c86ee0df47"
      },
      "execution_count": 28,
      "outputs": [
        {
          "output_type": "execute_result",
          "data": {
            "text/plain": [
              "array([[1.  , 0.8 , 1.  , 1.  ],\n",
              "       [1.25, 1.  , 1.  , 1.25]])"
            ]
          },
          "metadata": {},
          "execution_count": 28
        }
      ]
    },
    {
      "cell_type": "code",
      "source": [
        "#Aggregation problems\n",
        "a=np.random.randint(5,9,(2,4))\n",
        "print(a)"
      ],
      "metadata": {
        "colab": {
          "base_uri": "https://localhost:8080/"
        },
        "id": "_I9xH5LvCE2i",
        "outputId": "0610ad5f-9208-4831-bd37-40b359afc5aa"
      },
      "execution_count": 29,
      "outputs": [
        {
          "output_type": "stream",
          "name": "stdout",
          "text": [
            "[[5 8 7 7]\n",
            " [7 7 5 5]]\n"
          ]
        }
      ]
    },
    {
      "cell_type": "code",
      "source": [
        "print(np.sum(a))\n",
        "print(np.sum(a,axis=0))\n",
        "print(np.sum(a,axis=1))"
      ],
      "metadata": {
        "colab": {
          "base_uri": "https://localhost:8080/"
        },
        "id": "r3HMiODUJzYq",
        "outputId": "39ea0638-4547-4d92-fd4e-6411ad8cc02f"
      },
      "execution_count": 30,
      "outputs": [
        {
          "output_type": "stream",
          "name": "stdout",
          "text": [
            "51\n",
            "[12 15 12 12]\n",
            "[27 24]\n"
          ]
        }
      ]
    },
    {
      "cell_type": "code",
      "source": [
        "#Calculate minimum\n",
        "print(np.min(a))\n",
        "print(np.min(a,axis=1)) #Across Column\n",
        "\n",
        "#Sort the array\n",
        "a=np.random.randint(0,20,(3,3))\n",
        "print(a)"
      ],
      "metadata": {
        "colab": {
          "base_uri": "https://localhost:8080/"
        },
        "id": "M-hHTU44J7Kp",
        "outputId": "efdb7cc2-22aa-4138-fa63-f369413514c3"
      },
      "execution_count": 32,
      "outputs": [
        {
          "output_type": "stream",
          "name": "stdout",
          "text": [
            "5\n",
            "[5 5]\n",
            "[[ 7  6 17]\n",
            " [ 0  7 12]\n",
            " [15  6 13]]\n"
          ]
        }
      ]
    },
    {
      "cell_type": "code",
      "source": [
        "print(np.sort(a,axis=0))#Ascending"
      ],
      "metadata": {
        "colab": {
          "base_uri": "https://localhost:8080/"
        },
        "id": "LPG-ipleKln5",
        "outputId": "9e52274d-5594-4eb0-c73c-263147092804"
      },
      "execution_count": 33,
      "outputs": [
        {
          "output_type": "stream",
          "name": "stdout",
          "text": [
            "[[ 0  6 12]\n",
            " [ 7  6 13]\n",
            " [15  7 17]]\n"
          ]
        }
      ]
    },
    {
      "cell_type": "code",
      "source": [
        "print(np.sort(a,axis=1))"
      ],
      "metadata": {
        "colab": {
          "base_uri": "https://localhost:8080/"
        },
        "id": "6bldV5tAKqjM",
        "outputId": "5b4e15c9-8543-421c-fc65-71e75daf100e"
      },
      "execution_count": 35,
      "outputs": [
        {
          "output_type": "stream",
          "name": "stdout",
          "text": [
            "[[ 6  7 17]\n",
            " [ 0  7 12]\n",
            " [ 6 13 15]]\n"
          ]
        }
      ]
    },
    {
      "cell_type": "code",
      "source": [
        "print(-np.sort(-a,axis=1)) #Descending"
      ],
      "metadata": {
        "colab": {
          "base_uri": "https://localhost:8080/"
        },
        "id": "oJGqkYrfLhAa",
        "outputId": "f1c7fb13-bf91-40c8-fd4a-c4adbbfc573c"
      },
      "execution_count": 36,
      "outputs": [
        {
          "output_type": "stream",
          "name": "stdout",
          "text": [
            "[[17  7  6]\n",
            " [12  7  0]\n",
            " [15 13  6]]\n"
          ]
        }
      ]
    },
    {
      "cell_type": "code",
      "source": [
        "sum(np.arange(3)*np.arange(3).transpose())"
      ],
      "metadata": {
        "colab": {
          "base_uri": "https://localhost:8080/"
        },
        "id": "-uWKhYQMLqUa",
        "outputId": "930efb3b-c89e-491b-ec29-108c9294f4b8"
      },
      "execution_count": 38,
      "outputs": [
        {
          "output_type": "execute_result",
          "data": {
            "text/plain": [
              "5"
            ]
          },
          "metadata": {},
          "execution_count": 38
        }
      ]
    }
  ]
}