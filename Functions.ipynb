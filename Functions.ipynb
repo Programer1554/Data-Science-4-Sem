{
  "nbformat": 4,
  "nbformat_minor": 0,
  "metadata": {
    "colab": {
      "provenance": [],
      "authorship_tag": "ABX9TyO4IgyZFsnJIdAgCaSje/cP",
      "include_colab_link": true
    },
    "kernelspec": {
      "name": "python3",
      "display_name": "Python 3"
    },
    "language_info": {
      "name": "python"
    }
  },
  "cells": [
    {
      "cell_type": "markdown",
      "metadata": {
        "id": "view-in-github",
        "colab_type": "text"
      },
      "source": [
        "<a href=\"https://colab.research.google.com/github/Programer1554/Data-Science-4-Sem/blob/main/Functions.ipynb\" target=\"_parent\"><img src=\"https://colab.research.google.com/assets/colab-badge.svg\" alt=\"Open In Colab\"/></a>"
      ]
    },
    {
      "cell_type": "markdown",
      "source": [
        "#Functions"
      ],
      "metadata": {
        "id": "_txsxGvtfh6y"
      }
    },
    {
      "cell_type": "markdown",
      "source": [
        "#def Statements"
      ],
      "metadata": {
        "id": "J6Cf5LiNfmuz"
      }
    },
    {
      "cell_type": "markdown",
      "source": [
        "\n",
        "\n",
        "```\n",
        "def name_of_function():\n",
        "  '''\n",
        "  Docstring explains function.\n",
        "  '''\n",
        "  print('Hello')\n",
        "```"
      ],
      "metadata": {
        "id": "Mmitm6I8ft-8"
      }
    },
    {
      "cell_type": "markdown",
      "source": [
        "Example 1: Extract a list of first letters from a sentence"
      ],
      "metadata": {
        "id": "mdAFdbTff7YY"
      }
    },
    {
      "cell_type": "code",
      "source": [
        "hinsenberg_quote= \"It ceases to exist withput me. No, you clearly don't know who you're talking to, so let me clue you in. I am not in danger, Skyler. I am the danger.\"\n",
        "words_by_walter= hinsenberg_quote.split(' ')\n",
        "first_letters=[word[0] for word in words_by_walter]\n",
        "print(first_letters)"
      ],
      "metadata": {
        "colab": {
          "base_uri": "https://localhost:8080/"
        },
        "id": "5fktL5Q0gWaY",
        "outputId": "36c2d3ed-a398-42a1-e85d-0350259a2adf"
      },
      "execution_count": 1,
      "outputs": [
        {
          "output_type": "stream",
          "name": "stdout",
          "text": [
            "['I', 'c', 't', 'e', 'w', 'm', 'N', 'y', 'c', 'd', 'k', 'w', 'y', 't', 't', 's', 'l', 'm', 'c', 'y', 'i', 'I', 'a', 'n', 'i', 'd', 'S', 'I', 'a', 't', 'd']\n"
          ]
        }
      ]
    },
    {
      "cell_type": "code",
      "source": [
        "#Now let us write a function which does the same task for any given sentence\n",
        "def extract_first_letters(sentence):\n",
        "  words= sentence.split(' ')\n",
        "  first_letters=[word[0] for word in words]\n",
        "  return first_letters\n",
        "\n",
        "print(extract_first_letters(hinsenberg_quote))"
      ],
      "metadata": {
        "colab": {
          "base_uri": "https://localhost:8080/"
        },
        "id": "9y_H7ouwgtP4",
        "outputId": "6b2d0d31-29f0-49d3-cf54-391018bb8edc"
      },
      "execution_count": 2,
      "outputs": [
        {
          "output_type": "stream",
          "name": "stdout",
          "text": [
            "['I', 'c', 't', 'e', 'w', 'm', 'N', 'y', 'c', 'd', 'k', 'w', 'y', 't', 't', 's', 'l', 'm', 'c', 'y', 'i', 'I', 'a', 'n', 'i', 'd', 'S', 'I', 'a', 't', 'd']\n"
          ]
        }
      ]
    },
    {
      "cell_type": "code",
      "source": [
        "#Store the result of the function in another variable\n",
        "first_letters_hinsenberg= extract_first_letters(hinsenberg_quote)\n",
        "print(first_letters_hinsenberg)"
      ],
      "metadata": {
        "colab": {
          "base_uri": "https://localhost:8080/"
        },
        "id": "SDueulHXhMMT",
        "outputId": "01bffe87-4ee8-48ee-d2cf-e4f63675dd50"
      },
      "execution_count": 3,
      "outputs": [
        {
          "output_type": "stream",
          "name": "stdout",
          "text": [
            "['I', 'c', 't', 'e', 'w', 'm', 'N', 'y', 'c', 'd', 'k', 'w', 'y', 't', 't', 's', 'l', 'm', 'c', 'y', 'i', 'I', 'a', 'n', 'i', 'd', 'S', 'I', 'a', 't', 'd']\n"
          ]
        }
      ]
    },
    {
      "cell_type": "code",
      "source": [
        "starwars_quote= \"May the Force be with you.\"\n",
        "first_letters_starwars= extract_first_letters(starwars_quote)\n",
        "print(first_letters_starwars)"
      ],
      "metadata": {
        "colab": {
          "base_uri": "https://localhost:8080/"
        },
        "id": "WgE2xiHFhYTh",
        "outputId": "15076591-607e-465f-f1d2-b35b4c66615b"
      },
      "execution_count": 4,
      "outputs": [
        {
          "output_type": "stream",
          "name": "stdout",
          "text": [
            "['M', 't', 'F', 'b', 'w', 'y']\n"
          ]
        }
      ]
    },
    {
      "cell_type": "markdown",
      "source": [
        "Example 2: Let us now write a function which returns the factorial of a number"
      ],
      "metadata": {
        "id": "meGZCpDWhhZJ"
      }
    },
    {
      "cell_type": "code",
      "source": [
        "def factorial(n):\n",
        "  result=1\n",
        "  if n<0:\n",
        "    print(\"Factorial is not defined for negative numbers\")\n",
        "  elif n>0:\n",
        "    for i in range(1, n+1):\n",
        "      result= result*i\n",
        "    print(f\"The factorial of {n} is {result}.\")\n",
        "  else:\n",
        "    result=1\n",
        "    print(f\"The factorial of {n} is {result}.\")\n",
        "\n",
        "factorial(5)"
      ],
      "metadata": {
        "colab": {
          "base_uri": "https://localhost:8080/"
        },
        "id": "d2Psujrjhspp",
        "outputId": "6db7926c-8787-4719-fb45-983fdcfb6a39"
      },
      "execution_count": 5,
      "outputs": [
        {
          "output_type": "stream",
          "name": "stdout",
          "text": [
            "The factorial of 5 is 120.\n"
          ]
        }
      ]
    },
    {
      "cell_type": "code",
      "source": [
        "#Now let us define a list of numbers for which we want to calculate the factors\n",
        "list_of_numbers= [3,5,8,12,4,6]\n",
        "#We can write a list of comprehension for the same task\n",
        "factorial_list= [factorial(number) for number in list_of_numbers if number%2!=0]\n",
        "print(factorial_list)"
      ],
      "metadata": {
        "colab": {
          "base_uri": "https://localhost:8080/"
        },
        "id": "_Rj9NV09isJw",
        "outputId": "5f5355d4-c129-4a4e-8df6-d3fdb38dce07"
      },
      "execution_count": 6,
      "outputs": [
        {
          "output_type": "stream",
          "name": "stdout",
          "text": [
            "The factorial of 3 is 6.\n",
            "The factorial of 5 is 120.\n",
            "[None, None]\n"
          ]
        }
      ]
    },
    {
      "cell_type": "markdown",
      "source": [
        "Example 3: Let us write a function which takes a date as a string and prints the quater as output"
      ],
      "metadata": {
        "id": "jLTkTCp6jdup"
      }
    },
    {
      "cell_type": "code",
      "source": [
        "def assignQuater(user_date):\n",
        "  date_year=user_date[:4]\n",
        "  date_month=user_date[5:7]\n",
        "\n",
        "  if (date_month>='01') & (date_month<='03'):\n",
        "    quater= date_year+ '-Q1'\n",
        "  elif (date_month>='04') & (date_month<='06'):\n",
        "    quater= date_year+ '-Q2'\n",
        "  elif (date_month>='07') & (date_month<='09'):\n",
        "    quater= date_year+ '-Q3'\n",
        "  else:\n",
        "    quater= date_year+ '-Q4'\n",
        "\n",
        "  print(f'The corresponding quater for the date {user_date} is {quater}')\n",
        "\n",
        "sample_date= '2020-07-01'\n",
        "date_quater= assignQuater(sample_date)\n",
        "print(date_quater)"
      ],
      "metadata": {
        "colab": {
          "base_uri": "https://localhost:8080/"
        },
        "id": "5GEJMBQjre-1",
        "outputId": "5720cb5e-b644-4c12-e4f5-dde6c3ba99df"
      },
      "execution_count": 7,
      "outputs": [
        {
          "output_type": "stream",
          "name": "stdout",
          "text": [
            "The corresponding quater for the date 2020-07-01 is 2020-Q3\n",
            "None\n"
          ]
        }
      ]
    },
    {
      "cell_type": "code",
      "source": [
        "my_quater= assignQuater(sample_date)\n"
      ],
      "metadata": {
        "colab": {
          "base_uri": "https://localhost:8080/"
        },
        "id": "1z1uHIJP-Yu0",
        "outputId": "86e07131-431b-46b0-acff-cad341afafe1"
      },
      "execution_count": 8,
      "outputs": [
        {
          "output_type": "stream",
          "name": "stdout",
          "text": [
            "The corresponding quater for the date 2020-07-01 is 2020-Q3\n"
          ]
        }
      ]
    },
    {
      "cell_type": "code",
      "source": [
        "print(my_quater)"
      ],
      "metadata": {
        "colab": {
          "base_uri": "https://localhost:8080/"
        },
        "id": "llXL1yJo-kG1",
        "outputId": "3273967f-0934-49e8-8099-e773db823bce"
      },
      "execution_count": 9,
      "outputs": [
        {
          "output_type": "stream",
          "name": "stdout",
          "text": [
            "None\n"
          ]
        }
      ]
    },
    {
      "cell_type": "markdown",
      "source": [
        "Example 4: Let us write a function with multiple return statements"
      ],
      "metadata": {
        "id": "CWW0zdXB-sPG"
      }
    },
    {
      "cell_type": "code",
      "source": [
        "def check_even_or_odd(num):\n",
        "  print(f'Given number is {num}')\n",
        "  if num%2==0:\n",
        "    return 'even'\n",
        "  return 'odd'\n",
        "\n",
        "is_even_odd= check_even_or_odd(4)\n",
        "print(is_even_odd)"
      ],
      "metadata": {
        "colab": {
          "base_uri": "https://localhost:8080/"
        },
        "id": "3f80kCWP-0XB",
        "outputId": "859b7d24-7fdc-4a21-dac6-f214f017e18e"
      },
      "execution_count": 11,
      "outputs": [
        {
          "output_type": "stream",
          "name": "stdout",
          "text": [
            "Given number is 4\n",
            "even\n"
          ]
        }
      ]
    },
    {
      "cell_type": "markdown",
      "source": [
        "Example 5: Now let us write a function which adds an element to a list. This function takes the list as an argument and the element to be added"
      ],
      "metadata": {
        "id": "Frxgcch8_QgW"
      }
    },
    {
      "cell_type": "code",
      "source": [
        "def list_append(my_list, elem):\n",
        "  new_list= my_list + [elem]\n",
        "  return new_list\n",
        "\n",
        "my_list= [1,2,3,4,5]\n",
        "print(new_list)\n"
      ],
      "metadata": {
        "colab": {
          "base_uri": "https://localhost:8080/"
        },
        "id": "2QADYaWC_pJ5",
        "outputId": "ba66a6cd-4523-40ce-8c52-444242236e67"
      },
      "execution_count": 13,
      "outputs": [
        {
          "output_type": "stream",
          "name": "stdout",
          "text": [
            "[1, 2, 3, 4, 5, 6]\n"
          ]
        }
      ]
    },
    {
      "cell_type": "code",
      "source": [
        "list_append(my_list, 6)"
      ],
      "metadata": {
        "colab": {
          "base_uri": "https://localhost:8080/"
        },
        "id": "q1_OOHzX_9ZC",
        "outputId": "f506e89e-c072-49ae-fe5d-47b4b31ecab4"
      },
      "execution_count": 14,
      "outputs": [
        {
          "output_type": "execute_result",
          "data": {
            "text/plain": [
              "[1, 2, 3, 4, 5, 6]"
            ]
          },
          "metadata": {},
          "execution_count": 14
        }
      ]
    },
    {
      "cell_type": "code",
      "source": [
        "print(my_list)"
      ],
      "metadata": {
        "colab": {
          "base_uri": "https://localhost:8080/"
        },
        "id": "tTxG8QfVAEH-",
        "outputId": "922090e2-bd5a-42c1-b5c6-e9cb916fa9c1"
      },
      "execution_count": 15,
      "outputs": [
        {
          "output_type": "stream",
          "name": "stdout",
          "text": [
            "[1, 2, 3, 4, 5]\n"
          ]
        }
      ]
    },
    {
      "cell_type": "code",
      "source": [
        "list_append(my_list, elem=7)"
      ],
      "metadata": {
        "colab": {
          "base_uri": "https://localhost:8080/"
        },
        "id": "1BuCqHrlAGvG",
        "outputId": "c52eb373-06a8-4beb-fb1e-dfa3f9fb4434"
      },
      "execution_count": 16,
      "outputs": [
        {
          "output_type": "execute_result",
          "data": {
            "text/plain": [
              "[1, 2, 3, 4, 5, 7]"
            ]
          },
          "metadata": {},
          "execution_count": 16
        }
      ]
    },
    {
      "cell_type": "code",
      "source": [
        "print(my_list)"
      ],
      "metadata": {
        "colab": {
          "base_uri": "https://localhost:8080/"
        },
        "id": "QV73KI74ALNt",
        "outputId": "afd3e4e0-8cc7-4482-cdba-e1abb9b46c24"
      },
      "execution_count": 18,
      "outputs": [
        {
          "output_type": "stream",
          "name": "stdout",
          "text": [
            "[1, 2, 3, 4, 5]\n"
          ]
        }
      ]
    },
    {
      "cell_type": "code",
      "source": [
        "my_list.append(9)\n",
        "print(my_list)"
      ],
      "metadata": {
        "colab": {
          "base_uri": "https://localhost:8080/"
        },
        "id": "rEuBDWO6Abu0",
        "outputId": "1d0083fb-efd0-4c42-d5f6-582ff8d03f3f"
      },
      "execution_count": 21,
      "outputs": [
        {
          "output_type": "stream",
          "name": "stdout",
          "text": [
            "[1, 2, 3, 4, 5, 8, 8, 9]\n"
          ]
        }
      ]
    },
    {
      "cell_type": "markdown",
      "source": [
        "#Scope"
      ],
      "metadata": {
        "id": "OmT_0mhVAojY"
      }
    },
    {
      "cell_type": "code",
      "source": [
        "def experiment():\n",
        "  global x\n",
        "  x=50\n",
        "  return x\n",
        "\n",
        "x=25"
      ],
      "metadata": {
        "id": "5t5TEYxgAp_6"
      },
      "execution_count": 25,
      "outputs": []
    },
    {
      "cell_type": "code",
      "source": [
        "experiment()"
      ],
      "metadata": {
        "colab": {
          "base_uri": "https://localhost:8080/"
        },
        "id": "95X3mZs2MluN",
        "outputId": "11dd304e-363d-408a-ca27-ce239ead54b3"
      },
      "execution_count": 26,
      "outputs": [
        {
          "output_type": "execute_result",
          "data": {
            "text/plain": [
              "50"
            ]
          },
          "metadata": {},
          "execution_count": 26
        }
      ]
    },
    {
      "cell_type": "code",
      "source": [
        "experiment()"
      ],
      "metadata": {
        "colab": {
          "base_uri": "https://localhost:8080/"
        },
        "id": "O7Taa5C6MpOI",
        "outputId": "49eb2be4-7669-4622-c722-77cca55a30e9"
      },
      "execution_count": 27,
      "outputs": [
        {
          "output_type": "execute_result",
          "data": {
            "text/plain": [
              "50"
            ]
          },
          "metadata": {},
          "execution_count": 27
        }
      ]
    },
    {
      "cell_type": "code",
      "source": [
        "x"
      ],
      "metadata": {
        "colab": {
          "base_uri": "https://localhost:8080/"
        },
        "id": "fOMd7EMoMraz",
        "outputId": "2341e9e5-03bc-4823-e8c0-dc3a634e844d"
      },
      "execution_count": 28,
      "outputs": [
        {
          "output_type": "execute_result",
          "data": {
            "text/plain": [
              "50"
            ]
          },
          "metadata": {},
          "execution_count": 28
        }
      ]
    },
    {
      "cell_type": "code",
      "source": [
        "#How do we make this function take the global variable x and change it?\n",
        "def new_experiment():\n",
        "  x=50\n",
        "  return x\n",
        "x=40\n",
        "\n",
        "x"
      ],
      "metadata": {
        "colab": {
          "base_uri": "https://localhost:8080/"
        },
        "id": "mFJHd5yRMyLa",
        "outputId": "899e4c12-b06f-4023-d20a-1782a2d9be83"
      },
      "execution_count": 30,
      "outputs": [
        {
          "output_type": "execute_result",
          "data": {
            "text/plain": [
              "40"
            ]
          },
          "metadata": {},
          "execution_count": 30
        }
      ]
    },
    {
      "cell_type": "code",
      "source": [
        "new_experiment()"
      ],
      "metadata": {
        "colab": {
          "base_uri": "https://localhost:8080/"
        },
        "id": "RHbg8pOBNS-o",
        "outputId": "76ff0f16-0b57-4881-ac3e-abc30f4ddb64"
      },
      "execution_count": 31,
      "outputs": [
        {
          "output_type": "execute_result",
          "data": {
            "text/plain": [
              "50"
            ]
          },
          "metadata": {},
          "execution_count": 31
        }
      ]
    }
  ]
}