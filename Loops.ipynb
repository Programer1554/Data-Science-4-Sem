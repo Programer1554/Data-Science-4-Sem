{
  "nbformat": 4,
  "nbformat_minor": 0,
  "metadata": {
    "colab": {
      "provenance": [],
      "authorship_tag": "ABX9TyO8BFYh2QhQ6T6r2N+9AQ/s",
      "include_colab_link": true
    },
    "kernelspec": {
      "name": "python3",
      "display_name": "Python 3"
    },
    "language_info": {
      "name": "python"
    }
  },
  "cells": [
    {
      "cell_type": "markdown",
      "metadata": {
        "id": "view-in-github",
        "colab_type": "text"
      },
      "source": [
        "<a href=\"https://colab.research.google.com/github/Programer1554/Data-Science-4-Sem/blob/main/Loops.ipynb\" target=\"_parent\"><img src=\"https://colab.research.google.com/assets/colab-badge.svg\" alt=\"Open In Colab\"/></a>"
      ]
    },
    {
      "cell_type": "markdown",
      "source": [
        "#Loops"
      ],
      "metadata": {
        "id": "vYicJzNPbjPr"
      }
    },
    {
      "cell_type": "markdown",
      "source": [
        "for loops"
      ],
      "metadata": {
        "id": "A4Xe-pVJbo8T"
      }
    },
    {
      "cell_type": "markdown",
      "source": [
        "Example 1"
      ],
      "metadata": {
        "id": "RiiraxeMdBgi"
      }
    },
    {
      "cell_type": "code",
      "source": [
        "#Consider a list of strings\n",
        "got_houses = [\"Stark\", \"Arryn\", \"Baratheon\", \"Tully\", \"Greyjoy\", \"Lannister\", \"Tyrell\", \"Martell\"]\n",
        "\n",
        "#A simple for loop to print the houses of GOT iniverse\n",
        "for house in got_houses:\n",
        "  print(f\"House {house}\")"
      ],
      "metadata": {
        "colab": {
          "base_uri": "https://localhost:8080/"
        },
        "id": "ZPhv02XfbuTt",
        "outputId": "6ca04b7b-0d55-400b-c1a9-6655b6bae3cc"
      },
      "execution_count": null,
      "outputs": [
        {
          "output_type": "stream",
          "name": "stdout",
          "text": [
            "House Stark\n",
            "House Arryn\n",
            "House Baratheon\n",
            "House Tully\n",
            "House Greyjoy\n",
            "House Lannister\n",
            "House Tyrell\n",
            "House Martell\n"
          ]
        }
      ]
    },
    {
      "cell_type": "code",
      "source": [
        "got_houses"
      ],
      "metadata": {
        "colab": {
          "base_uri": "https://localhost:8080/"
        },
        "id": "Cxh-iBkuchXR",
        "outputId": "b9c5449c-646f-4221-8de8-847159978789"
      },
      "execution_count": null,
      "outputs": [
        {
          "output_type": "execute_result",
          "data": {
            "text/plain": [
              "['Stark',\n",
              " 'Arryn',\n",
              " 'Baratheon',\n",
              " 'Tully',\n",
              " 'Greyjoy',\n",
              " 'Lannister',\n",
              " 'Tyrell',\n",
              " 'Martell']"
            ]
          },
          "metadata": {},
          "execution_count": 2
        }
      ]
    },
    {
      "cell_type": "code",
      "source": [
        "#Using enumerate function to loop thorugh the elements of a list\n",
        "for number, house in enumerate(got_houses):\n",
        "  print(f\"The house no of House {house}: {number}\")"
      ],
      "metadata": {
        "colab": {
          "base_uri": "https://localhost:8080/"
        },
        "id": "svQLQfAZck-w",
        "outputId": "073db782-9761-4625-87be-53f791a79af4"
      },
      "execution_count": null,
      "outputs": [
        {
          "output_type": "stream",
          "name": "stdout",
          "text": [
            "The house no of House Stark: 0\n",
            "The house no of House Arryn: 1\n",
            "The house no of House Baratheon: 2\n",
            "The house no of House Tully: 3\n",
            "The house no of House Greyjoy: 4\n",
            "The house no of House Lannister: 5\n",
            "The house no of House Tyrell: 6\n",
            "The house no of House Martell: 7\n"
          ]
        }
      ]
    },
    {
      "cell_type": "code",
      "source": [
        "x= 1,2\n",
        "\n",
        "x"
      ],
      "metadata": {
        "colab": {
          "base_uri": "https://localhost:8080/"
        },
        "id": "e0SdO8PMc5cD",
        "outputId": "438eae53-2c41-47be-ec2e-6924f40bf340"
      },
      "execution_count": null,
      "outputs": [
        {
          "output_type": "execute_result",
          "data": {
            "text/plain": [
              "(1, 2)"
            ]
          },
          "metadata": {},
          "execution_count": 4
        }
      ]
    },
    {
      "cell_type": "code",
      "source": [
        "list(enumerate(got_houses))"
      ],
      "metadata": {
        "colab": {
          "base_uri": "https://localhost:8080/"
        },
        "id": "2WZREKzhc8dI",
        "outputId": "93f3bd9e-964e-4387-d742-6826a64b3356"
      },
      "execution_count": null,
      "outputs": [
        {
          "output_type": "execute_result",
          "data": {
            "text/plain": [
              "[(0, 'Stark'),\n",
              " (1, 'Arryn'),\n",
              " (2, 'Baratheon'),\n",
              " (3, 'Tully'),\n",
              " (4, 'Greyjoy'),\n",
              " (5, 'Lannister'),\n",
              " (6, 'Tyrell'),\n",
              " (7, 'Martell')]"
            ]
          },
          "metadata": {},
          "execution_count": 6
        }
      ]
    },
    {
      "cell_type": "markdown",
      "source": [
        "Example 2"
      ],
      "metadata": {
        "id": "_PaLjpvkc_af"
      }
    },
    {
      "cell_type": "code",
      "source": [
        "#The list of numbers\n",
        "list_of_numbers = [1, 2, 4, 6, 11, 14, 17, 20]\n",
        "\n",
        "#Let us first print the squares\n",
        "for number in list_of_numbers:\n",
        "  print(f\"The square of {number} is {number**2}\")"
      ],
      "metadata": {
        "colab": {
          "base_uri": "https://localhost:8080/"
        },
        "id": "NkE0YoTFdF9D",
        "outputId": "8fef03fc-9bf3-4baf-bb76-2ee5fe6b8e86"
      },
      "execution_count": null,
      "outputs": [
        {
          "output_type": "stream",
          "name": "stdout",
          "text": [
            "The square of 1 is 1\n",
            "The square of 2 is 4\n",
            "The square of 4 is 16\n",
            "The square of 6 is 36\n",
            "The square of 11 is 121\n",
            "The square of 14 is 196\n",
            "The square of 17 is 289\n",
            "The square of 20 is 400\n"
          ]
        }
      ]
    },
    {
      "cell_type": "markdown",
      "source": [
        "Example 3"
      ],
      "metadata": {
        "id": "yuhGZVPcdZXQ"
      }
    },
    {
      "cell_type": "code",
      "source": [
        "list_of_numbers"
      ],
      "metadata": {
        "colab": {
          "base_uri": "https://localhost:8080/"
        },
        "id": "Wc7fOJ9qdapO",
        "outputId": "d1d6769a-35ca-486e-d788-ac0e305a7ed2"
      },
      "execution_count": null,
      "outputs": [
        {
          "output_type": "execute_result",
          "data": {
            "text/plain": [
              "[1, 2, 4, 6, 11, 14, 17, 20]"
            ]
          },
          "metadata": {},
          "execution_count": 6
        }
      ]
    },
    {
      "cell_type": "code",
      "source": [
        "#Let us first initialize a list where we will be appending the squares in each iteration\n",
        "squares = []\n",
        "\n",
        "for number in list_of_numbers:\n",
        "  square = number**2\n",
        "  squares.append(square)\n",
        "\n",
        "print(f\"The list of squared numbers is {squares}\")"
      ],
      "metadata": {
        "colab": {
          "base_uri": "https://localhost:8080/"
        },
        "id": "a_1Dv_XfdkeZ",
        "outputId": "49edd8f2-a7fd-4dd1-ad0f-eada47f623cc"
      },
      "execution_count": null,
      "outputs": [
        {
          "output_type": "stream",
          "name": "stdout",
          "text": [
            "The list of squared numbers is [1, 4, 16, 36, 121, 196, 289, 400]\n"
          ]
        }
      ]
    },
    {
      "cell_type": "code",
      "source": [
        "print(list_of_numbers)\n",
        "print(squares)"
      ],
      "metadata": {
        "colab": {
          "base_uri": "https://localhost:8080/"
        },
        "id": "5__R155jd-Rp",
        "outputId": "54f80d8f-098a-4bb4-d450-f1b26165012f"
      },
      "execution_count": null,
      "outputs": [
        {
          "output_type": "stream",
          "name": "stdout",
          "text": [
            "[1, 2, 4, 6, 11, 14, 17, 20]\n",
            "[1, 4, 16, 36, 121, 196, 289, 400]\n"
          ]
        }
      ]
    },
    {
      "cell_type": "code",
      "source": [
        "#Let us zip the original numbers and squares together and get the dictionary\n",
        "zipped_dict=dict(zip(list_of_numbers, squares))\n",
        "#Let us print the dictionary where the key is the number and the value is the square of that number\n",
        "print(f\"The dictionary of numbers and their squares is {zipped_dict}\")"
      ],
      "metadata": {
        "colab": {
          "base_uri": "https://localhost:8080/"
        },
        "id": "bD5DH_KXeHiZ",
        "outputId": "2fc584c7-6fc2-4634-89b4-796a3f835432"
      },
      "execution_count": null,
      "outputs": [
        {
          "output_type": "stream",
          "name": "stdout",
          "text": [
            "The dictionary of numbers and their squares is {1: 1, 2: 4, 4: 16, 6: 36, 11: 121, 14: 196, 17: 289, 20: 400}\n"
          ]
        }
      ]
    },
    {
      "cell_type": "markdown",
      "source": [
        "Example 4"
      ],
      "metadata": {
        "id": "tS5RRrICegNW"
      }
    },
    {
      "cell_type": "code",
      "source": [
        "print(list_of_numbers)"
      ],
      "metadata": {
        "colab": {
          "base_uri": "https://localhost:8080/"
        },
        "id": "5eH26MpYeiAn",
        "outputId": "69febf5e-037b-4472-9cc0-4e4f54435a04"
      },
      "execution_count": null,
      "outputs": [
        {
          "output_type": "stream",
          "name": "stdout",
          "text": [
            "[1, 2, 4, 6, 11, 14, 17, 20]\n"
          ]
        }
      ]
    },
    {
      "cell_type": "code",
      "source": [
        "#Let us first print the squares\n",
        "for number in list_of_numbers:\n",
        "  if number%2 == 0:\n",
        "    squarred_number = number**2\n",
        "    print(f\"The square of {number} is {squarred_number}\")\n",
        "  else:\n",
        "    print(f\"I am an odd number and I will not be squaring it {number}\")\n",
        "\n",
        "#print(\"\\n\")\n",
        "#print(\"I am finished with my iteration\")"
      ],
      "metadata": {
        "colab": {
          "base_uri": "https://localhost:8080/"
        },
        "id": "-rCPe0wOej3H",
        "outputId": "97718010-7fc2-4fb0-d79a-64455e985c00"
      },
      "execution_count": null,
      "outputs": [
        {
          "output_type": "stream",
          "name": "stdout",
          "text": [
            "I am an odd number and I will not be squaring it 1\n",
            "The square of 2 is 4\n",
            "The square of 4 is 16\n",
            "The square of 6 is 36\n",
            "I am an odd number and I will not be squaring it 11\n",
            "The square of 14 is 196\n",
            "I am an odd number and I will not be squaring it 17\n",
            "The square of 20 is 400\n"
          ]
        }
      ]
    },
    {
      "cell_type": "code",
      "source": [
        "#using range()\n",
        "list(range(10))"
      ],
      "metadata": {
        "colab": {
          "base_uri": "https://localhost:8080/"
        },
        "id": "d3pUsGGJfHUT",
        "outputId": "f64030a6-c3ae-499d-f47d-eeb2956fe51d"
      },
      "execution_count": null,
      "outputs": [
        {
          "output_type": "execute_result",
          "data": {
            "text/plain": [
              "[0, 1, 2, 3, 4, 5, 6, 7, 8, 9]"
            ]
          },
          "metadata": {},
          "execution_count": 12
        }
      ]
    },
    {
      "cell_type": "code",
      "source": [
        "#Let us first print the squares\n",
        "for number in range(0,10,3):\n",
        "  squarred_number = number**2\n",
        "  print(f\"The square of {number} is {squarred_number}\")"
      ],
      "metadata": {
        "colab": {
          "base_uri": "https://localhost:8080/"
        },
        "id": "6OwaA0WLfO5P",
        "outputId": "1340ac0b-e4b0-44ca-fd45-8fe67265839e"
      },
      "execution_count": null,
      "outputs": [
        {
          "output_type": "stream",
          "name": "stdout",
          "text": [
            "The square of 0 is 0\n",
            "The square of 3 is 9\n",
            "The square of 6 is 36\n",
            "The square of 9 is 81\n"
          ]
        }
      ]
    },
    {
      "cell_type": "code",
      "source": [
        "for i in range(2,21,2):\n",
        "  print(i)"
      ],
      "metadata": {
        "colab": {
          "base_uri": "https://localhost:8080/"
        },
        "id": "E6SLE19ofgN-",
        "outputId": "98913d8f-4cb5-405d-8e3d-62bc36dcbbce"
      },
      "execution_count": null,
      "outputs": [
        {
          "output_type": "stream",
          "name": "stdout",
          "text": [
            "2\n",
            "4\n",
            "6\n",
            "8\n",
            "10\n",
            "12\n",
            "14\n",
            "16\n",
            "18\n",
            "20\n"
          ]
        }
      ]
    },
    {
      "cell_type": "markdown",
      "source": [
        "Example 5"
      ],
      "metadata": {
        "id": "Pf4Q-fwhfm00"
      }
    },
    {
      "cell_type": "code",
      "source": [
        "#Print our list\n",
        "print(list_of_numbers)"
      ],
      "metadata": {
        "colab": {
          "base_uri": "https://localhost:8080/"
        },
        "id": "wm6Z29OPgLgt",
        "outputId": "8bfbac84-b6cd-4314-ab42-d37a0ba71dec"
      },
      "execution_count": null,
      "outputs": [
        {
          "output_type": "stream",
          "name": "stdout",
          "text": [
            "[1, 2, 4, 6, 11, 14, 17, 20]\n"
          ]
        }
      ]
    },
    {
      "cell_type": "code",
      "source": [
        "#Let us initialize the sum of the squares with 0. This makes sense right?\n",
        "sum_squares=0\n",
        "\n",
        "for number in range(1,11):\n",
        "  sum_squares= sum_squares + number\n",
        "  print(sum_squares)\n",
        "\n",
        "#Now we have added the squares of all the numbers in our list\n",
        "print(f\"The sum of squares of first 10 natural numbers is {sum_squares}\")"
      ],
      "metadata": {
        "colab": {
          "base_uri": "https://localhost:8080/"
        },
        "id": "6dRPg9r-hA4O",
        "outputId": "566a794e-4602-4de4-c395-6fece8b58533"
      },
      "execution_count": null,
      "outputs": [
        {
          "output_type": "stream",
          "name": "stdout",
          "text": [
            "1\n",
            "3\n",
            "6\n",
            "10\n",
            "15\n",
            "21\n",
            "28\n",
            "36\n",
            "45\n",
            "55\n",
            "The sum of squares of first 10 natural numbers is 55\n"
          ]
        }
      ]
    },
    {
      "cell_type": "markdown",
      "source": [
        "Example 6"
      ],
      "metadata": {
        "id": "2_6sxoqthsx_"
      }
    },
    {
      "cell_type": "code",
      "source": [
        "#Let us store the sentence in a string value\n",
        "hinsenberg_quote= 'I am the one who knocks'\n",
        "\n",
        "#The next step is to print all the characters which are separated by whitespace\n",
        "for char in hinsenberg_quote:\n",
        "  print(f\"The charactewr is {char}\")"
      ],
      "metadata": {
        "colab": {
          "base_uri": "https://localhost:8080/"
        },
        "id": "2dkFjQ93hunp",
        "outputId": "07dda137-9b11-4b54-9091-bbba36aa97d5"
      },
      "execution_count": null,
      "outputs": [
        {
          "output_type": "stream",
          "name": "stdout",
          "text": [
            "The charactewr is I\n",
            "The charactewr is  \n",
            "The charactewr is a\n",
            "The charactewr is m\n",
            "The charactewr is  \n",
            "The charactewr is t\n",
            "The charactewr is h\n",
            "The charactewr is e\n",
            "The charactewr is  \n",
            "The charactewr is o\n",
            "The charactewr is n\n",
            "The charactewr is e\n",
            "The charactewr is  \n",
            "The charactewr is w\n",
            "The charactewr is h\n",
            "The charactewr is o\n",
            "The charactewr is  \n",
            "The charactewr is k\n",
            "The charactewr is n\n",
            "The charactewr is o\n",
            "The charactewr is c\n",
            "The charactewr is k\n",
            "The charactewr is s\n"
          ]
        }
      ]
    },
    {
      "cell_type": "code",
      "source": [
        "#Lets apply a for loop to do the above task\n",
        "for index, char in enumerate(hinsenberg_quote):\n",
        "  print(f\"The character at index {index} is {char}\")"
      ],
      "metadata": {
        "colab": {
          "base_uri": "https://localhost:8080/"
        },
        "id": "oHFqThNQiZpN",
        "outputId": "220d55b8-355d-4e36-f0b7-c38d6385b745"
      },
      "execution_count": null,
      "outputs": [
        {
          "output_type": "stream",
          "name": "stdout",
          "text": [
            "The character at index 0 is I\n",
            "The character at index 1 is  \n",
            "The character at index 2 is a\n",
            "The character at index 3 is m\n",
            "The character at index 4 is  \n",
            "The character at index 5 is t\n",
            "The character at index 6 is h\n",
            "The character at index 7 is e\n",
            "The character at index 8 is  \n",
            "The character at index 9 is o\n",
            "The character at index 10 is n\n",
            "The character at index 11 is e\n",
            "The character at index 12 is  \n",
            "The character at index 13 is w\n",
            "The character at index 14 is h\n",
            "The character at index 15 is o\n",
            "The character at index 16 is  \n",
            "The character at index 17 is k\n",
            "The character at index 18 is n\n",
            "The character at index 19 is o\n",
            "The character at index 20 is c\n",
            "The character at index 21 is k\n",
            "The character at index 22 is s\n"
          ]
        }
      ]
    },
    {
      "cell_type": "markdown",
      "source": [
        "Example 7"
      ],
      "metadata": {
        "id": "EFyfeAXbiopD"
      }
    },
    {
      "cell_type": "code",
      "source": [
        "hinsenberg_quote= \"It ceases to exist withput me. No, you clearly don't know who you're talking to, so let me clue you in. I am not in danger; I am danger.\"\n",
        "words_by_walter= hinsenberg_quote.split()\n",
        "print(words_by_walter)"
      ],
      "metadata": {
        "colab": {
          "base_uri": "https://localhost:8080/"
        },
        "id": "jwE0t8_0ireT",
        "outputId": "8266cb46-ac49-47da-98d8-2a70ebf2c5c1"
      },
      "execution_count": null,
      "outputs": [
        {
          "output_type": "stream",
          "name": "stdout",
          "text": [
            "['It', 'ceases', 'to', 'exist', 'withput', 'me.', 'No,', 'you', 'clearly', \"don't\", 'know', 'who', \"you're\", 'talking', 'to,', 'so', 'let', 'me', 'clue', 'you', 'in.', 'I', 'am', 'not', 'in', 'danger;', 'I', 'am', 'danger.']\n"
          ]
        }
      ]
    },
    {
      "cell_type": "code",
      "source": [
        "#Now we can print each word by iterating though this list\n",
        "for word in words_by_walter:\n",
        "  if word in['I','me']:\n",
        "    print(f\"The word is {word}\")"
      ],
      "metadata": {
        "colab": {
          "base_uri": "https://localhost:8080/"
        },
        "id": "9hr_5E4zjPVH",
        "outputId": "a54e3140-6993-4ea8-c0b7-89e19dd1e029"
      },
      "execution_count": null,
      "outputs": [
        {
          "output_type": "stream",
          "name": "stdout",
          "text": [
            "The word is me\n",
            "The word is I\n",
            "The word is I\n"
          ]
        }
      ]
    },
    {
      "cell_type": "markdown",
      "source": [
        "Example 8"
      ],
      "metadata": {
        "id": "MKfdnvnbjVYc"
      }
    },
    {
      "cell_type": "code",
      "source": [
        "#Suppose we have a tuple of days\n",
        "days=('Monday', \"Tuesday\", 'Wednesday','Thursday','Friday', 'Saturday', 'Sunday')\n",
        "\n",
        "for day in days:\n",
        "  print(f\"Today is {day}\")"
      ],
      "metadata": {
        "colab": {
          "base_uri": "https://localhost:8080/"
        },
        "id": "SIwWnvy5jqYW",
        "outputId": "da92cdc8-c081-435a-bd50-364653cb608f"
      },
      "execution_count": null,
      "outputs": [
        {
          "output_type": "stream",
          "name": "stdout",
          "text": [
            "Today is Monday\n",
            "Today is Tuesday\n",
            "Today is Wednesday\n",
            "Today is Thursday\n",
            "Today is Friday\n",
            "Today is Saturday\n",
            "Today is Sunday\n"
          ]
        }
      ]
    },
    {
      "cell_type": "markdown",
      "source": [
        "Example 9"
      ],
      "metadata": {
        "id": "5q4IVWhJkYSv"
      }
    },
    {
      "cell_type": "code",
      "source": [
        "country_city_river_list=[(\"India\", 'New Delhi',\"Ganga\"),(\"Australia\",\"Canberra\",'Rovers'),(\"United States\",\"Washington DC\",'Missouri'),(\"England\", \"London\", \"Thames\")]\n",
        "#Let us iterate through each tuple element of this list and unpack each item\n",
        "for country, city, river in country_city_river_list:\n",
        "  print(f\"The capital of {country} is {city} and the largest river in {country} is {river}\")"
      ],
      "metadata": {
        "colab": {
          "base_uri": "https://localhost:8080/"
        },
        "id": "TAxmzrl2kacL",
        "outputId": "6c5b2846-3acf-49d1-aeca-7a908ae6c16b"
      },
      "execution_count": null,
      "outputs": [
        {
          "output_type": "stream",
          "name": "stdout",
          "text": [
            "The capital of India is New Delhi and the largest river in India is Ganga\n",
            "The capital of Australia is Canberra and the largest river in Australia is Rovers\n",
            "The capital of United States is Washington DC and the largest river in United States is Missouri\n",
            "The capital of England is London and the largest river in England is Thames\n"
          ]
        }
      ]
    },
    {
      "cell_type": "markdown",
      "source": [
        "Example 10"
      ],
      "metadata": {
        "id": "IeVuLSFflwK1"
      }
    },
    {
      "cell_type": "code",
      "source": [
        "#Let's convert the list of tuples to a dictionary\n",
        "country_city_dict=dict(country_city_list)\n",
        "print(country_city_dict)"
      ],
      "metadata": {
        "colab": {
          "base_uri": "https://localhost:8080/",
          "height": 176
        },
        "id": "SiSM9BntlyT7",
        "outputId": "175cc6d9-2485-4aea-cd88-bbae24f37f29"
      },
      "execution_count": null,
      "outputs": [
        {
          "output_type": "error",
          "ename": "NameError",
          "evalue": "name 'country_city_list' is not defined",
          "traceback": [
            "\u001b[0;31m---------------------------------------------------------------------------\u001b[0m",
            "\u001b[0;31mNameError\u001b[0m                                 Traceback (most recent call last)",
            "\u001b[0;32m<ipython-input-25-bb8d90735806>\u001b[0m in \u001b[0;36m<cell line: 0>\u001b[0;34m()\u001b[0m\n\u001b[1;32m      1\u001b[0m \u001b[0;31m#Let's convert the list of tuples to a dictionary\u001b[0m\u001b[0;34m\u001b[0m\u001b[0;34m\u001b[0m\u001b[0m\n\u001b[0;32m----> 2\u001b[0;31m \u001b[0mcountry_city_dict\u001b[0m\u001b[0;34m=\u001b[0m\u001b[0mdict\u001b[0m\u001b[0;34m(\u001b[0m\u001b[0mcountry_city_list\u001b[0m\u001b[0;34m)\u001b[0m\u001b[0;34m\u001b[0m\u001b[0;34m\u001b[0m\u001b[0m\n\u001b[0m\u001b[1;32m      3\u001b[0m \u001b[0mprint\u001b[0m\u001b[0;34m(\u001b[0m\u001b[0mcountry_city_dict\u001b[0m\u001b[0;34m)\u001b[0m\u001b[0;34m\u001b[0m\u001b[0;34m\u001b[0m\u001b[0m\n",
            "\u001b[0;31mNameError\u001b[0m: name 'country_city_list' is not defined"
          ]
        }
      ]
    },
    {
      "cell_type": "code",
      "source": [
        "country_city_dict={1:\"India\", 2:\"USA\"}\n",
        "for item in country_city_dict:\n",
        "  print(item, country_city_dict[item])"
      ],
      "metadata": {
        "colab": {
          "base_uri": "https://localhost:8080/"
        },
        "id": "KnXn1QTPmMvc",
        "outputId": "f65470ef-4c8e-4e0f-da06-b75f45c31ffa"
      },
      "execution_count": null,
      "outputs": [
        {
          "output_type": "stream",
          "name": "stdout",
          "text": [
            "1 India\n",
            "2 USA\n"
          ]
        }
      ]
    },
    {
      "cell_type": "code",
      "source": [
        "country_city_dict.items()"
      ],
      "metadata": {
        "colab": {
          "base_uri": "https://localhost:8080/"
        },
        "id": "lrV9Mdkgmj5a",
        "outputId": "2a8c8c73-b054-422a-86d5-59028b646e29"
      },
      "execution_count": null,
      "outputs": [
        {
          "output_type": "execute_result",
          "data": {
            "text/plain": [
              "dict_items([(1, 'India'), (2, 'USA')])"
            ]
          },
          "metadata": {},
          "execution_count": 27
        }
      ]
    },
    {
      "cell_type": "code",
      "source": [
        "for country, city in country_city_dict.items():\n",
        "  print(f\"The capital of {country} is {city}\")"
      ],
      "metadata": {
        "colab": {
          "base_uri": "https://localhost:8080/"
        },
        "id": "IjnSeccEmpkT",
        "outputId": "c5054fa7-025f-4189-c75e-739fac3f7771"
      },
      "execution_count": null,
      "outputs": [
        {
          "output_type": "stream",
          "name": "stdout",
          "text": [
            "The capital of 1 is India\n",
            "The capital of 2 is USA\n"
          ]
        }
      ]
    },
    {
      "cell_type": "code",
      "source": [
        "for elem in {1,2,3,4,5}:\n",
        "  print(elem)"
      ],
      "metadata": {
        "colab": {
          "base_uri": "https://localhost:8080/"
        },
        "id": "3GT8e5Jvm04v",
        "outputId": "142f457a-0cbd-43b3-ef46-0b767b729719"
      },
      "execution_count": null,
      "outputs": [
        {
          "output_type": "stream",
          "name": "stdout",
          "text": [
            "1\n",
            "2\n",
            "3\n",
            "4\n",
            "5\n"
          ]
        }
      ]
    },
    {
      "cell_type": "markdown",
      "source": [
        "#While Loops"
      ],
      "metadata": {
        "id": "7mFHOKkVm7Bg"
      }
    },
    {
      "cell_type": "markdown",
      "source": [
        "while test:\n",
        "  code statements"
      ],
      "metadata": {
        "id": "bhol3GRHm_Pb"
      }
    },
    {
      "cell_type": "code",
      "source": [
        "x=0\n",
        "while x<10:\n",
        "  print(\"x is currently: \",x)\n",
        "  print(\"x is still less than 10, adding 1 to x\")\n",
        "  x=x+1"
      ],
      "metadata": {
        "colab": {
          "base_uri": "https://localhost:8080/"
        },
        "id": "j7kWvueSS1uj",
        "outputId": "dc95c2d7-f71e-4bc7-dd66-a9b40ae0e56c"
      },
      "execution_count": 1,
      "outputs": [
        {
          "output_type": "stream",
          "name": "stdout",
          "text": [
            "x is currently:  0\n",
            "x is still less than 10, adding 1 to x\n",
            "x is currently:  1\n",
            "x is still less than 10, adding 1 to x\n",
            "x is currently:  2\n",
            "x is still less than 10, adding 1 to x\n",
            "x is currently:  3\n",
            "x is still less than 10, adding 1 to x\n",
            "x is currently:  4\n",
            "x is still less than 10, adding 1 to x\n",
            "x is currently:  5\n",
            "x is still less than 10, adding 1 to x\n",
            "x is currently:  6\n",
            "x is still less than 10, adding 1 to x\n",
            "x is currently:  7\n",
            "x is still less than 10, adding 1 to x\n",
            "x is currently:  8\n",
            "x is still less than 10, adding 1 to x\n",
            "x is currently:  9\n",
            "x is still less than 10, adding 1 to x\n"
          ]
        }
      ]
    },
    {
      "cell_type": "code",
      "source": [
        "x=0\n",
        "while x<5:\n",
        "  print(\"x is currently: \",x)\n",
        "  print(\"x is still less than 10, adding 1 to x\")\n",
        "  x=x+1\n",
        "\n",
        "print(\"Condition reached. Ending iteration.\")"
      ],
      "metadata": {
        "colab": {
          "base_uri": "https://localhost:8080/"
        },
        "id": "cmn6076KTIzz",
        "outputId": "6c048b23-07d7-43e3-9de6-ee829627d52a"
      },
      "execution_count": 2,
      "outputs": [
        {
          "output_type": "stream",
          "name": "stdout",
          "text": [
            "x is currently:  0\n",
            "x is still less than 10, adding 1 to x\n",
            "x is currently:  1\n",
            "x is still less than 10, adding 1 to x\n",
            "x is currently:  2\n",
            "x is still less than 10, adding 1 to x\n",
            "x is currently:  3\n",
            "x is still less than 10, adding 1 to x\n",
            "x is currently:  4\n",
            "x is still less than 10, adding 1 to x\n",
            "Condition reached. Ending iteration.\n"
          ]
        }
      ]
    },
    {
      "cell_type": "markdown",
      "source": [
        "break, continue, pass"
      ],
      "metadata": {
        "id": "2OwTAPP1TbBX"
      }
    },
    {
      "cell_type": "code",
      "source": [
        "#Using break and continue statements\n",
        "x=0\n",
        "\n",
        "while x<10:\n",
        "  print(\"x is currently: \",x)\n",
        "  print(\"x is still less than 10, adding 1 to x\")\n",
        "  x=x+1\n",
        "  if x==3:\n",
        "    print('x==3')\n",
        "    break\n",
        "  else:\n",
        "    print('continuing...')\n",
        "    continue"
      ],
      "metadata": {
        "colab": {
          "base_uri": "https://localhost:8080/"
        },
        "id": "lF1tiHrJTe9X",
        "outputId": "57a3e6ac-3330-43f4-ec13-8163d9903ce9"
      },
      "execution_count": 3,
      "outputs": [
        {
          "output_type": "stream",
          "name": "stdout",
          "text": [
            "x is currently:  0\n",
            "x is still less than 10, adding 1 to x\n",
            "continuing...\n",
            "x is currently:  1\n",
            "x is still less than 10, adding 1 to x\n",
            "continuing...\n",
            "x is currently:  2\n",
            "x is still less than 10, adding 1 to x\n",
            "x==3\n"
          ]
        }
      ]
    }
  ]
}