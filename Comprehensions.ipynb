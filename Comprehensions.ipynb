{
  "nbformat": 4,
  "nbformat_minor": 0,
  "metadata": {
    "colab": {
      "provenance": [],
      "authorship_tag": "ABX9TyNCmvaeqJsMgjUhLq2fq8eS",
      "include_colab_link": true
    },
    "kernelspec": {
      "name": "python3",
      "display_name": "Python 3"
    },
    "language_info": {
      "name": "python"
    }
  },
  "cells": [
    {
      "cell_type": "markdown",
      "metadata": {
        "id": "view-in-github",
        "colab_type": "text"
      },
      "source": [
        "<a href=\"https://colab.research.google.com/github/Programer1554/Data-Science-4-Sem/blob/main/Comprehensions.ipynb\" target=\"_parent\"><img src=\"https://colab.research.google.com/assets/colab-badge.svg\" alt=\"Open In Colab\"/></a>"
      ]
    },
    {
      "cell_type": "markdown",
      "source": [
        "#List Comprehensions"
      ],
      "metadata": {
        "id": "0nr6AB35UrUX"
      }
    },
    {
      "cell_type": "markdown",
      "source": [
        "From loops to comprehensions"
      ],
      "metadata": {
        "id": "X287J0EqU56B"
      }
    },
    {
      "cell_type": "code",
      "source": [
        "list_of_numbers = [1,2,4,6,11,14,17,20]\n",
        "#Let ys first initialize a list where we will be appending the squares in each iteration\n",
        "squares = []\n",
        "for number in list_of_numbers:\n",
        "  squares.append(number**2)\n",
        "print(f\"The list of squared numbers is {squares}\")"
      ],
      "metadata": {
        "colab": {
          "base_uri": "https://localhost:8080/"
        },
        "id": "yJRN_LgjU-dA",
        "outputId": "0407ebc7-ddb4-46b6-af2a-a0bf8756e62a"
      },
      "execution_count": null,
      "outputs": [
        {
          "output_type": "stream",
          "name": "stdout",
          "text": [
            "The list of squared numbers is [1, 4, 16, 36, 121, 196, 289, 400]\n"
          ]
        }
      ]
    },
    {
      "cell_type": "code",
      "source": [
        "#Getting the list of squares using list comprehension\n",
        "squares = [number**2 for number in list_of_numbers]\n",
        "print(squares)"
      ],
      "metadata": {
        "colab": {
          "base_uri": "https://localhost:8080/"
        },
        "id": "ugS1vsNFVj7K",
        "outputId": "8da85050-9be7-4903-9ead-4edcfe172482"
      },
      "execution_count": null,
      "outputs": [
        {
          "output_type": "stream",
          "name": "stdout",
          "text": [
            "[1, 4, 16, 36, 121, 196, 289, 400]\n"
          ]
        }
      ]
    },
    {
      "cell_type": "code",
      "source": [
        "#Writing list comprehension using conditions\n",
        "even_squares = [number**2 for number in list_of_numbers if number%2==0]\n",
        "print(even_squares)"
      ],
      "metadata": {
        "colab": {
          "base_uri": "https://localhost:8080/"
        },
        "id": "171Pjox0V0Nk",
        "outputId": "5983d879-0a3d-4d6f-e664-379cda4f1a3b"
      },
      "execution_count": null,
      "outputs": [
        {
          "output_type": "stream",
          "name": "stdout",
          "text": [
            "[4, 16, 36, 196, 400]\n"
          ]
        }
      ]
    },
    {
      "cell_type": "code",
      "source": [
        "odd_squares = [number**2 for number in list_of_numbers if number%2!=0]\n",
        "print(odd_squares)"
      ],
      "metadata": {
        "colab": {
          "base_uri": "https://localhost:8080/"
        },
        "id": "k3WESP4nWB8D",
        "outputId": "63391349-73ae-4612-f2f5-58488f222366"
      },
      "execution_count": null,
      "outputs": [
        {
          "output_type": "stream",
          "name": "stdout",
          "text": [
            "[1, 121, 289]\n"
          ]
        }
      ]
    },
    {
      "cell_type": "code",
      "source": [
        "new_numbers = [number**2 for number in list_of_numbers if number%2==0 else number**3]\n",
        "print(new_numbers)"
      ],
      "metadata": {
        "colab": {
          "base_uri": "https://localhost:8080/",
          "height": 124
        },
        "id": "iln4KQsvWFnb",
        "outputId": "4ec189c5-9c86-42dd-f15c-d618d04aebbd"
      },
      "execution_count": null,
      "outputs": [
        {
          "output_type": "error",
          "ename": "SyntaxError",
          "evalue": "invalid syntax (<ipython-input-5-bfc02e2d45c9>, line 1)",
          "traceback": [
            "\u001b[0;36m  File \u001b[0;32m\"<ipython-input-5-bfc02e2d45c9>\"\u001b[0;36m, line \u001b[0;32m1\u001b[0m\n\u001b[0;31m    new_numbers = [number**2 for number in list_of_numbers if number%2==0 else number**3]\u001b[0m\n\u001b[0m                                                                          ^\u001b[0m\n\u001b[0;31mSyntaxError\u001b[0m\u001b[0;31m:\u001b[0m invalid syntax\n"
          ]
        }
      ]
    },
    {
      "cell_type": "code",
      "source": [
        "odd_squared_numbers = [number**2 if number%2!=0 else number**3 for number in list_of_numbers]\n",
        "print(odd_squared_numbers)"
      ],
      "metadata": {
        "colab": {
          "base_uri": "https://localhost:8080/"
        },
        "id": "htkO2NmdWeyI",
        "outputId": "33a397b4-9c5a-4827-eddc-ed7dc1affd3e"
      },
      "execution_count": null,
      "outputs": [
        {
          "output_type": "stream",
          "name": "stdout",
          "text": [
            "[1, 8, 64, 216, 121, 2744, 289, 8000]\n"
          ]
        }
      ]
    },
    {
      "cell_type": "markdown",
      "source": [
        "Using for loop"
      ],
      "metadata": {
        "id": "DHFamLFGXN9s"
      }
    },
    {
      "cell_type": "code",
      "source": [
        "even_squares = []\n",
        "for number in list_of_numbers:\n",
        "  if number%2==0:\n",
        "    even_squares.append(number**2)\n",
        "print(even_squares)"
      ],
      "metadata": {
        "colab": {
          "base_uri": "https://localhost:8080/"
        },
        "id": "FX-3ip-rXQOB",
        "outputId": "8b2ddfdb-60cc-4816-eef0-a76306fa9124"
      },
      "execution_count": null,
      "outputs": [
        {
          "output_type": "stream",
          "name": "stdout",
          "text": [
            "[4, 16, 36, 196, 400]\n"
          ]
        }
      ]
    },
    {
      "cell_type": "code",
      "source": [
        "#Using list comprehension\n",
        "even_squares = [number**2 for number in list_of_numbers if number%2==0]\n",
        "print(even_squares)"
      ],
      "metadata": {
        "colab": {
          "base_uri": "https://localhost:8080/"
        },
        "id": "HwzvR8elXWOF",
        "outputId": "02d70437-86d7-4a53-f2f9-309e2fda2aad"
      },
      "execution_count": null,
      "outputs": [
        {
          "output_type": "stream",
          "name": "stdout",
          "text": [
            "[4, 16, 36, 196, 400]\n"
          ]
        }
      ]
    },
    {
      "cell_type": "markdown",
      "source": [
        "Writing list comprehensions for nested loops"
      ],
      "metadata": {
        "id": "fvUgO3OjXe0W"
      }
    },
    {
      "cell_type": "code",
      "source": [
        "list(range(4))"
      ],
      "metadata": {
        "colab": {
          "base_uri": "https://localhost:8080/"
        },
        "id": "ostKtzqGco7X",
        "outputId": "1c02531b-a7e6-4ff1-e39e-0b8fd0d06126"
      },
      "execution_count": null,
      "outputs": [
        {
          "output_type": "execute_result",
          "data": {
            "text/plain": [
              "[0, 1, 2, 3]"
            ]
          },
          "metadata": {},
          "execution_count": 9
        }
      ]
    },
    {
      "cell_type": "code",
      "source": [
        "list_of_numbers=[]\n",
        "for i in range(4):\n",
        "  for j in range(3):\n",
        "    list_of_numbers.append(j)\n",
        "print(list_of_numbers)"
      ],
      "metadata": {
        "colab": {
          "base_uri": "https://localhost:8080/"
        },
        "id": "OPX4GBRjmgBT",
        "outputId": "d98576c7-ceed-4ea8-cb91-fd2ce50a074a"
      },
      "execution_count": null,
      "outputs": [
        {
          "output_type": "stream",
          "name": "stdout",
          "text": [
            "[0, 1, 2, 0, 1, 2, 0, 1, 2, 0, 1, 2]\n"
          ]
        }
      ]
    },
    {
      "cell_type": "code",
      "source": [
        "#We can write it in a slightly different way\n",
        "list_of_numbers = [j for i in range(4) for j in range(3)]\n",
        "print(list_of_numbers)"
      ],
      "metadata": {
        "colab": {
          "base_uri": "https://localhost:8080/"
        },
        "id": "lsUBQe84mpq8",
        "outputId": "e001face-3bf7-49a3-d563-df231bc28a21"
      },
      "execution_count": null,
      "outputs": [
        {
          "output_type": "stream",
          "name": "stdout",
          "text": [
            "[0, 1, 2, 0, 1, 2, 0, 1, 2, 0, 1, 2]\n"
          ]
        }
      ]
    },
    {
      "cell_type": "code",
      "source": [
        "#Alternate way to write list comprehension\n",
        "list_of_numbers = [j for j in range(3) for i in range(4)]\n",
        "print(list_of_numbers)"
      ],
      "metadata": {
        "colab": {
          "base_uri": "https://localhost:8080/"
        },
        "id": "Is_aNTtmnf-w",
        "outputId": "668b3220-d109-4cc7-cb0c-6751ae9bd29c"
      },
      "execution_count": null,
      "outputs": [
        {
          "output_type": "stream",
          "name": "stdout",
          "text": [
            "[0, 0, 0, 0, 1, 1, 1, 1, 2, 2, 2, 2]\n"
          ]
        }
      ]
    },
    {
      "cell_type": "code",
      "source": [
        "sample = [[]]\n",
        "len(sample)\n",
        "sample[0]"
      ],
      "metadata": {
        "colab": {
          "base_uri": "https://localhost:8080/"
        },
        "id": "RgEkc4I3n0qJ",
        "outputId": "3d74630d-8b7f-4860-97d7-6ca555cf2456"
      },
      "execution_count": null,
      "outputs": [
        {
          "output_type": "execute_result",
          "data": {
            "text/plain": [
              "[]"
            ]
          },
          "metadata": {},
          "execution_count": 13
        }
      ]
    },
    {
      "cell_type": "code",
      "source": [
        "list_of_lists=[]\n",
        "for i in range(4):\n",
        "  list_of_lists.append([])\n",
        "  for j in range(3):\n",
        "    list_of_lists[i].append(j)\n",
        "print(list_of_lists)"
      ],
      "metadata": {
        "colab": {
          "base_uri": "https://localhost:8080/"
        },
        "id": "XCioCA5an9-R",
        "outputId": "cd9bc684-5874-43f9-cf55-d308a24c21eb"
      },
      "execution_count": null,
      "outputs": [
        {
          "output_type": "stream",
          "name": "stdout",
          "text": [
            "[[0, 1, 2], [0, 1, 2], [0, 1, 2], [0, 1, 2]]\n"
          ]
        }
      ]
    },
    {
      "cell_type": "code",
      "source": [
        "#Using list comprehension we can write the same thing\n",
        "list_of_lists = [[j for j in range(3)] for i in range(4)]\n",
        "print(list_of_lists)"
      ],
      "metadata": {
        "colab": {
          "base_uri": "https://localhost:8080/"
        },
        "id": "-GIWwUfeoMum",
        "outputId": "a92b64bc-2ee0-42a7-9485-92f076c76f3c"
      },
      "execution_count": null,
      "outputs": [
        {
          "output_type": "stream",
          "name": "stdout",
          "text": [
            "[[0, 1, 2], [0, 1, 2], [0, 1, 2], [0, 1, 2]]\n"
          ]
        }
      ]
    },
    {
      "cell_type": "code",
      "source": [
        "#Alternative\n",
        "list_of_lists = [[i for j in range(3)] for i in range(4)]\n",
        "print(list_of_lists)"
      ],
      "metadata": {
        "colab": {
          "base_uri": "https://localhost:8080/"
        },
        "id": "AUTuZoPEo4ZC",
        "outputId": "c154396a-a032-4c28-8f05-a5d0f6081112"
      },
      "execution_count": null,
      "outputs": [
        {
          "output_type": "stream",
          "name": "stdout",
          "text": [
            "[[0, 0, 0], [1, 1, 1], [2, 2, 2], [3, 3, 3]]\n"
          ]
        }
      ]
    },
    {
      "cell_type": "code",
      "source": [
        "hinsenberg_quote= \"It ceases to exist withput me. No, you clearly don't know who you're talking to, so let me clue you in. I am not in danger, Skyler. I am the danger.\"\n",
        "words_by_walter= hinsenberg_quote.split()\n",
        "print(words_by_walter)"
      ],
      "metadata": {
        "colab": {
          "base_uri": "https://localhost:8080/"
        },
        "id": "jwE0t8_0ireT",
        "outputId": "62374f80-f4f2-46a6-8a0e-f9d201f01b8c"
      },
      "execution_count": null,
      "outputs": [
        {
          "output_type": "stream",
          "name": "stdout",
          "text": [
            "['It', 'ceases', 'to', 'exist', 'withput', 'me.', 'No,', 'you', 'clearly', \"don't\", 'know', 'who', \"you're\", 'talking', 'to,', 'so', 'let', 'me', 'clue', 'you', 'in.', 'I', 'am', 'not', 'in', 'danger,', 'Skyler.', 'I', 'am', 'the', 'danger.']\n"
          ]
        }
      ]
    },
    {
      "cell_type": "code",
      "source": [
        "#Let us store the first letter of each word in another list\n",
        "first_letters = []\n",
        "for word in words_by_walter:\n",
        "  first_letters.append(word[0])\n",
        "print(first_letters)"
      ],
      "metadata": {
        "colab": {
          "base_uri": "https://localhost:8080/"
        },
        "id": "cGj7JWWqpmQ3",
        "outputId": "5e09b565-93e9-4ed0-cacb-4874ecf6564f"
      },
      "execution_count": null,
      "outputs": [
        {
          "output_type": "stream",
          "name": "stdout",
          "text": [
            "['I', 'c', 't', 'e', 'w', 'm', 'N', 'y', 'c', 'd', 'k', 'w', 'y', 't', 't', 's', 'l', 'm', 'c', 'y', 'i', 'I', 'a', 'n', 'i', 'd', 'S', 'I', 'a', 't', 'd']\n"
          ]
        }
      ]
    },
    {
      "cell_type": "code",
      "source": [
        "#The same task but with list comprehension\n",
        "first_letters = [word[0] for word in words_by_walter]\n",
        "print(first_letters)"
      ],
      "metadata": {
        "colab": {
          "base_uri": "https://localhost:8080/"
        },
        "id": "E_SUiqFtpv2T",
        "outputId": "42a14175-fed1-4fa4-d60e-105ee506f7a2"
      },
      "execution_count": null,
      "outputs": [
        {
          "output_type": "stream",
          "name": "stdout",
          "text": [
            "['I', 'c', 't', 'e', 'w', 'm', 'N', 'y', 'c', 'd', 'k', 'w', 'y', 't', 't', 's', 'l', 'm', 'c', 'y', 'i', 'I', 'a', 'n', 'i', 'd', 'S', 'I', 'a', 't', 'd']\n"
          ]
        }
      ]
    },
    {
      "cell_type": "code",
      "source": [
        "hinsenberg_quote.split(',')"
      ],
      "metadata": {
        "colab": {
          "base_uri": "https://localhost:8080/"
        },
        "id": "AR_aXWqPp2qp",
        "outputId": "e156cee1-a16e-4f84-d4ef-7338d07cec83"
      },
      "execution_count": null,
      "outputs": [
        {
          "output_type": "execute_result",
          "data": {
            "text/plain": [
              "['It ceases to exist withput me. No',\n",
              " \" you clearly don't know who you're talking to\",\n",
              " ' so let me clue you in. I am not in danger',\n",
              " ' Skyler. I am the danger.']"
            ]
          },
          "metadata": {},
          "execution_count": 21
        }
      ]
    },
    {
      "cell_type": "code",
      "source": [
        "#Let u store the first letter of each word in another list\n",
        "first_letters = []\n",
        "for word in words_by_walter:\n",
        "  first_letters.append(word[0])\n",
        "print(first_letters)"
      ],
      "metadata": {
        "colab": {
          "base_uri": "https://localhost:8080/"
        },
        "id": "erXhPAQlAlsG",
        "outputId": "79e31e5a-b37a-451d-8442-cd8ff2fbd06b"
      },
      "execution_count": null,
      "outputs": [
        {
          "output_type": "stream",
          "name": "stdout",
          "text": [
            "['I', 'c', 't', 'e', 'w', 'm', 'N', 'y', 'c', 'd', 'k', 'w', 'y', 't', 't', 's', 'l', 'm', 'c', 'y', 'i', 'I', 'a', 'n', 'i', 'd', 'S', 'I', 'a', 't', 'd']\n"
          ]
        }
      ]
    },
    {
      "cell_type": "code",
      "source": [
        "#The same task but now with list comprehension\n",
        "first_letters = [word[0] for word in words_by_walter]\n",
        "print(first_letters)"
      ],
      "metadata": {
        "colab": {
          "base_uri": "https://localhost:8080/"
        },
        "id": "Z_zi4AlgAstf",
        "outputId": "181a6438-2ba6-409b-a741-7a669f009b81"
      },
      "execution_count": null,
      "outputs": [
        {
          "output_type": "stream",
          "name": "stdout",
          "text": [
            "['I', 'c', 't', 'e', 'w', 'm', 'N', 'y', 'c', 'd', 'k', 'w', 'y', 't', 't', 's', 'l', 'm', 'c', 'y', 'i', 'I', 'a', 'n', 'i', 'd', 'S', 'I', 'a', 't', 'd']\n"
          ]
        }
      ]
    },
    {
      "cell_type": "code",
      "source": [
        "hinsenberg_quote.split(',')"
      ],
      "metadata": {
        "colab": {
          "base_uri": "https://localhost:8080/"
        },
        "id": "yB6nJqtFBB3x",
        "outputId": "80b5c7b3-5163-487f-dd90-e6aaf0c826e5"
      },
      "execution_count": null,
      "outputs": [
        {
          "output_type": "execute_result",
          "data": {
            "text/plain": [
              "['It ceases to exist withput me. No',\n",
              " \" you clearly don't know who you're talking to\",\n",
              " ' so let me clue you in. I am not in danger',\n",
              " ' Skyler. I am the danger.']"
            ]
          },
          "metadata": {},
          "execution_count": 24
        }
      ]
    },
    {
      "cell_type": "code",
      "source": [
        "my_string = 'Alphabet Inc.'\n",
        "list_of_characters = [char for char in my_string]\n",
        "print(list_of_characters)"
      ],
      "metadata": {
        "colab": {
          "base_uri": "https://localhost:8080/"
        },
        "id": "W5wdnuJzBD5j",
        "outputId": "c09f1c12-c9ed-4569-dd51-4a21be8baeb0"
      },
      "execution_count": null,
      "outputs": [
        {
          "output_type": "stream",
          "name": "stdout",
          "text": [
            "['A', 'l', 'p', 'h', 'a', 'b', 'e', 't', ' ', 'I', 'n', 'c', '.']\n"
          ]
        }
      ]
    },
    {
      "cell_type": "code",
      "source": [
        "#We can also use list comprehension to get a tuple as well\n",
        "#Suppose we have a tuple of days\n",
        "days = ('Monday', 'Tuesday', 'Wednesday', 'Thursday', 'Friday', 'Saturday', 'Sunday')\n",
        "tuple(day for day in days)"
      ],
      "metadata": {
        "colab": {
          "base_uri": "https://localhost:8080/"
        },
        "id": "d4Fll3aUBOqu",
        "outputId": "2cb708d9-6aba-4f4d-af89-09c8e340c9dc"
      },
      "execution_count": null,
      "outputs": [
        {
          "output_type": "execute_result",
          "data": {
            "text/plain": [
              "('Monday', 'Tuesday', 'Wednesday', 'Thursday', 'Friday', 'Saturday', 'Sunday')"
            ]
          },
          "metadata": {},
          "execution_count": 26
        }
      ]
    },
    {
      "cell_type": "code",
      "source": [
        "#Let us create a tuple where we want to remove the word 'day' from each tuple element\n",
        "days_without_day= tuple(day.replace('day', '') for day in days)\n",
        "print(days_without_day)"
      ],
      "metadata": {
        "colab": {
          "base_uri": "https://localhost:8080/"
        },
        "id": "XjjWXom6Bhav",
        "outputId": "86ce2234-9f96-43bd-d611-8792e45df928"
      },
      "execution_count": null,
      "outputs": [
        {
          "output_type": "stream",
          "name": "stdout",
          "text": [
            "('Mon', 'Tues', 'Wednes', 'Thurs', 'Fri', 'Satur', 'Sun')\n"
          ]
        }
      ]
    },
    {
      "cell_type": "markdown",
      "source": [
        "#Set Comprehension"
      ],
      "metadata": {
        "id": "EflPxzLlDyMi"
      }
    },
    {
      "cell_type": "code",
      "source": [
        "#Using a for loop\n",
        "first_letters = set()\n",
        "for word in words_by_walter:\n",
        "  first_letters.add(word[0])\n",
        "print(first_letters)"
      ],
      "metadata": {
        "colab": {
          "base_uri": "https://localhost:8080/"
        },
        "id": "HvBwzcY9D0_Y",
        "outputId": "805fdd1e-5d7f-44cd-f334-080dba73a348"
      },
      "execution_count": null,
      "outputs": [
        {
          "output_type": "stream",
          "name": "stdout",
          "text": [
            "{'m', 's', 'N', 'y', 'e', 'l', 'd', 'k', 'i', 'c', 'n', 'S', 't', 'w', 'a', 'I'}\n"
          ]
        }
      ]
    },
    {
      "cell_type": "code",
      "source": [
        "#Using set comprehension\n",
        "first_letters = {word[0] for word in words_by_walter}\n",
        "print(first_letters)"
      ],
      "metadata": {
        "colab": {
          "base_uri": "https://localhost:8080/"
        },
        "id": "KSq9xCqDdt2p",
        "outputId": "c16cb6f9-1cbb-4e8f-e2db-87590d19c9bb"
      },
      "execution_count": null,
      "outputs": [
        {
          "output_type": "stream",
          "name": "stdout",
          "text": [
            "{'m', 's', 'N', 'y', 'e', 'l', 'd', 'k', 'i', 'c', 'n', 'S', 't', 'w', 'a', 'I'}\n"
          ]
        }
      ]
    },
    {
      "cell_type": "markdown",
      "source": [
        "#Dictionary Comprehensions"
      ],
      "metadata": {
        "id": "AQD8PoH3d0LB"
      }
    },
    {
      "cell_type": "code",
      "source": [
        "county_city_list= [('India','New Delhi'),('Australia','Canberra'),('United States', \"Washington DC\"), ('England', 'London')]\n",
        "county_city_dict= dict(county_city_list)\n",
        "print(county_city_dict)"
      ],
      "metadata": {
        "colab": {
          "base_uri": "https://localhost:8080/"
        },
        "id": "lR4_5-aMd3ne",
        "outputId": "50a36689-d99d-47ad-cc3a-a501dc34c56d"
      },
      "execution_count": 1,
      "outputs": [
        {
          "output_type": "stream",
          "name": "stdout",
          "text": [
            "{'India': 'New Delhi', 'Australia': 'Canberra', 'United States': 'Washington DC', 'England': 'London'}\n"
          ]
        }
      ]
    },
    {
      "cell_type": "code",
      "source": [
        "#The conventional for loop approach\n",
        "flipped={}\n",
        "for county, city in county_city_dict.items():\n",
        "  flipped[city]= county\n",
        "print(flipped)"
      ],
      "metadata": {
        "id": "A552jt2G523x",
        "colab": {
          "base_uri": "https://localhost:8080/"
        },
        "outputId": "f0e4a922-6849-462a-fc63-cdcf405b23ed"
      },
      "execution_count": 5,
      "outputs": [
        {
          "output_type": "stream",
          "name": "stdout",
          "text": [
            "{'New Delhi': 'India', 'Canberra': 'Australia', 'Washington DC': 'United States', 'London': 'England'}\n"
          ]
        }
      ]
    },
    {
      "cell_type": "code",
      "source": [
        "#The new dictionary comprehension\n",
        "flipped= {city: county for county, city in county_city_dict.items()}\n",
        "print(flipped)"
      ],
      "metadata": {
        "colab": {
          "base_uri": "https://localhost:8080/"
        },
        "id": "PbLiXyMKekYN",
        "outputId": "24462beb-0fe0-4906-b516-d9f93a749541"
      },
      "execution_count": 6,
      "outputs": [
        {
          "output_type": "stream",
          "name": "stdout",
          "text": [
            "{'New Delhi': 'India', 'Canberra': 'Australia', 'Washington DC': 'United States', 'London': 'England'}\n"
          ]
        }
      ]
    },
    {
      "cell_type": "code",
      "source": [
        "#We can further add conditionals\n",
        "flipped= {city: county for county, city in county_city_dict.items() if county[0] in ['E', 'A']}\n",
        "print(flipped)"
      ],
      "metadata": {
        "colab": {
          "base_uri": "https://localhost:8080/"
        },
        "id": "feAOhLmdep_e",
        "outputId": "45c5bc1a-bd03-4165-e117-73dee04b079a"
      },
      "execution_count": 7,
      "outputs": [
        {
          "output_type": "stream",
          "name": "stdout",
          "text": [
            "{'Canberra': 'Australia', 'London': 'England'}\n"
          ]
        }
      ]
    },
    {
      "cell_type": "code",
      "source": [
        "#The new dictionary comprehension\n",
        "flipped= {county[:2]: city[-2] for county, city in county_city_dict.items()}\n",
        "print(flipped)"
      ],
      "metadata": {
        "colab": {
          "base_uri": "https://localhost:8080/"
        },
        "id": "pgb_bF2Fe67V",
        "outputId": "29079139-efd2-49f1-90b7-9122583a0eab"
      },
      "execution_count": 8,
      "outputs": [
        {
          "output_type": "stream",
          "name": "stdout",
          "text": [
            "{'In': 'h', 'Au': 'r', 'Un': 'D', 'En': 'o'}\n"
          ]
        }
      ]
    },
    {
      "cell_type": "code",
      "source": [
        "print(county_city_dict)"
      ],
      "metadata": {
        "colab": {
          "base_uri": "https://localhost:8080/"
        },
        "id": "XKcpqV0_fRQy",
        "outputId": "ceb87cea-34cb-402a-da53-c10531bd555d"
      },
      "execution_count": 9,
      "outputs": [
        {
          "output_type": "stream",
          "name": "stdout",
          "text": [
            "{'India': 'New Delhi', 'Australia': 'Canberra', 'United States': 'Washington DC', 'England': 'London'}\n"
          ]
        }
      ]
    }
  ]
}