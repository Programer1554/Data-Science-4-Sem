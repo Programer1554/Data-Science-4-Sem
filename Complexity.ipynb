{
  "nbformat": 4,
  "nbformat_minor": 0,
  "metadata": {
    "colab": {
      "provenance": [],
      "authorship_tag": "ABX9TyP/tuNMcJVZk0hlNMmcN4BM",
      "include_colab_link": true
    },
    "kernelspec": {
      "name": "python3",
      "display_name": "Python 3"
    },
    "language_info": {
      "name": "python"
    }
  },
  "cells": [
    {
      "cell_type": "markdown",
      "metadata": {
        "id": "view-in-github",
        "colab_type": "text"
      },
      "source": [
        "<a href=\"https://colab.research.google.com/github/Programer1554/Data-Science-4-Sem/blob/main/Complexity.ipynb\" target=\"_parent\"><img src=\"https://colab.research.google.com/assets/colab-badge.svg\" alt=\"Open In Colab\"/></a>"
      ]
    },
    {
      "cell_type": "markdown",
      "source": [
        "#Time Complexity"
      ],
      "metadata": {
        "id": "82mvIgc7Gso8"
      }
    },
    {
      "cell_type": "code",
      "source": [
        "integer_to_match=13\n",
        "list_to_search=[1,3,5,8,12,13,15,16,18,20,22,30,40,50,55,67]\n",
        "\n",
        "c=0\n",
        "for i in range(len(list_to_search)):\n",
        "  if integer_to_match==list_to_search[i]:\n",
        "    print(\"Match found at index: \", i)\n",
        "    break\n",
        "  c+=1\n",
        "print(c)"
      ],
      "metadata": {
        "id": "UIzb3ymHa5hO",
        "colab": {
          "base_uri": "https://localhost:8080/"
        },
        "outputId": "a198e9e4-38f5-4e72-d74c-e5bd49fc4d24"
      },
      "execution_count": 9,
      "outputs": [
        {
          "output_type": "stream",
          "name": "stdout",
          "text": [
            "Match found at index:  5\n",
            "5\n"
          ]
        }
      ]
    },
    {
      "cell_type": "code",
      "source": [
        "list_to_search.index(integer_to_match)"
      ],
      "metadata": {
        "colab": {
          "base_uri": "https://localhost:8080/"
        },
        "id": "GZkKIWfD3fzM",
        "outputId": "77128bb8-c8b1-44cf-8eb4-655a6b833b4d"
      },
      "execution_count": null,
      "outputs": [
        {
          "output_type": "execute_result",
          "data": {
            "text/plain": [
              "5"
            ]
          },
          "metadata": {},
          "execution_count": 2
        }
      ]
    },
    {
      "cell_type": "code",
      "source": [
        "list_to_search.sort()\n",
        "print(list_to_search)\n",
        "l=0\n",
        "r=len(list_to_search)-1\n",
        "c=0\n",
        "while l<r:\n",
        "  m=(l+r)//2\n",
        "  if list_to_search[m]==integer_to_match:\n",
        "    break\n",
        "  elif list_to_search[m]<integer_to_match:\n",
        "    l=m+1\n",
        "  else:\n",
        "    r=m-1\n",
        "  c+=1\n",
        "print(c)"
      ],
      "metadata": {
        "colab": {
          "base_uri": "https://localhost:8080/"
        },
        "id": "XSLZNtSo3kpJ",
        "outputId": "6bd690f1-12c0-43dd-ab3c-347a6b3b0657"
      },
      "execution_count": null,
      "outputs": [
        {
          "output_type": "stream",
          "name": "stdout",
          "text": [
            "[1, 3, 5, 8, 12, 13, 15, 16, 18, 20, 22, 30, 40, 50, 55, 67]\n",
            "2\n"
          ]
        }
      ]
    },
    {
      "cell_type": "code",
      "source": [
        "#Creating Binary search\n",
        "def binary_search(arr,low,high,x):\n",
        "  c=0\n",
        "  if high>=low:\n",
        "    mid=(high+low)//2\n",
        "    if arr[mid]==x:\n",
        "      return mid\n",
        "    elif arr[mid]>x:\n",
        "      return binary_search(arr,low,mid-1,x)\n",
        "    else:\n",
        "      return binary_search(arr,mid+1,high,x)\n",
        "  else:\n",
        "    return -1\n",
        "\n",
        "#Test Array\n",
        "integer_to_match=13\n",
        "list_to_search=[1,3,5,8,12,13,15,16,18,20,22,30,40,50,55,67]\n",
        "result=binary_search(list_to_search,0,len(list_to_search)-1,integer_to_match)\n",
        "print(\"Match found at index:\",str(result))"
      ],
      "metadata": {
        "colab": {
          "base_uri": "https://localhost:8080/"
        },
        "id": "zU9tm0Dm4BPI",
        "outputId": "da09f3dc-a42b-45ff-ce06-2546f72d9839"
      },
      "execution_count": null,
      "outputs": [
        {
          "output_type": "stream",
          "name": "stdout",
          "text": [
            "Match found at index: 5\n"
          ]
        }
      ]
    },
    {
      "cell_type": "code",
      "source": [
        "print(list_to_search[5]==integer_to_match)"
      ],
      "metadata": {
        "colab": {
          "base_uri": "https://localhost:8080/"
        },
        "id": "c8UXPDgK4w8x",
        "outputId": "1a96327d-07f2-4a9e-ca1c-25e9c306fb02"
      },
      "execution_count": null,
      "outputs": [
        {
          "output_type": "stream",
          "name": "stdout",
          "text": [
            "True\n"
          ]
        }
      ]
    },
    {
      "cell_type": "markdown",
      "source": [
        "#Space Complexity"
      ],
      "metadata": {
        "id": "xMGA975O429Y"
      }
    },
    {
      "cell_type": "code",
      "source": [
        "list_to_sum=[1,2,3,4,5,6,7]\n",
        "\n",
        "sum=0\n",
        "for i in range(len(list_to_sum)):\n",
        "  sum+=list_to_sum[i]\n",
        "print(sum)"
      ],
      "metadata": {
        "id": "rHEj1rWu451U",
        "colab": {
          "base_uri": "https://localhost:8080/"
        },
        "outputId": "dc251c38-247e-457c-ed00-2215461e2e50"
      },
      "execution_count": 10,
      "outputs": [
        {
          "output_type": "stream",
          "name": "stdout",
          "text": [
            "28\n"
          ]
        }
      ]
    },
    {
      "cell_type": "code",
      "source": [
        "sum=[]\n",
        "c=0\n",
        "for i in range(len(list_to_sum)):\n",
        "  if i==0:\n",
        "    sum.append(list_to_sum[i])\n",
        "  else:\n",
        "    sum.append(sum[-1]+list_to_sum[i])\n",
        "  c+=1\n",
        "print(c)"
      ],
      "metadata": {
        "colab": {
          "base_uri": "https://localhost:8080/"
        },
        "id": "FkGlV_giAetx",
        "outputId": "900db2da-16c3-4042-e0ba-a5fb607b7515"
      },
      "execution_count": 11,
      "outputs": [
        {
          "output_type": "stream",
          "name": "stdout",
          "text": [
            "7\n"
          ]
        }
      ]
    },
    {
      "cell_type": "code",
      "source": [
        "sum"
      ],
      "metadata": {
        "colab": {
          "base_uri": "https://localhost:8080/"
        },
        "id": "2j3_ZXFiA3AE",
        "outputId": "3811f484-361f-4c24-d0f0-632866a9c89f"
      },
      "execution_count": 12,
      "outputs": [
        {
          "output_type": "execute_result",
          "data": {
            "text/plain": [
              "[1, 3, 6, 10, 15, 21, 28]"
            ]
          },
          "metadata": {},
          "execution_count": 12
        }
      ]
    },
    {
      "cell_type": "code",
      "source": [
        "sum[-1]"
      ],
      "metadata": {
        "colab": {
          "base_uri": "https://localhost:8080/"
        },
        "id": "3UHQMZkTA4P-",
        "outputId": "394b6b2b-40d2-4193-da32-8096f230e64e"
      },
      "execution_count": 13,
      "outputs": [
        {
          "output_type": "execute_result",
          "data": {
            "text/plain": [
              "28"
            ]
          },
          "metadata": {},
          "execution_count": 13
        }
      ]
    },
    {
      "cell_type": "markdown",
      "source": [
        "Example"
      ],
      "metadata": {
        "id": "vZMdnSWuA6r3"
      }
    },
    {
      "cell_type": "code",
      "source": [
        "#Approach 1\n",
        "A=[1,11,4,9,16,2,23,45,77,15]\n",
        "B=[51,29,82,32,67,5,2,22,78,98]\n",
        "areas=[]\n",
        "c=0\n",
        "for a in A:\n",
        "  for b in B:\n",
        "    areas.append(a*b)\n",
        "    c+=1\n",
        "d=c\n",
        "print(d)"
      ],
      "metadata": {
        "colab": {
          "base_uri": "https://localhost:8080/"
        },
        "id": "6yLcH9J4A8zo",
        "outputId": "01765448-b487-4904-a118-0fa6f6a96c1d"
      },
      "execution_count": 14,
      "outputs": [
        {
          "output_type": "stream",
          "name": "stdout",
          "text": [
            "100\n"
          ]
        }
      ]
    },
    {
      "cell_type": "code",
      "source": [
        "max_area=0\n",
        "for area in areas:\n",
        "  if area>max_area:\n",
        "    max_area=area\n",
        "  d=d+1\n",
        "print(d)"
      ],
      "metadata": {
        "colab": {
          "base_uri": "https://localhost:8080/"
        },
        "id": "bCUt_4QtDGau",
        "outputId": "9c753b18-bda6-4d5d-b7e2-fa217e1dbe37"
      },
      "execution_count": 15,
      "outputs": [
        {
          "output_type": "stream",
          "name": "stdout",
          "text": [
            "200\n"
          ]
        }
      ]
    },
    {
      "cell_type": "code",
      "source": [
        "len(areas)"
      ],
      "metadata": {
        "colab": {
          "base_uri": "https://localhost:8080/"
        },
        "id": "Idb_HFFCDSYs",
        "outputId": "e67acd11-7578-4ade-d2f8-b55852fd45c4"
      },
      "execution_count": 16,
      "outputs": [
        {
          "output_type": "execute_result",
          "data": {
            "text/plain": [
              "100"
            ]
          },
          "metadata": {},
          "execution_count": 16
        }
      ]
    },
    {
      "cell_type": "code",
      "source": [
        "max_area"
      ],
      "metadata": {
        "colab": {
          "base_uri": "https://localhost:8080/"
        },
        "id": "CZxtIrCvDTww",
        "outputId": "c96212c3-8d22-497b-e9a5-cc37a8c93ad7"
      },
      "execution_count": 17,
      "outputs": [
        {
          "output_type": "execute_result",
          "data": {
            "text/plain": [
              "7546"
            ]
          },
          "metadata": {},
          "execution_count": 17
        }
      ]
    },
    {
      "cell_type": "code",
      "source": [
        "max(areas)"
      ],
      "metadata": {
        "colab": {
          "base_uri": "https://localhost:8080/"
        },
        "id": "-GKIciekDWso",
        "outputId": "a271e874-cd83-4b88-d69d-41d70e796019"
      },
      "execution_count": 18,
      "outputs": [
        {
          "output_type": "execute_result",
          "data": {
            "text/plain": [
              "7546"
            ]
          },
          "metadata": {},
          "execution_count": 18
        }
      ]
    },
    {
      "cell_type": "code",
      "source": [
        "#Approach 2\n",
        "A=[1,11,4,9,16,2,23,45,77,15]\n",
        "B=[51,29,82,32,67,5,2,22,78,98]\n",
        "e=0\n",
        "max_a=0\n",
        "for a in A:\n",
        "  if a>max_a:\n",
        "    max_a=a\n",
        "  e+=1\n",
        "\n",
        "max_b=0\n",
        "for b in B:\n",
        "  if b>max_b:\n",
        "    max_b=b\n",
        "  e+=1\n",
        "\n",
        "print(e)"
      ],
      "metadata": {
        "colab": {
          "base_uri": "https://localhost:8080/"
        },
        "id": "x5hV1KOzDYyw",
        "outputId": "7adf3d69-c729-4c75-85ed-3b01387fc528"
      },
      "execution_count": 19,
      "outputs": [
        {
          "output_type": "stream",
          "name": "stdout",
          "text": [
            "20\n"
          ]
        }
      ]
    },
    {
      "cell_type": "code",
      "source": [
        "max_a* max_b"
      ],
      "metadata": {
        "colab": {
          "base_uri": "https://localhost:8080/"
        },
        "id": "F2KoFVXEGaz7",
        "outputId": "8eb71485-d86e-43b0-9727-071f0033155b"
      },
      "execution_count": 20,
      "outputs": [
        {
          "output_type": "execute_result",
          "data": {
            "text/plain": [
              "7546"
            ]
          },
          "metadata": {},
          "execution_count": 20
        }
      ]
    }
  ]
}