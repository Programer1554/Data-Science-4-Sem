{
  "nbformat": 4,
  "nbformat_minor": 0,
  "metadata": {
    "colab": {
      "provenance": [],
      "authorship_tag": "ABX9TyPKayeaEaK2sxopyREcxArg",
      "include_colab_link": true
    },
    "kernelspec": {
      "name": "python3",
      "display_name": "Python 3"
    },
    "language_info": {
      "name": "python"
    }
  },
  "cells": [
    {
      "cell_type": "markdown",
      "metadata": {
        "id": "view-in-github",
        "colab_type": "text"
      },
      "source": [
        "<a href=\"https://colab.research.google.com/github/Programer1554/Data-Science-4-Sem/blob/main/NumPy1.ipynb\" target=\"_parent\"><img src=\"https://colab.research.google.com/assets/colab-badge.svg\" alt=\"Open In Colab\"/></a>"
      ]
    },
    {
      "cell_type": "code",
      "source": [
        "#Statement to import the NumPy library\n",
        "import numpy as np\n",
        "import math as math\n",
        "import sys\n",
        "\n",
        "#Creating our first array in Python\n",
        "my_array= np.array([1,2,3,4,5,6,7])\n",
        "\n",
        "type(my_array)"
      ],
      "metadata": {
        "colab": {
          "base_uri": "https://localhost:8080/"
        },
        "id": "8K4YFeGt__wX",
        "outputId": "930e02ad-8d50-437d-f97d-6c84567edc4a"
      },
      "execution_count": 1,
      "outputs": [
        {
          "output_type": "execute_result",
          "data": {
            "text/plain": [
              "numpy.ndarray"
            ]
          },
          "metadata": {},
          "execution_count": 1
        }
      ]
    },
    {
      "cell_type": "code",
      "source": [
        "my_array.shape"
      ],
      "metadata": {
        "colab": {
          "base_uri": "https://localhost:8080/"
        },
        "id": "c1S024UjAEik",
        "outputId": "8c06e4b0-b711-445c-e3b6-43263330bcf5"
      },
      "execution_count": 2,
      "outputs": [
        {
          "output_type": "execute_result",
          "data": {
            "text/plain": [
              "(7,)"
            ]
          },
          "metadata": {},
          "execution_count": 2
        }
      ]
    },
    {
      "cell_type": "code",
      "source": [
        "my_array.size"
      ],
      "metadata": {
        "colab": {
          "base_uri": "https://localhost:8080/"
        },
        "id": "6biVjMUBAIt_",
        "outputId": "d9ef4938-d3ad-4f4a-dfb5-c64ff2356e0a"
      },
      "execution_count": 3,
      "outputs": [
        {
          "output_type": "execute_result",
          "data": {
            "text/plain": [
              "7"
            ]
          },
          "metadata": {},
          "execution_count": 3
        }
      ]
    },
    {
      "cell_type": "code",
      "source": [
        "#One-dimensional array of some prime numbers\n",
        "prime_array= np.array([2,3,5,7,11,13,17,19,23,29], dtype=\"str\")\n",
        "print(prime_array)"
      ],
      "metadata": {
        "colab": {
          "base_uri": "https://localhost:8080/"
        },
        "id": "Rytsv9vEALnu",
        "outputId": "cb0c2980-81c3-4533-cec9-9ea6c9b63816"
      },
      "execution_count": 4,
      "outputs": [
        {
          "output_type": "stream",
          "name": "stdout",
          "text": [
            "['2' '3' '5' '7' '11' '13' '17' '19' '23' '29']\n"
          ]
        }
      ]
    },
    {
      "cell_type": "code",
      "source": [
        "type(prime_array[-1])"
      ],
      "metadata": {
        "colab": {
          "base_uri": "https://localhost:8080/"
        },
        "id": "A12ipmS-Ac_3",
        "outputId": "5ff0c990-ac13-4af1-927f-4c3077707777"
      },
      "execution_count": 5,
      "outputs": [
        {
          "output_type": "execute_result",
          "data": {
            "text/plain": [
              "numpy.str_"
            ]
          },
          "metadata": {},
          "execution_count": 5
        }
      ]
    },
    {
      "cell_type": "code",
      "source": [
        "type(prime_array)"
      ],
      "metadata": {
        "colab": {
          "base_uri": "https://localhost:8080/"
        },
        "id": "1hq63KK2AhOC",
        "outputId": "47ab358e-1409-4f2d-8942-daf424c4c480"
      },
      "execution_count": 6,
      "outputs": [
        {
          "output_type": "execute_result",
          "data": {
            "text/plain": [
              "numpy.ndarray"
            ]
          },
          "metadata": {},
          "execution_count": 6
        }
      ]
    },
    {
      "cell_type": "code",
      "source": [
        "#Creating a two-dimensional array\n",
        "another_array= np.array([[1,2,3],[4,5,6],[7,8,9]])\n",
        "print(another_array)"
      ],
      "metadata": {
        "colab": {
          "base_uri": "https://localhost:8080/"
        },
        "id": "lL8vG0jHAlbF",
        "outputId": "62637576-ee86-4572-ea2c-9db6000946c7"
      },
      "execution_count": 7,
      "outputs": [
        {
          "output_type": "stream",
          "name": "stdout",
          "text": [
            "[[1 2 3]\n",
            " [4 5 6]\n",
            " [7 8 9]]\n"
          ]
        }
      ]
    },
    {
      "cell_type": "code",
      "source": [
        "list_of_lists= [[1,2,3],[4,5,6],[7,8,9]]\n",
        "list_of_lists[1][0]"
      ],
      "metadata": {
        "colab": {
          "base_uri": "https://localhost:8080/"
        },
        "id": "enGRq9njAuH3",
        "outputId": "930d9860-fd16-4fae-9413-4dd373fe9e13"
      },
      "execution_count": 8,
      "outputs": [
        {
          "output_type": "execute_result",
          "data": {
            "text/plain": [
              "4"
            ]
          },
          "metadata": {},
          "execution_count": 8
        }
      ]
    },
    {
      "cell_type": "code",
      "source": [
        "#sklearn is an important library in Python for doing ML modeling\n",
        "#Importing the enitre library\n",
        "import sklearn as skl"
      ],
      "metadata": {
        "id": "cpLTN5VcA0rF"
      },
      "execution_count": 9,
      "outputs": []
    },
    {
      "cell_type": "code",
      "source": [
        "#Importing a specific module named datasets in sklearn library\n",
        "import sklearn.datasets as skd\n",
        "\n",
        "skd"
      ],
      "metadata": {
        "colab": {
          "base_uri": "https://localhost:8080/"
        },
        "id": "OsKapxglVqFb",
        "outputId": "42cd034d-a330-4d3a-8871-6d0559b3ae8e"
      },
      "execution_count": 10,
      "outputs": [
        {
          "output_type": "execute_result",
          "data": {
            "text/plain": [
              "<module 'sklearn.datasets' from '/usr/local/lib/python3.11/dist-packages/sklearn/datasets/__init__.py'>"
            ]
          },
          "metadata": {},
          "execution_count": 10
        }
      ]
    },
    {
      "cell_type": "code",
      "source": [
        "skd.load_wine()"
      ],
      "metadata": {
        "colab": {
          "base_uri": "https://localhost:8080/"
        },
        "id": "3kJr4kE8WHmr",
        "outputId": "0e00ebfb-ef62-4ac1-840c-21661032c85f"
      },
      "execution_count": 11,
      "outputs": [
        {
          "output_type": "execute_result",
          "data": {
            "text/plain": [
              "{'data': array([[1.423e+01, 1.710e+00, 2.430e+00, ..., 1.040e+00, 3.920e+00,\n",
              "         1.065e+03],\n",
              "        [1.320e+01, 1.780e+00, 2.140e+00, ..., 1.050e+00, 3.400e+00,\n",
              "         1.050e+03],\n",
              "        [1.316e+01, 2.360e+00, 2.670e+00, ..., 1.030e+00, 3.170e+00,\n",
              "         1.185e+03],\n",
              "        ...,\n",
              "        [1.327e+01, 4.280e+00, 2.260e+00, ..., 5.900e-01, 1.560e+00,\n",
              "         8.350e+02],\n",
              "        [1.317e+01, 2.590e+00, 2.370e+00, ..., 6.000e-01, 1.620e+00,\n",
              "         8.400e+02],\n",
              "        [1.413e+01, 4.100e+00, 2.740e+00, ..., 6.100e-01, 1.600e+00,\n",
              "         5.600e+02]]),\n",
              " 'target': array([0, 0, 0, 0, 0, 0, 0, 0, 0, 0, 0, 0, 0, 0, 0, 0, 0, 0, 0, 0, 0, 0,\n",
              "        0, 0, 0, 0, 0, 0, 0, 0, 0, 0, 0, 0, 0, 0, 0, 0, 0, 0, 0, 0, 0, 0,\n",
              "        0, 0, 0, 0, 0, 0, 0, 0, 0, 0, 0, 0, 0, 0, 0, 1, 1, 1, 1, 1, 1, 1,\n",
              "        1, 1, 1, 1, 1, 1, 1, 1, 1, 1, 1, 1, 1, 1, 1, 1, 1, 1, 1, 1, 1, 1,\n",
              "        1, 1, 1, 1, 1, 1, 1, 1, 1, 1, 1, 1, 1, 1, 1, 1, 1, 1, 1, 1, 1, 1,\n",
              "        1, 1, 1, 1, 1, 1, 1, 1, 1, 1, 1, 1, 1, 1, 1, 1, 1, 1, 1, 1, 2, 2,\n",
              "        2, 2, 2, 2, 2, 2, 2, 2, 2, 2, 2, 2, 2, 2, 2, 2, 2, 2, 2, 2, 2, 2,\n",
              "        2, 2, 2, 2, 2, 2, 2, 2, 2, 2, 2, 2, 2, 2, 2, 2, 2, 2, 2, 2, 2, 2,\n",
              "        2, 2]),\n",
              " 'frame': None,\n",
              " 'target_names': array(['class_0', 'class_1', 'class_2'], dtype='<U7'),\n",
              " 'DESCR': '.. _wine_dataset:\\n\\nWine recognition dataset\\n------------------------\\n\\n**Data Set Characteristics:**\\n\\n:Number of Instances: 178\\n:Number of Attributes: 13 numeric, predictive attributes and the class\\n:Attribute Information:\\n    - Alcohol\\n    - Malic acid\\n    - Ash\\n    - Alcalinity of ash\\n    - Magnesium\\n    - Total phenols\\n    - Flavanoids\\n    - Nonflavanoid phenols\\n    - Proanthocyanins\\n    - Color intensity\\n    - Hue\\n    - OD280/OD315 of diluted wines\\n    - Proline\\n    - class:\\n        - class_0\\n        - class_1\\n        - class_2\\n\\n:Summary Statistics:\\n\\n============================= ==== ===== ======= =====\\n                                Min   Max   Mean     SD\\n============================= ==== ===== ======= =====\\nAlcohol:                      11.0  14.8    13.0   0.8\\nMalic Acid:                   0.74  5.80    2.34  1.12\\nAsh:                          1.36  3.23    2.36  0.27\\nAlcalinity of Ash:            10.6  30.0    19.5   3.3\\nMagnesium:                    70.0 162.0    99.7  14.3\\nTotal Phenols:                0.98  3.88    2.29  0.63\\nFlavanoids:                   0.34  5.08    2.03  1.00\\nNonflavanoid Phenols:         0.13  0.66    0.36  0.12\\nProanthocyanins:              0.41  3.58    1.59  0.57\\nColour Intensity:              1.3  13.0     5.1   2.3\\nHue:                          0.48  1.71    0.96  0.23\\nOD280/OD315 of diluted wines: 1.27  4.00    2.61  0.71\\nProline:                       278  1680     746   315\\n============================= ==== ===== ======= =====\\n\\n:Missing Attribute Values: None\\n:Class Distribution: class_0 (59), class_1 (71), class_2 (48)\\n:Creator: R.A. Fisher\\n:Donor: Michael Marshall (MARSHALL%PLU@io.arc.nasa.gov)\\n:Date: July, 1988\\n\\nThis is a copy of UCI ML Wine recognition datasets.\\nhttps://archive.ics.uci.edu/ml/machine-learning-databases/wine/wine.data\\n\\nThe data is the results of a chemical analysis of wines grown in the same\\nregion in Italy by three different cultivators. There are thirteen different\\nmeasurements taken for different constituents found in the three types of\\nwine.\\n\\nOriginal Owners:\\n\\nForina, M. et al, PARVUS -\\nAn Extendible Package for Data Exploration, Classification and Correlation.\\nInstitute of Pharmaceutical and Food Analysis and Technologies,\\nVia Brigata Salerno, 16147 Genoa, Italy.\\n\\nCitation:\\n\\nLichman, M. (2013). UCI Machine Learning Repository\\n[https://archive.ics.uci.edu/ml]. Irvine, CA: University of California,\\nSchool of Information and Computer Science.\\n\\n.. dropdown:: References\\n\\n    (1) S. Aeberhard, D. Coomans and O. de Vel,\\n    Comparison of Classifiers in High Dimensional Settings,\\n    Tech. Rep. no. 92-02, (1992), Dept. of Computer Science and Dept. of\\n    Mathematics and Statistics, James Cook University of North Queensland.\\n    (Also submitted to Technometrics).\\n\\n    The data was used with many others for comparing various\\n    classifiers. The classes are separable, though only RDA\\n    has achieved 100% correct classification.\\n    (RDA : 100%, QDA 99.4%, LDA 98.9%, 1NN 96.1% (z-transformed data))\\n    (All results using the leave-one-out technique)\\n\\n    (2) S. Aeberhard, D. Coomans and O. de Vel,\\n    \"THE CLASSIFICATION PERFORMANCE OF RDA\"\\n    Tech. Rep. no. 92-01, (1992), Dept. of Computer Science and Dept. of\\n    Mathematics and Statistics, James Cook University of North Queensland.\\n    (Also submitted to Journal of Chemometrics).\\n',\n",
              " 'feature_names': ['alcohol',\n",
              "  'malic_acid',\n",
              "  'ash',\n",
              "  'alcalinity_of_ash',\n",
              "  'magnesium',\n",
              "  'total_phenols',\n",
              "  'flavanoids',\n",
              "  'nonflavanoid_phenols',\n",
              "  'proanthocyanins',\n",
              "  'color_intensity',\n",
              "  'hue',\n",
              "  'od280/od315_of_diluted_wines',\n",
              "  'proline']}"
            ]
          },
          "metadata": {},
          "execution_count": 11
        }
      ]
    },
    {
      "cell_type": "code",
      "source": [
        "#Back to arrays\n",
        "oned_array=np.array(range(0,10))\n",
        "oned_array"
      ],
      "metadata": {
        "colab": {
          "base_uri": "https://localhost:8080/"
        },
        "id": "xxg6EwojWPl6",
        "outputId": "e477c27d-1552-40b1-c0d1-ad043fb6e24b"
      },
      "execution_count": 12,
      "outputs": [
        {
          "output_type": "execute_result",
          "data": {
            "text/plain": [
              "array([0, 1, 2, 3, 4, 5, 6, 7, 8, 9])"
            ]
          },
          "metadata": {},
          "execution_count": 12
        }
      ]
    },
    {
      "cell_type": "code",
      "source": [
        "oned_array[5]"
      ],
      "metadata": {
        "colab": {
          "base_uri": "https://localhost:8080/"
        },
        "id": "I8w8248aWgIp",
        "outputId": "5d67f056-e5e5-4530-c76a-2eba0229efcd"
      },
      "execution_count": 13,
      "outputs": [
        {
          "output_type": "execute_result",
          "data": {
            "text/plain": [
              "5"
            ]
          },
          "metadata": {},
          "execution_count": 13
        }
      ]
    },
    {
      "cell_type": "code",
      "source": [
        "another_array=np.array([[1,2],[3,4]])\n",
        "another_array[1][0]"
      ],
      "metadata": {
        "colab": {
          "base_uri": "https://localhost:8080/"
        },
        "id": "3lmAgs__WjLl",
        "outputId": "38076696-f324-464c-9b8c-fc48bb784578"
      },
      "execution_count": 14,
      "outputs": [
        {
          "output_type": "execute_result",
          "data": {
            "text/plain": [
              "3"
            ]
          },
          "metadata": {},
          "execution_count": 14
        }
      ]
    },
    {
      "cell_type": "code",
      "source": [
        "another_array[1]"
      ],
      "metadata": {
        "colab": {
          "base_uri": "https://localhost:8080/"
        },
        "id": "rtT4dAkQWs6l",
        "outputId": "b6163679-5bf1-4450-906d-fe6a68eb1863"
      },
      "execution_count": 15,
      "outputs": [
        {
          "output_type": "execute_result",
          "data": {
            "text/plain": [
              "array([3, 4])"
            ]
          },
          "metadata": {},
          "execution_count": 15
        }
      ]
    },
    {
      "cell_type": "code",
      "source": [
        "another_array.shape"
      ],
      "metadata": {
        "colab": {
          "base_uri": "https://localhost:8080/"
        },
        "id": "hgL-2yvgWuoP",
        "outputId": "bffc13b5-8cf3-44a6-d6d1-b52f99d226d6"
      },
      "execution_count": 16,
      "outputs": [
        {
          "output_type": "execute_result",
          "data": {
            "text/plain": [
              "(2, 2)"
            ]
          },
          "metadata": {},
          "execution_count": 16
        }
      ]
    },
    {
      "cell_type": "code",
      "source": [
        "another_array[1:,1:]"
      ],
      "metadata": {
        "colab": {
          "base_uri": "https://localhost:8080/"
        },
        "id": "5g6Yg4ofWyMW",
        "outputId": "69d401f8-281e-47d5-a19e-afeb763441f1"
      },
      "execution_count": 17,
      "outputs": [
        {
          "output_type": "execute_result",
          "data": {
            "text/plain": [
              "array([[4]])"
            ]
          },
          "metadata": {},
          "execution_count": 17
        }
      ]
    },
    {
      "cell_type": "code",
      "source": [
        "twod_array=np.array([[1,2,3,4],[5,6,7,8]])\n",
        "twod_array.shape"
      ],
      "metadata": {
        "colab": {
          "base_uri": "https://localhost:8080/"
        },
        "id": "0rOozmvYW4Qc",
        "outputId": "d6cf6c47-28f5-4090-e024-2c8044938826"
      },
      "execution_count": 18,
      "outputs": [
        {
          "output_type": "execute_result",
          "data": {
            "text/plain": [
              "(2, 4)"
            ]
          },
          "metadata": {},
          "execution_count": 18
        }
      ]
    },
    {
      "cell_type": "code",
      "source": [
        "#Creating an image with pyplot\n",
        "import numpy as np\n",
        "import matplotlib.pyplot as plt\n",
        "\n",
        "#Defining dimensions\n",
        "height=100\n",
        "width=100\n",
        "\n",
        "#Creating a random colored image\n",
        "random_image=np.random.randint(0, 256, (height,width,3), dtype=np.uint8)\n",
        "\n",
        "#Print the matrix representing the image\n",
        "print(\"Matrix representing the random colored image:\")\n",
        "print(random_image)\n",
        "\n",
        "#Plotting the image\n",
        "plt.imshow(random_image)\n",
        "plt.title(\"Random colored image\")\n",
        "plt.axis('off')\n",
        "plt.show()"
      ],
      "metadata": {
        "colab": {
          "base_uri": "https://localhost:8080/",
          "height": 1000
        },
        "id": "KD8336zEXD73",
        "outputId": "5ea6b84d-e8bb-4c7e-970e-57f242f20360"
      },
      "execution_count": 19,
      "outputs": [
        {
          "output_type": "stream",
          "name": "stdout",
          "text": [
            "Matrix representing the random colored image:\n",
            "[[[231   4 205]\n",
            "  [224  71  33]\n",
            "  [199  45 206]\n",
            "  ...\n",
            "  [138  80  37]\n",
            "  [ 17  99 119]\n",
            "  [ 37  74 108]]\n",
            "\n",
            " [[ 39 211  44]\n",
            "  [ 13  43 102]\n",
            "  [238  60 232]\n",
            "  ...\n",
            "  [190 165  36]\n",
            "  [161  70  56]\n",
            "  [132  90  56]]\n",
            "\n",
            " [[ 45 219 178]\n",
            "  [ 46 147 221]\n",
            "  [198  99  11]\n",
            "  ...\n",
            "  [ 30 237 124]\n",
            "  [226 113  40]\n",
            "  [ 12 235 253]]\n",
            "\n",
            " ...\n",
            "\n",
            " [[ 18 228  71]\n",
            "  [139 199  64]\n",
            "  [207 219  61]\n",
            "  ...\n",
            "  [ 15  59 252]\n",
            "  [160 117 209]\n",
            "  [135  76  15]]\n",
            "\n",
            " [[216 231 225]\n",
            "  [123 241  15]\n",
            "  [ 60 111  20]\n",
            "  ...\n",
            "  [101  48  30]\n",
            "  [134 174 162]\n",
            "  [ 31  92  13]]\n",
            "\n",
            " [[137  54 180]\n",
            "  [138 176 167]\n",
            "  [102 212 118]\n",
            "  ...\n",
            "  [114 184 130]\n",
            "  [236 141  88]\n",
            "  [145 143 207]]]\n"
          ]
        },
        {
          "output_type": "display_data",
          "data": {
            "text/plain": [
              "<Figure size 640x480 with 1 Axes>"
            ],
            "image/png": "[encoded data removed]"
          },
          "metadata": {}
        }
      ]
    },
    {
      "cell_type": "code",
      "source": [
        "plt.imshow(random_image[:2,:2,:3])"
      ],
      "metadata": {
        "colab": {
          "base_uri": "https://localhost:8080/",
          "height": 452
        },
        "id": "IRcOMFS3ZDA0",
        "outputId": "2bd514ea-2c34-4507-9111-daa8000631bc"
      },
      "execution_count": 20,
      "outputs": [
        {
          "output_type": "execute_result",
          "data": {
            "text/plain": [
              "<matplotlib.image.AxesImage at 0x7c8838754750>"
            ]
          },
          "metadata": {},
          "execution_count": 20
        },
        {
          "output_type": "display_data",
          "data": {
            "text/plain": [
              "<Figure size 640x480 with 1 Axes>"
            ],
            "image/png": "[encoded data removed]"
          },
          "metadata": {}
        }
      ]
    },
    {
      "cell_type": "code",
      "source": [
        "#Creating a three-dimensional array\n",
        "three_d_array=np.array([[[1,2,3],[4,5,6]],[[7,8,9],[10,11,12]]])\n",
        "print(three_d_array)\n",
        "print(three_d_array.shape)"
      ],
      "metadata": {
        "colab": {
          "base_uri": "https://localhost:8080/"
        },
        "id": "z5lfcXEbZ8n6",
        "outputId": "2f6022d1-2ba7-4d4b-ddda-5a2b0bc08491"
      },
      "execution_count": 21,
      "outputs": [
        {
          "output_type": "stream",
          "name": "stdout",
          "text": [
            "[[[ 1  2  3]\n",
            "  [ 4  5  6]]\n",
            "\n",
            " [[ 7  8  9]\n",
            "  [10 11 12]]]\n",
            "(2, 2, 3)\n"
          ]
        }
      ]
    },
    {
      "cell_type": "code",
      "source": [
        "#Creating matrix\n",
        "matrix= np.random.randint(0,1,(50,50), dtype=np.uint8)\n",
        "matrix"
      ],
      "metadata": {
        "colab": {
          "base_uri": "https://localhost:8080/",
          "height": 91
        },
        "id": "ztJ742MMavzm",
        "outputId": "8e18a720-20f6-4a9a-dcd5-3dc8f2b9971e"
      },
      "execution_count": 22,
      "outputs": [
        {
          "output_type": "execute_result",
          "data": {
            "text/plain": [
              "array([[0, 0, 0, ..., 0, 0, 0],\n",
              "       [0, 0, 0, ..., 0, 0, 0],\n",
              "       [0, 0, 0, ..., 0, 0, 0],\n",
              "       ...,\n",
              "       [0, 0, 0, ..., 0, 0, 0],\n",
              "       [0, 0, 0, ..., 0, 0, 0],\n",
              "       [0, 0, 0, ..., 0, 0, 0]], dtype=uint8)"
            ],
            "text/html": [
              "<style>\n",
              "      .ndarray_repr .ndarray_raw_data {\n",
              "        display: none;\n",
              "      }\n",
              "      .ndarray_repr.show_array .ndarray_raw_data {\n",
              "        display: block;\n",
              "      }\n",
              "      .ndarray_repr.show_array .ndarray_image_preview {\n",
              "        display: none;\n",
              "      }\n",
              "      </style>\n",
              "      <div id=\"id-0851a6c0-0ad9-4629-902d-a174848402a5\" class=\"ndarray_repr\"><pre>ndarray (50, 50) <button style=\"padding: 0 2px;\">show data</button></pre><img src=\"data:image/png;base64,iVBORw0KGgoAAAANSUhEUgAAADIAAAAyCAAAAAA7VNdtAAAAGUlEQVR4nO3BAQ0AAADCoPdPbQ8HFAAA/wYJ9gAByjRWDQAAAABJRU5ErkJggg==\" class=\"ndarray_image_preview\" /><pre class=\"ndarray_raw_data\">array([[0, 0, 0, ..., 0, 0, 0],\n",
              "       [0, 0, 0, ..., 0, 0, 0],\n",
              "       [0, 0, 0, ..., 0, 0, 0],\n",
              "       ...,\n",
              "       [0, 0, 0, ..., 0, 0, 0],\n",
              "       [0, 0, 0, ..., 0, 0, 0],\n",
              "       [0, 0, 0, ..., 0, 0, 0]], dtype=uint8)</pre></div><script>\n",
              "      (() => {\n",
              "      const titles = ['show data', 'hide data'];\n",
              "      let index = 0\n",
              "      document.querySelector('#id-0851a6c0-0ad9-4629-902d-a174848402a5 button').onclick = (e) => {\n",
              "        document.querySelector('#id-0851a6c0-0ad9-4629-902d-a174848402a5').classList.toggle('show_array');\n",
              "        index = (++index) % 2;\n",
              "        document.querySelector('#id-0851a6c0-0ad9-4629-902d-a174848402a5 button').textContent = titles[index];\n",
              "        e.preventDefault();\n",
              "        e.stopPropagation();\n",
              "      }\n",
              "      })();\n",
              "    </script>"
            ]
          },
          "metadata": {},
          "execution_count": 22
        }
      ]
    },
    {
      "cell_type": "code",
      "source": [
        "plt.imshow(matrix[:,])\n",
        "plt.axis('off')\n",
        "plt.show()"
      ],
      "metadata": {
        "colab": {
          "base_uri": "https://localhost:8080/",
          "height": 406
        },
        "id": "7YhfigJLoGgD",
        "outputId": "8656ff0b-50e3-4182-d215-362111f9d12c"
      },
      "execution_count": 23,
      "outputs": [
        {
          "output_type": "display_data",
          "data": {
            "text/plain": [
              "<Figure size 640x480 with 1 Axes>"
            ],
            "image/png": "[encoded data removed]"
          },
          "metadata": {}
        }
      ]
    },
    {
      "cell_type": "code",
      "source": [
        "matrix.shape"
      ],
      "metadata": {
        "colab": {
          "base_uri": "https://localhost:8080/"
        },
        "id": "O-RUSd0KoUs1",
        "outputId": "d87d360d-4325-4cc2-e936-1313f7490551"
      },
      "execution_count": 24,
      "outputs": [
        {
          "output_type": "execute_result",
          "data": {
            "text/plain": [
              "(50, 50)"
            ]
          },
          "metadata": {},
          "execution_count": 24
        }
      ]
    },
    {
      "cell_type": "code",
      "source": [
        "matrix"
      ],
      "metadata": {
        "colab": {
          "base_uri": "https://localhost:8080/",
          "height": 91
        },
        "id": "cC9XYZSFoX1H",
        "outputId": "20cad5ce-c07f-4585-c642-4fba34a936c9"
      },
      "execution_count": 25,
      "outputs": [
        {
          "output_type": "execute_result",
          "data": {
            "text/plain": [
              "array([[0, 0, 0, ..., 0, 0, 0],\n",
              "       [0, 0, 0, ..., 0, 0, 0],\n",
              "       [0, 0, 0, ..., 0, 0, 0],\n",
              "       ...,\n",
              "       [0, 0, 0, ..., 0, 0, 0],\n",
              "       [0, 0, 0, ..., 0, 0, 0],\n",
              "       [0, 0, 0, ..., 0, 0, 0]], dtype=uint8)"
            ],
            "text/html": [
              "<style>\n",
              "      .ndarray_repr .ndarray_raw_data {\n",
              "        display: none;\n",
              "      }\n",
              "      .ndarray_repr.show_array .ndarray_raw_data {\n",
              "        display: block;\n",
              "      }\n",
              "      .ndarray_repr.show_array .ndarray_image_preview {\n",
              "        display: none;\n",
              "      }\n",
              "      </style>\n",
              "      <div id=\"id-44384d30-61b2-47b5-b5c6-506b8ddfe94f\" class=\"ndarray_repr\"><pre>ndarray (50, 50) <button style=\"padding: 0 2px;\">show data</button></pre><img src=\"data:image/png;base64,iVBORw0KGgoAAAANSUhEUgAAADIAAAAyCAAAAAA7VNdtAAAAGUlEQVR4nO3BAQ0AAADCoPdPbQ8HFAAA/wYJ9gAByjRWDQAAAABJRU5ErkJggg==\" class=\"ndarray_image_preview\" /><pre class=\"ndarray_raw_data\">array([[0, 0, 0, ..., 0, 0, 0],\n",
              "       [0, 0, 0, ..., 0, 0, 0],\n",
              "       [0, 0, 0, ..., 0, 0, 0],\n",
              "       ...,\n",
              "       [0, 0, 0, ..., 0, 0, 0],\n",
              "       [0, 0, 0, ..., 0, 0, 0],\n",
              "       [0, 0, 0, ..., 0, 0, 0]], dtype=uint8)</pre></div><script>\n",
              "      (() => {\n",
              "      const titles = ['show data', 'hide data'];\n",
              "      let index = 0\n",
              "      document.querySelector('#id-44384d30-61b2-47b5-b5c6-506b8ddfe94f button').onclick = (e) => {\n",
              "        document.querySelector('#id-44384d30-61b2-47b5-b5c6-506b8ddfe94f').classList.toggle('show_array');\n",
              "        index = (++index) % 2;\n",
              "        document.querySelector('#id-44384d30-61b2-47b5-b5c6-506b8ddfe94f button').textContent = titles[index];\n",
              "        e.preventDefault();\n",
              "        e.stopPropagation();\n",
              "      }\n",
              "      })();\n",
              "    </script>"
            ]
          },
          "metadata": {},
          "execution_count": 25
        }
      ]
    },
    {
      "cell_type": "markdown",
      "source": [
        "#RGB channels to create a colored image\n",
        "height*width= # of pixels"
      ],
      "metadata": {
        "id": "LC7i8OstogYY"
      }
    },
    {
      "cell_type": "code",
      "source": [
        "#Creating a black image\n",
        "import numpy as np\n",
        "import matplotlib.pyplot as plt\n",
        "\n",
        "#Defining dimensions\n",
        "height=100\n",
        "width=100\n",
        "\n",
        "#Creating a black image\n",
        "black_image=np.random.binomial(2, 0.5, (height,width))\n",
        "\n",
        "#Display the black image\n",
        "plt.imshow(black_image, cmap='gray')\n",
        "plt.axis('off')\n",
        "plt.show()"
      ],
      "metadata": {
        "colab": {
          "base_uri": "https://localhost:8080/",
          "height": 406
        },
        "id": "nXL9tOJ9o_6X",
        "outputId": "9bd4f7e0-842c-4c82-fcab-369b15f8f0c5"
      },
      "execution_count": 26,
      "outputs": [
        {
          "output_type": "display_data",
          "data": {
            "text/plain": [
              "<Figure size 640x480 with 1 Axes>"
            ],
            "image/png": "[encoded data removed]"
          },
          "metadata": {}
        }
      ]
    },
    {
      "cell_type": "code",
      "source": [
        "width=5\n",
        "height=5\n",
        "\n",
        "#Generating 3D matrix of random numbers\n",
        "matrix= np.random.randint(250,255,(height,width), dtype=np.uint8)\n",
        "\n",
        "#Display the image\n",
        "plt.imshow(matrix[:,])\n",
        "plt.axis('off')\n",
        "plt.show()"
      ],
      "metadata": {
        "colab": {
          "base_uri": "https://localhost:8080/",
          "height": 406
        },
        "id": "nAMdiJo3pZ_L",
        "outputId": "bb65f936-158f-4804-93b6-3f810331c4b6"
      },
      "execution_count": 27,
      "outputs": [
        {
          "output_type": "display_data",
          "data": {
            "text/plain": [
              "<Figure size 640x480 with 1 Axes>"
            ],
            "image/png": "[encoded data removed]"
          },
          "metadata": {}
        }
      ]
    },
    {
      "cell_type": "code",
      "source": [
        "matrix"
      ],
      "metadata": {
        "colab": {
          "base_uri": "https://localhost:8080/"
        },
        "id": "Bpay9s6ypzqS",
        "outputId": "92cb798c-3615-4de6-fd40-9f663d3ad889"
      },
      "execution_count": 28,
      "outputs": [
        {
          "output_type": "execute_result",
          "data": {
            "text/plain": [
              "array([[253, 250, 252, 254, 253],\n",
              "       [250, 251, 252, 250, 253],\n",
              "       [251, 250, 253, 254, 253],\n",
              "       [250, 251, 251, 253, 250],\n",
              "       [254, 254, 252, 251, 253]], dtype=uint8)"
            ]
          },
          "metadata": {},
          "execution_count": 28
        }
      ]
    },
    {
      "cell_type": "code",
      "source": [
        "matrix.shape"
      ],
      "metadata": {
        "colab": {
          "base_uri": "https://localhost:8080/"
        },
        "id": "7AoKN8gCp0lU",
        "outputId": "c3c362aa-c458-4692-cc20-44de565f25ca"
      },
      "execution_count": 29,
      "outputs": [
        {
          "output_type": "execute_result",
          "data": {
            "text/plain": [
              "(5, 5)"
            ]
          },
          "metadata": {},
          "execution_count": 29
        }
      ]
    },
    {
      "cell_type": "code",
      "source": [
        "matrix.size"
      ],
      "metadata": {
        "colab": {
          "base_uri": "https://localhost:8080/"
        },
        "id": "1fz9T3IqqAsR",
        "outputId": "db2d6562-7101-4ca2-ad85-e9d06dfd3684"
      },
      "execution_count": 30,
      "outputs": [
        {
          "output_type": "execute_result",
          "data": {
            "text/plain": [
              "25"
            ]
          },
          "metadata": {},
          "execution_count": 30
        }
      ]
    },
    {
      "cell_type": "code",
      "source": [
        "matrix[1:5,1:5]"
      ],
      "metadata": {
        "colab": {
          "base_uri": "https://localhost:8080/"
        },
        "id": "E6KylHPaqDe3",
        "outputId": "0cf3db9b-7881-4360-ac34-4ce9138157c4"
      },
      "execution_count": 31,
      "outputs": [
        {
          "output_type": "execute_result",
          "data": {
            "text/plain": [
              "array([[251, 252, 250, 253],\n",
              "       [250, 253, 254, 253],\n",
              "       [251, 251, 253, 250],\n",
              "       [254, 252, 251, 253]], dtype=uint8)"
            ]
          },
          "metadata": {},
          "execution_count": 31
        }
      ]
    },
    {
      "cell_type": "markdown",
      "source": [
        "#Array Inspection"
      ],
      "metadata": {
        "id": "7RVyzUfUqTLZ"
      }
    },
    {
      "cell_type": "code",
      "source": [
        "#1. ndarray.shape\n",
        "#Returns a tuple consisting of array dimensions and can be used to resize the array\n",
        "alma_array=np.array([[1,2,3],[4,5,6]])\n",
        "print(alma_array.shape)"
      ],
      "metadata": {
        "colab": {
          "base_uri": "https://localhost:8080/"
        },
        "id": "Dxygs1N_qcJX",
        "outputId": "afaadc84-753e-475b-9b77-3a9b2d1556b1"
      },
      "execution_count": 32,
      "outputs": [
        {
          "output_type": "stream",
          "name": "stdout",
          "text": [
            "(2, 3)\n"
          ]
        }
      ]
    },
    {
      "cell_type": "code",
      "source": [
        "#2. ndarray.ndim\n",
        "#This returns the number of array dimensions\n",
        "\n",
        "array_of_integers=np.array([0,1,2,3,4,5,6,7,8,9])\n",
        "print(\"Dimensions of 'array_of_integers'= \", array_of_integers.ndim)\n",
        "sample_2d_array=np.array([[1,2,3],[4,5,6]])\n",
        "print(\"Dimensions of 'sample_2d_array'= \", sample_2d_array.ndim)"
      ],
      "metadata": {
        "colab": {
          "base_uri": "https://localhost:8080/"
        },
        "id": "EM9VgJz8quoS",
        "outputId": "5b563c01-c7d6-4991-ef0d-c0bdb3c0a990"
      },
      "execution_count": 33,
      "outputs": [
        {
          "output_type": "stream",
          "name": "stdout",
          "text": [
            "Dimensions of 'array_of_integers'=  1\n",
            "Dimensions of 'sample_2d_array'=  2\n"
          ]
        }
      ]
    },
    {
      "cell_type": "code",
      "source": [
        "#3. ndarray.size\n",
        "#This returns the total number of elements in the array\n",
        "\n",
        "array_of_integers=np.array([0,1,2,3,4,5,6,7,8,9])\n",
        "print(f\"Total number of elements in 'array_of_integers'= {array_of_integers.size}\")\n",
        "sample_2d_array=np.array([[1,2,3],[4,5,6]])\n",
        "print(f\"Total number of elements in 'sample_2d_array'= {sample_2d_array.size}\")"
      ],
      "metadata": {
        "colab": {
          "base_uri": "https://localhost:8080/"
        },
        "id": "epxOPzJjrej3",
        "outputId": "eb7f21ae-5363-4683-869f-d21a4de7628b"
      },
      "execution_count": 34,
      "outputs": [
        {
          "output_type": "stream",
          "name": "stdout",
          "text": [
            "Total number of elements in 'array_of_integers'= 10\n",
            "Total number of elements in 'sample_2d_array'= 6\n"
          ]
        }
      ]
    },
    {
      "cell_type": "code",
      "source": [
        "#4. ndarray.dtype\n",
        "#This returns the data type of the array\n",
        "\n",
        "#Print the dtype of array\n",
        "my_array=np.array([1,2,3,4,5,6,7])\n",
        "print(my_array.dtype)"
      ],
      "metadata": {
        "id": "dx-GM374sHhd",
        "colab": {
          "base_uri": "https://localhost:8080/"
        },
        "outputId": "619457b0-a4fe-479c-c3e6-c1da90ccbcad"
      },
      "execution_count": 35,
      "outputs": [
        {
          "output_type": "stream",
          "name": "stdout",
          "text": [
            "int64\n"
          ]
        }
      ]
    },
    {
      "cell_type": "code",
      "source": [
        "my_list=[1,2,3,4,5,'abc']\n",
        "my_list"
      ],
      "metadata": {
        "colab": {
          "base_uri": "https://localhost:8080/"
        },
        "id": "9WKMUYCa0zrD",
        "outputId": "7f079774-da8a-4dd1-e59c-62a3f5e945fa"
      },
      "execution_count": 37,
      "outputs": [
        {
          "output_type": "execute_result",
          "data": {
            "text/plain": [
              "[1, 2, 3, 4, 5, 'abc']"
            ]
          },
          "metadata": {},
          "execution_count": 37
        }
      ]
    },
    {
      "cell_type": "code",
      "source": [
        "#Print the dtype of another array\n",
        "my_array=np.array([1,2,3,4,5,5.678,-6])\n",
        "print(my_array.dtype)"
      ],
      "metadata": {
        "colab": {
          "base_uri": "https://localhost:8080/"
        },
        "id": "z1twrxMV05WS",
        "outputId": "8ce5c3bd-31a4-412f-b5d2-1d5bbfa23e06"
      },
      "execution_count": 38,
      "outputs": [
        {
          "output_type": "stream",
          "name": "stdout",
          "text": [
            "float64\n"
          ]
        }
      ]
    },
    {
      "cell_type": "code",
      "source": [
        "my_array=np.array(['abd','bcd','abc'])\n",
        "print(my_array.dtype)"
      ],
      "metadata": {
        "colab": {
          "base_uri": "https://localhost:8080/"
        },
        "id": "nmAjpFTY1DCO",
        "outputId": "aae41d65-d1da-41f4-e8be-09245e249dd4"
      },
      "execution_count": 39,
      "outputs": [
        {
          "output_type": "stream",
          "name": "stdout",
          "text": [
            "<U3\n"
          ]
        }
      ]
    },
    {
      "cell_type": "code",
      "source": [
        "my_array"
      ],
      "metadata": {
        "colab": {
          "base_uri": "https://localhost:8080/"
        },
        "id": "NgWsy0vV1NAN",
        "outputId": "87606b20-3bef-48ed-d153-ce37b46317b2"
      },
      "execution_count": 40,
      "outputs": [
        {
          "output_type": "execute_result",
          "data": {
            "text/plain": [
              "array(['abd', 'bcd', 'abc'], dtype='<U3')"
            ]
          },
          "metadata": {},
          "execution_count": 40
        }
      ]
    },
    {
      "cell_type": "code",
      "source": [
        "#5. ndarray.astype\n",
        "#This changes the data type of an array\n",
        "\n",
        "#Create an array\n",
        "arravali= np.array([2,3,4])\n",
        "print(arravali)\n",
        "print(arravali.dtype)\n",
        "\n",
        "#Change the datatype of the array to float\n",
        "arravali_= arravali.astype(float)\n",
        "print(arravali_)\n",
        "print(arravali_.dtype)"
      ],
      "metadata": {
        "colab": {
          "base_uri": "https://localhost:8080/"
        },
        "id": "d8gB-Qj41OFB",
        "outputId": "7c07e4dd-1bbd-4832-e4e3-2933fcc32559"
      },
      "execution_count": 41,
      "outputs": [
        {
          "output_type": "stream",
          "name": "stdout",
          "text": [
            "[2 3 4]\n",
            "int64\n",
            "[2. 3. 4.]\n",
            "float64\n"
          ]
        }
      ]
    },
    {
      "cell_type": "code",
      "source": [
        "#Change the datatype of the array to string\n",
        "arravali_str= arravali.astype(str)\n",
        "print(arravali_str)\n",
        "print(arravali_str.dtype)"
      ],
      "metadata": {
        "colab": {
          "base_uri": "https://localhost:8080/"
        },
        "id": "Y7zzBpot3Eej",
        "outputId": "2e23f9b5-a277-4107-8a2e-6af0f49ca651"
      },
      "execution_count": 42,
      "outputs": [
        {
          "output_type": "stream",
          "name": "stdout",
          "text": [
            "['2' '3' '4']\n",
            "<U21\n"
          ]
        }
      ]
    },
    {
      "cell_type": "markdown",
      "source": [
        "#Why Numpy?\n",
        "Numpy data structures perform better in:\n",
        "\n",
        "\n",
        "*   Memory - Numpy data structures take up less space\n",
        "*   Performance - They have a need for speed and are faster than lists\n",
        "*   Functionality - SciPy and NumPy have optimized functions such as linear algebra operations built in.\n",
        "\n",
        "\n"
      ],
      "metadata": {
        "id": "bkXPuEyQ3Out"
      }
    },
    {
      "cell_type": "markdown",
      "source": [
        "#Memory"
      ],
      "metadata": {
        "id": "MiPOfTLn31Kc"
      }
    },
    {
      "cell_type": "code",
      "source": [
        "import numpy as np\n",
        "import sys\n",
        "\n",
        "#Declaring a list of 10 elements\n",
        "S= [0,1,2,3,4,5,6,7,8,9]\n",
        "print(\"Size of each element of list in bytes: \", sys.getsizeof(S))\n",
        "print(\"Size of the whole list in bytes: \", sys.getsizeof(S)*len(S))\n",
        "\n",
        "#Declaring a Numpy array of 10 elements\n",
        "D= np.array([0,1,2,3,4,5,6,7,8,9])\n",
        "print(\"Size of each element of the Numpy array in bytes: \", D.itemsize)\n",
        "print(\"Size of the whole Numpy array in bytes: \", D.size*D.itemsize)"
      ],
      "metadata": {
        "colab": {
          "base_uri": "https://localhost:8080/"
        },
        "id": "o9oKWze53401",
        "outputId": "e276c976-dd7e-4666-d360-382bc26414e0"
      },
      "execution_count": 43,
      "outputs": [
        {
          "output_type": "stream",
          "name": "stdout",
          "text": [
            "Size of each element of list in bytes:  136\n",
            "Size of the whole list in bytes:  1360\n",
            "Size of each element of the Numpy array in bytes:  8\n",
            "Size of the whole Numpy array in bytes:  80\n"
          ]
        }
      ]
    },
    {
      "cell_type": "code",
      "source": [
        "1360/80"
      ],
      "metadata": {
        "colab": {
          "base_uri": "https://localhost:8080/"
        },
        "id": "tEJFLijR5XC9",
        "outputId": "2e21bc51-d1ea-488c-ebc8-9f75ef2285c8"
      },
      "execution_count": 44,
      "outputs": [
        {
          "output_type": "execute_result",
          "data": {
            "text/plain": [
              "17.0"
            ]
          },
          "metadata": {},
          "execution_count": 44
        }
      ]
    },
    {
      "cell_type": "markdown",
      "source": [
        "#Performance"
      ],
      "metadata": {
        "id": "zzqUKsKq5aiU"
      }
    },
    {
      "cell_type": "markdown",
      "source": [
        "We want to check whether we can compare an operation on two list objects vs two array objects"
      ],
      "metadata": {
        "id": "tFu9Aw1U5dbU"
      }
    },
    {
      "cell_type": "code",
      "source": [
        "[(a * b) for a, b in zip([1,2,3], [4,5,6])]"
      ],
      "metadata": {
        "colab": {
          "base_uri": "https://localhost:8080/"
        },
        "id": "GVudPlpb5m3j",
        "outputId": "b0d52990-d65e-4cd3-8959-ecca00b68aca"
      },
      "execution_count": 45,
      "outputs": [
        {
          "output_type": "execute_result",
          "data": {
            "text/plain": [
              "[4, 10, 18]"
            ]
          },
          "metadata": {},
          "execution_count": 45
        }
      ]
    },
    {
      "cell_type": "code",
      "source": [
        "import time\n",
        "#size of arrays and lists\n",
        "size=10000000\n",
        "\n",
        "#declaring lists\n",
        "list1= range(size)\n",
        "list2= range(size)\n",
        "\n",
        "#declaring arrays\n",
        "array1= np.arange(size)\n",
        "array2= np.arange(size)\n",
        "\n",
        "#capturing time before the multiplication of Python lists\n",
        "initialTime= time.time()\n",
        "\n",
        "#multiplying elements of both the lists and stored in another list\n",
        "resultantList=[(a * b) for a, b in zip(list1, list2)]\n",
        "\n",
        "#calculating execution time\n",
        "print(\"Time taken by Lists to perform multiplication: \", (time.time()-initialTime)*1000, \"milliseconds\")\n",
        "\n",
        "#capturing time before the multiplication of NumPy arrays\n",
        "initialTime= time.time()\n",
        "\n",
        "#Multiplying elements of both the Numpy Arrays and stored in another NumPy array\n",
        "resultantArray= array1 * array2\n",
        "\n",
        "#calculating execution time\n",
        "print(\"Time taken by NumPy Arrays to perform multiplication: \", (time.time()-initialTime)*1000, \"milliseconds\")"
      ],
      "metadata": {
        "colab": {
          "base_uri": "https://localhost:8080/"
        },
        "id": "A0_u_Wdy595b",
        "outputId": "9859ccb4-c7ac-4362-88a0-d206cb4f9762"
      },
      "execution_count": 46,
      "outputs": [
        {
          "output_type": "stream",
          "name": "stdout",
          "text": [
            "Time taken by Lists to perform multiplication:  944.2908763885498 milliseconds\n",
            "Time taken by NumPy Arrays to perform multiplication:  45.84360122680664 milliseconds\n"
          ]
        }
      ]
    },
    {
      "cell_type": "code",
      "source": [
        "words= ['dentist', 'harbour', 'apple', 'jelly', 'example']\n",
        "initialTime= time.time()\n",
        "resultArray= [word for word in words if len(word)>5]\n",
        "print(\"Time taken by Lists to perform multiplication: \", (time.time()-initialTime)*1000, \"milliseconds\")"
      ],
      "metadata": {
        "colab": {
          "base_uri": "https://localhost:8080/"
        },
        "id": "eJpyYsYd7QNf",
        "outputId": "99392012-61b6-4166-ac04-44dc15de3fc1"
      },
      "execution_count": 47,
      "outputs": [
        {
          "output_type": "stream",
          "name": "stdout",
          "text": [
            "Time taken by Lists to perform multiplication:  0.12540817260742188 milliseconds\n"
          ]
        }
      ]
    },
    {
      "cell_type": "markdown",
      "source": [
        "#Functionality"
      ],
      "metadata": {
        "id": "Xa7WGtFXHiYg"
      }
    },
    {
      "cell_type": "code",
      "source": [
        "ls=[1,2,3]\n",
        "arr=np.array(ls)\n",
        "try:\n",
        "  arr=arr+4\n",
        "  print(\"Modified Numpy Array: \", arr)\n",
        "except(TypeError):\n",
        "  print(\"Numpy arrays don't support list + int\")"
      ],
      "metadata": {
        "colab": {
          "base_uri": "https://localhost:8080/"
        },
        "id": "nWySOqFPHk8M",
        "outputId": "6d4199e8-43fa-4038-ae06-3b936ecc02c2"
      },
      "execution_count": 48,
      "outputs": [
        {
          "output_type": "stream",
          "name": "stdout",
          "text": [
            "Modified Numpy Array:  [5 6 7]\n"
          ]
        }
      ]
    },
    {
      "cell_type": "markdown",
      "source": [
        "#Different ways of creating an ndarray"
      ],
      "metadata": {
        "id": "W_7SEneBH76N"
      }
    },
    {
      "cell_type": "markdown",
      "source": [
        "Uninitialized"
      ],
      "metadata": {
        "id": "znnh7THwACpP"
      }
    },
    {
      "cell_type": "code",
      "source": [
        "#Creating an uninitialized array of a specified shape\n",
        "uninitialized_array= np.empty([5,3], dtype=int)\n",
        "print(uninitialized_array)"
      ],
      "metadata": {
        "colab": {
          "base_uri": "https://localhost:8080/"
        },
        "id": "A2mc3m6XAHWY",
        "outputId": "4f0fb27c-5a4c-45fb-f894-2f73c0ce3aca"
      },
      "execution_count": 54,
      "outputs": [
        {
          "output_type": "stream",
          "name": "stdout",
          "text": [
            "[[  16067  106300  -48525]\n",
            " [ 272400 -260550  427368]\n",
            " [-260550  272400  -48525]\n",
            " [ 106300   16067       0]\n",
            " [      0       0       0]]\n"
          ]
        }
      ]
    },
    {
      "cell_type": "markdown",
      "source": [
        "Initialized with Zeros"
      ],
      "metadata": {
        "id": "3V-YnbuUAXUy"
      }
    },
    {
      "cell_type": "code",
      "source": [
        "#Initializing the array with zeros\n",
        "zeros_array= np.zeros((3,4))\n",
        "another_zeros_array= np.zeros((4,3), dtype=int)\n",
        "print(zeros_array)\n",
        "print(another_zeros_array)"
      ],
      "metadata": {
        "colab": {
          "base_uri": "https://localhost:8080/"
        },
        "id": "W1V3z3ckAauW",
        "outputId": "72cfa656-412d-4e53-83cd-5f3feb0c21e6"
      },
      "execution_count": 55,
      "outputs": [
        {
          "output_type": "stream",
          "name": "stdout",
          "text": [
            "[[0. 0. 0. 0.]\n",
            " [0. 0. 0. 0.]\n",
            " [0. 0. 0. 0.]]\n",
            "[[0 0 0]\n",
            " [0 0 0]\n",
            " [0 0 0]\n",
            " [0 0 0]]\n"
          ]
        }
      ]
    },
    {
      "cell_type": "code",
      "source": [
        "np.zeros((6,2))"
      ],
      "metadata": {
        "colab": {
          "base_uri": "https://localhost:8080/"
        },
        "id": "5wF0ER5pAqYB",
        "outputId": "ceee8ab4-8609-4902-807f-cb6fe8c0d337"
      },
      "execution_count": 56,
      "outputs": [
        {
          "output_type": "execute_result",
          "data": {
            "text/plain": [
              "array([[0., 0.],\n",
              "       [0., 0.],\n",
              "       [0., 0.],\n",
              "       [0., 0.],\n",
              "       [0., 0.],\n",
              "       [0., 0.]])"
            ]
          },
          "metadata": {},
          "execution_count": 56
        }
      ]
    },
    {
      "cell_type": "code",
      "source": [
        "zeros_array.dtype"
      ],
      "metadata": {
        "colab": {
          "base_uri": "https://localhost:8080/"
        },
        "id": "rA-bQ6nwAuWK",
        "outputId": "f19afdc4-f501-4a27-eca5-17e25b0c0a47"
      },
      "execution_count": 57,
      "outputs": [
        {
          "output_type": "execute_result",
          "data": {
            "text/plain": [
              "dtype('float64')"
            ]
          },
          "metadata": {},
          "execution_count": 57
        }
      ]
    },
    {
      "cell_type": "code",
      "source": [
        "np.zeros((3,4,2))"
      ],
      "metadata": {
        "colab": {
          "base_uri": "https://localhost:8080/"
        },
        "id": "T26pxEE_AyDQ",
        "outputId": "86a4d31e-0536-4438-f2ee-d6a0b881bb14"
      },
      "execution_count": 58,
      "outputs": [
        {
          "output_type": "execute_result",
          "data": {
            "text/plain": [
              "array([[[0., 0.],\n",
              "        [0., 0.],\n",
              "        [0., 0.],\n",
              "        [0., 0.]],\n",
              "\n",
              "       [[0., 0.],\n",
              "        [0., 0.],\n",
              "        [0., 0.],\n",
              "        [0., 0.]],\n",
              "\n",
              "       [[0., 0.],\n",
              "        [0., 0.],\n",
              "        [0., 0.],\n",
              "        [0., 0.]]])"
            ]
          },
          "metadata": {},
          "execution_count": 58
        }
      ]
    },
    {
      "cell_type": "markdown",
      "source": [
        "Initialized with ones"
      ],
      "metadata": {
        "id": "fZHR7EpKA3TS"
      }
    },
    {
      "cell_type": "code",
      "source": [
        "#Inializing the array with ones\n",
        "ones_array= np.ones((3,4))*50\n",
        "another_ones_array=np.ones((2,3), dtype=int)\n",
        "#print(ones_array)\n",
        "print(another_ones_array)"
      ],
      "metadata": {
        "colab": {
          "base_uri": "https://localhost:8080/"
        },
        "id": "3Mx7e983YoAl",
        "outputId": "a7d97135-3601-463c-f4fd-b4d3bf5ab1ea"
      },
      "execution_count": 60,
      "outputs": [
        {
          "output_type": "stream",
          "name": "stdout",
          "text": [
            "[[1 1 1]\n",
            " [1 1 1]]\n"
          ]
        }
      ]
    },
    {
      "cell_type": "code",
      "source": [
        "another_ones_array.dtype"
      ],
      "metadata": {
        "colab": {
          "base_uri": "https://localhost:8080/"
        },
        "id": "7-mqV4TTY9uC",
        "outputId": "559146ee-89bf-4845-aba4-d92650fe3a3a"
      },
      "execution_count": 62,
      "outputs": [
        {
          "output_type": "execute_result",
          "data": {
            "text/plain": [
              "dtype('int64')"
            ]
          },
          "metadata": {},
          "execution_count": 62
        }
      ]
    },
    {
      "cell_type": "code",
      "source": [
        "#int64 - a datatype to hold an integer number using a 64-bit representation\n",
        "#float64 - a datatype to hold a float point number (real number) using a 64-bit represention\n",
        "bunch_of_ones=np.ones((4,3))\n",
        "bunch_of_ones"
      ],
      "metadata": {
        "colab": {
          "base_uri": "https://localhost:8080/"
        },
        "id": "Tp7HJtWkZAE8",
        "outputId": "11442b1d-e902-4496-8db7-d7a6d11c2cc7"
      },
      "execution_count": 63,
      "outputs": [
        {
          "output_type": "execute_result",
          "data": {
            "text/plain": [
              "array([[1., 1., 1.],\n",
              "       [1., 1., 1.],\n",
              "       [1., 1., 1.],\n",
              "       [1., 1., 1.]])"
            ]
          },
          "metadata": {},
          "execution_count": 63
        }
      ]
    },
    {
      "cell_type": "code",
      "source": [
        "bunch_of_ones.shape= (2,6)\n",
        "bunch_of_ones"
      ],
      "metadata": {
        "colab": {
          "base_uri": "https://localhost:8080/"
        },
        "id": "jyZJNR4IZa5C",
        "outputId": "1df7da3e-7c95-4524-8d03-09ff739adc12"
      },
      "execution_count": 64,
      "outputs": [
        {
          "output_type": "execute_result",
          "data": {
            "text/plain": [
              "array([[1., 1., 1., 1., 1., 1.],\n",
              "       [1., 1., 1., 1., 1., 1.]])"
            ]
          },
          "metadata": {},
          "execution_count": 64
        }
      ]
    },
    {
      "cell_type": "markdown",
      "source": [
        "Array from numberical range"
      ],
      "metadata": {
        "id": "9UyGvq1OZgPj"
      }
    },
    {
      "cell_type": "code",
      "source": [
        "#Array with values from 0 to N\n",
        "range_array= np.arange(10)\n",
        "range_array"
      ],
      "metadata": {
        "colab": {
          "base_uri": "https://localhost:8080/"
        },
        "id": "He2OSy4OZpur",
        "outputId": "825acc67-38c0-4916-a62d-045a14f5f642"
      },
      "execution_count": 66,
      "outputs": [
        {
          "output_type": "execute_result",
          "data": {
            "text/plain": [
              "array([0, 1, 2, 3, 4, 5, 6, 7, 8, 9])"
            ]
          },
          "metadata": {},
          "execution_count": 66
        }
      ]
    },
    {
      "cell_type": "code",
      "source": [
        "#Set start and stop parameters\n",
        "#Parameters: np.linespace(start, stop, step, dtype)\n",
        "start_stop_array= np.arange(10,20,2)\n",
        "start_stop_array"
      ],
      "metadata": {
        "colab": {
          "base_uri": "https://localhost:8080/"
        },
        "id": "POyDA7wTd6b7",
        "outputId": "8a636c16-7447-4cd1-fafe-8ef8858354e2"
      },
      "execution_count": 67,
      "outputs": [
        {
          "output_type": "execute_result",
          "data": {
            "text/plain": [
              "array([10, 12, 14, 16, 18])"
            ]
          },
          "metadata": {},
          "execution_count": 67
        }
      ]
    },
    {
      "cell_type": "code",
      "source": [
        "#To get the number of evenly spaced values between intervals\n",
        "#Parameters: np.linespace(start, stop, num, endpoint, retstep, dtype)\n",
        "lineraly_spaced_array= np.linspace(10,20,9, endpoint=False, retstep=True)\n",
        "lineraly_spaced_array"
      ],
      "metadata": {
        "colab": {
          "base_uri": "https://localhost:8080/"
        },
        "id": "IOkIxPXEeG1O",
        "outputId": "28b03880-e31e-4fc7-b1c4-9d441a87142a"
      },
      "execution_count": 68,
      "outputs": [
        {
          "output_type": "execute_result",
          "data": {
            "text/plain": [
              "(array([10.        , 11.11111111, 12.22222222, 13.33333333, 14.44444444,\n",
              "        15.55555556, 16.66666667, 17.77777778, 18.88888889]),\n",
              " 1.1111111111111112)"
            ]
          },
          "metadata": {},
          "execution_count": 68
        }
      ]
    },
    {
      "cell_type": "markdown",
      "source": [
        "Array from random numbers"
      ],
      "metadata": {
        "id": "aje_h3IIgzUg"
      }
    },
    {
      "cell_type": "code",
      "source": [
        "#To get an array with random input elements of desired shape\n",
        "#Parameters: np.full(shape)\n",
        "random_array= np.random.normal(1,3,(4,3))\n",
        "print(random_array)"
      ],
      "metadata": {
        "colab": {
          "base_uri": "https://localhost:8080/"
        },
        "id": "8WJxisrJg3Ck",
        "outputId": "369ecc2a-c0c1-4044-fe93-836a0d5533d1"
      },
      "execution_count": 69,
      "outputs": [
        {
          "output_type": "stream",
          "name": "stdout",
          "text": [
            "[[-2.3631879  -3.79159992  0.74434906]\n",
            " [ 0.16468019  3.41103425  1.41235988]\n",
            " [ 0.46348767  1.57995506  3.31158114]\n",
            " [ 0.28359374  3.96779107 -1.82324727]]\n"
          ]
        }
      ]
    },
    {
      "cell_type": "code",
      "source": [
        "#To get an array with random input integral elements of desired shape\n",
        "#Parameters for the function - np.full(start, end, size)\n",
        "random_integral_array=np.random.randint(0,100,size=(3,4))\n",
        "print(random_integral_array)"
      ],
      "metadata": {
        "colab": {
          "base_uri": "https://localhost:8080/"
        },
        "id": "wBFTP2oChJ_l",
        "outputId": "f76c9368-97be-4d3f-a69d-2ec2d24acbd5"
      },
      "execution_count": 70,
      "outputs": [
        {
          "output_type": "stream",
          "name": "stdout",
          "text": [
            "[[12 14 63 38]\n",
            " [97 41  7 83]\n",
            " [66 35  0 73]]\n"
          ]
        }
      ]
    },
    {
      "cell_type": "markdown",
      "source": [
        "Array from specified numbers"
      ],
      "metadata": {
        "id": "_U19kiY-h5Ke"
      }
    },
    {
      "cell_type": "code",
      "source": [
        "#To get an array with specified input element of desired shape\n",
        "#Parameters: np.full(shape,value)\n",
        "a=np.full((3,3),100)\n",
        "print(a)"
      ],
      "metadata": {
        "colab": {
          "base_uri": "https://localhost:8080/"
        },
        "id": "l1pPr13Oh9wT",
        "outputId": "abdf650a-8ce0-4fe8-cbcf-49f5d9d3c37b"
      },
      "execution_count": 71,
      "outputs": [
        {
          "output_type": "stream",
          "name": "stdout",
          "text": [
            "[[100 100 100]\n",
            " [100 100 100]\n",
            " [100 100 100]]\n"
          ]
        }
      ]
    },
    {
      "cell_type": "code",
      "source": [
        "a=np.ones((3,3), dtype=int)*100\n",
        "print(a)"
      ],
      "metadata": {
        "colab": {
          "base_uri": "https://localhost:8080/"
        },
        "id": "77LwkmLBiNP6",
        "outputId": "9f521dc9-2d07-4162-b6ff-7bf996fc1cd4"
      },
      "execution_count": 72,
      "outputs": [
        {
          "output_type": "stream",
          "name": "stdout",
          "text": [
            "[[100 100 100]\n",
            " [100 100 100]\n",
            " [100 100 100]]\n"
          ]
        }
      ]
    },
    {
      "cell_type": "code",
      "source": [
        "#To get an identity matrix\n",
        "a=np.eye(5) #np.eye or np.identity can be used for identity matrix\n",
        "print(a)"
      ],
      "metadata": {
        "colab": {
          "base_uri": "https://localhost:8080/"
        },
        "id": "iyQD_ox3iVVd",
        "outputId": "1aafea84-3b83-43df-b2b7-a89475b9d3bb"
      },
      "execution_count": 76,
      "outputs": [
        {
          "output_type": "stream",
          "name": "stdout",
          "text": [
            "[[1. 0. 0. 0. 0.]\n",
            " [0. 1. 0. 0. 0.]\n",
            " [0. 0. 1. 0. 0.]\n",
            " [0. 0. 0. 1. 0.]\n",
            " [0. 0. 0. 0. 1.]]\n"
          ]
        }
      ]
    },
    {
      "cell_type": "markdown",
      "source": [
        "#Creating ndarray with existing data\n",
        "\n",
        "\n",
        "*   List to Ndarray\n",
        "*   Tupple to Ndarray\n",
        "\n"
      ],
      "metadata": {
        "id": "36XDMBQBisOe"
      }
    },
    {
      "cell_type": "code",
      "source": [
        "#convert list to array\n",
        "typical_list= [1,2,3,4,5]\n",
        "list_to_array= np.array(typical_list)\n",
        "print(list_to_array)"
      ],
      "metadata": {
        "colab": {
          "base_uri": "https://localhost:8080/"
        },
        "id": "CAWgG-idi8zE",
        "outputId": "b804fe23-0d41-4e46-dced-d3c232c35839"
      },
      "execution_count": 78,
      "outputs": [
        {
          "output_type": "stream",
          "name": "stdout",
          "text": [
            "[1 2 3 4 5]\n"
          ]
        }
      ]
    },
    {
      "cell_type": "code",
      "source": [
        "#Convert tuples to array\n",
        "typical_tuple= (1,2,3,4,5)\n",
        "tuple_to_array= np.array(typical_tuple)\n",
        "print(tuple_to_array)"
      ],
      "metadata": {
        "colab": {
          "base_uri": "https://localhost:8080/"
        },
        "id": "sPm7EKLyjC60",
        "outputId": "10743b1f-495c-4ec9-b5fa-1aba1033759b"
      },
      "execution_count": 79,
      "outputs": [
        {
          "output_type": "stream",
          "name": "stdout",
          "text": [
            "[1 2 3 4 5]\n"
          ]
        }
      ]
    },
    {
      "cell_type": "markdown",
      "source": [
        "#**Indexing and Slicing Arrays**"
      ],
      "metadata": {
        "id": "G8OFllUmjGfq"
      }
    },
    {
      "cell_type": "markdown",
      "source": [
        "**Slicing 1-D Arrays**"
      ],
      "metadata": {
        "id": "Ot9pZbgojKdF"
      }
    },
    {
      "cell_type": "code",
      "source": [
        "#retrieving elements from a 1-D array\n",
        "a= np.arange(10)\n",
        "a[5]"
      ],
      "metadata": {
        "colab": {
          "base_uri": "https://localhost:8080/"
        },
        "id": "fJtusmlGjX39",
        "outputId": "3ce7423c-7a3f-4857-8f74-6dd8fbdcbaf9"
      },
      "execution_count": 81,
      "outputs": [
        {
          "output_type": "execute_result",
          "data": {
            "text/plain": [
              "5"
            ]
          },
          "metadata": {},
          "execution_count": 81
        }
      ]
    },
    {
      "cell_type": "code",
      "source": [
        "#slice items between indexes\n",
        "a[2:5]"
      ],
      "metadata": {
        "colab": {
          "base_uri": "https://localhost:8080/"
        },
        "id": "NIfCiDRzjkKX",
        "outputId": "3e736dbd-e8aa-4574-8dca-aee8d0478f25"
      },
      "execution_count": 82,
      "outputs": [
        {
          "output_type": "execute_result",
          "data": {
            "text/plain": [
              "array([2, 3, 4])"
            ]
          },
          "metadata": {},
          "execution_count": 82
        }
      ]
    },
    {
      "cell_type": "code",
      "source": [
        "#slice items between indexes in steps\n",
        "a[::2]"
      ],
      "metadata": {
        "colab": {
          "base_uri": "https://localhost:8080/"
        },
        "id": "j8vFiNHZpHfl",
        "outputId": "cbf1132a-1df6-4b5a-8466-7d1d738599f2"
      },
      "execution_count": 83,
      "outputs": [
        {
          "output_type": "execute_result",
          "data": {
            "text/plain": [
              "array([0, 2, 4, 6, 8])"
            ]
          },
          "metadata": {},
          "execution_count": 83
        }
      ]
    },
    {
      "cell_type": "code",
      "source": [
        "#When certain parameters are unspecified\n",
        "a= np.arange(10)\n",
        "print(a[:6:2]) #Starting index is unspecified (default=0)\n",
        "print(a[1::2]) #Ending index is unspecified (default=array size)\n",
        "print(a[1:6:]) #Steps is unspecified (default=1)"
      ],
      "metadata": {
        "colab": {
          "base_uri": "https://localhost:8080/"
        },
        "id": "AGsMSDf9pQhQ",
        "outputId": "193dd6c1-bb3c-400c-8ade-7f4d60cadc02"
      },
      "execution_count": 84,
      "outputs": [
        {
          "output_type": "stream",
          "name": "stdout",
          "text": [
            "[0 2 4]\n",
            "[1 3 5 7 9]\n",
            "[1 2 3 4 5]\n"
          ]
        }
      ]
    },
    {
      "cell_type": "markdown",
      "source": [
        "**Slicing 2-D Arrays**"
      ],
      "metadata": {
        "id": "YlBee8pAx150"
      }
    },
    {
      "cell_type": "code",
      "source": [
        "#Retrieving elements from a 2-D array\n",
        "a=np.array([[1,2,3],[4,5,6],[7,8,9]])\n",
        "print(a)\n",
        "print(a[0:2])\n",
        "print(a[0:2,-2:])"
      ],
      "metadata": {
        "colab": {
          "base_uri": "https://localhost:8080/"
        },
        "id": "bd2a7QOMyCs5",
        "outputId": "59e2293a-c653-4d43-a064-c35c3d9ee908"
      },
      "execution_count": 86,
      "outputs": [
        {
          "output_type": "stream",
          "name": "stdout",
          "text": [
            "[[1 2 3]\n",
            " [4 5 6]\n",
            " [7 8 9]]\n",
            "[[1 2 3]\n",
            " [4 5 6]]\n",
            "[[2 3]\n",
            " [5 6]]\n"
          ]
        }
      ]
    },
    {
      "cell_type": "code",
      "source": [
        "#getting the 1st row\n",
        "a=np.array([[1,2,3],[4,5,6],[7,8,9]])\n",
        "print(a[0:1,:])\n",
        "\n",
        "#Getting the 1st row with steps in column\n",
        "a=np.array([[1,2,3],[4,5,6],[7,8,9]])\n",
        "print(a[0:1,1:2])"
      ],
      "metadata": {
        "colab": {
          "base_uri": "https://localhost:8080/"
        },
        "id": "my8g8_kQycDU",
        "outputId": "f9eadb9e-2da7-4329-ce98-b79e1539c46c"
      },
      "execution_count": 91,
      "outputs": [
        {
          "output_type": "stream",
          "name": "stdout",
          "text": [
            "[[1 2 3]]\n",
            "[[2]]\n"
          ]
        }
      ]
    },
    {
      "cell_type": "code",
      "source": [
        "#Getting the 1st column\n",
        "a=np.array([[1,2,3],[4,5,6],[7,8,9]])\n",
        "print(a)\n",
        "print(\"\\n\",a[:,0:1])"
      ],
      "metadata": {
        "colab": {
          "base_uri": "https://localhost:8080/"
        },
        "id": "X0_peS_Sy-Qm",
        "outputId": "13efacad-e03e-467e-c028-04dee0990da8"
      },
      "execution_count": 99,
      "outputs": [
        {
          "output_type": "stream",
          "name": "stdout",
          "text": [
            "[[1 2 3]\n",
            " [4 5 6]\n",
            " [7 8 9]]\n",
            "\n",
            " [[1]\n",
            " [4]\n",
            " [7]]\n"
          ]
        }
      ]
    },
    {
      "cell_type": "code",
      "source": [
        "#Getting the first column in steps\n",
        "a=np.array([[1,2,3],[4,5,6],[7,8,9]])\n",
        "print(a)\n",
        "print(\"\\n\",a[::2,0:1])"
      ],
      "metadata": {
        "colab": {
          "base_uri": "https://localhost:8080/"
        },
        "id": "L4vq9ayLzHPF",
        "outputId": "285e6428-9d74-4fe6-df0e-a0912d507872"
      },
      "execution_count": 98,
      "outputs": [
        {
          "output_type": "stream",
          "name": "stdout",
          "text": [
            "[[1 2 3]\n",
            " [4 5 6]\n",
            " [7 8 9]]\n",
            "\n",
            " [[1]\n",
            " [7]]\n"
          ]
        }
      ]
    },
    {
      "cell_type": "code",
      "source": [
        "#Getting arbitary values\n",
        "a=np.array([[1,2,3],[4,5,6],[7,8,9]])\n",
        "print(a)\n",
        "print(\"\\n\",a[0:2,1:3])"
      ],
      "metadata": {
        "colab": {
          "base_uri": "https://localhost:8080/"
        },
        "id": "OskojObR0xm7",
        "outputId": "cf6fa572-d439-47ce-e144-381dd4153346"
      },
      "execution_count": 97,
      "outputs": [
        {
          "output_type": "stream",
          "name": "stdout",
          "text": [
            "[[1 2 3]\n",
            " [4 5 6]\n",
            " [7 8 9]]\n",
            "\n",
            " [[2 3]\n",
            " [5 6]]\n"
          ]
        }
      ]
    },
    {
      "cell_type": "markdown",
      "source": [
        "**Slicing 3-D Arrays**"
      ],
      "metadata": {
        "id": "dNurdZ9T1MQ-"
      }
    },
    {
      "cell_type": "code",
      "source": [
        "#For 3-D array slicing the format is array[index,row,column]\n",
        "a=np.array([[[1,2],[3,4],[5,6]],\n",
        "             [[7,8],[9,10],[11,12]],\n",
        "             [[13,14],[15,16],[17,18]]])\n",
        "print(a)\n",
        "print(a[0:2])\n",
        "print(a[0:2,1:,1:])"
      ],
      "metadata": {
        "colab": {
          "base_uri": "https://localhost:8080/"
        },
        "id": "JERg2Msg_jzE",
        "outputId": "38e9f1ce-a55d-4ce5-886e-32873a6a5cf7"
      },
      "execution_count": 102,
      "outputs": [
        {
          "output_type": "stream",
          "name": "stdout",
          "text": [
            "[[[ 1  2]\n",
            "  [ 3  4]\n",
            "  [ 5  6]]\n",
            "\n",
            " [[ 7  8]\n",
            "  [ 9 10]\n",
            "  [11 12]]\n",
            "\n",
            " [[13 14]\n",
            "  [15 16]\n",
            "  [17 18]]]\n",
            "[[[ 1  2]\n",
            "  [ 3  4]\n",
            "  [ 5  6]]\n",
            "\n",
            " [[ 7  8]\n",
            "  [ 9 10]\n",
            "  [11 12]]]\n",
            "[[[ 4]\n",
            "  [ 6]]\n",
            "\n",
            " [[10]\n",
            "  [12]]]\n"
          ]
        }
      ]
    }
  ]
}